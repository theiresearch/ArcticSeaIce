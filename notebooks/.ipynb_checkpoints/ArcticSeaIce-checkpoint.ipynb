{
 "cells": [
  {
   "cell_type": "code",
   "execution_count": null,
   "metadata": {
    "cell_id": "77a20a0c739c44f384d70379e0e5e877",
    "deepnote_cell_height": 243,
    "deepnote_cell_type": "code",
    "deepnote_to_be_reexecuted": false,
    "execution_millis": 1458,
    "execution_start": 1650742167169,
    "owner_user_id": "7d6f594a-5bfd-498b-8b9b-b37a15193fbe",
    "source_hash": "67fd14f0",
    "tags": []
   },
   "outputs": [],
   "source": [
    "import pandas as pd\n",
    "from sklearn.model_selection import train_test_split\n",
    "import matplotlib.pyplot as plt\n",
    "import seaborn as sns # contains barplot\n",
    "from sklearn.metrics import r2_score, explained_variance_score, mean_squared_error, mean_absolute_error\n",
    "\n",
    "from sklearn.linear_model import LassoCV # lasso linear model with cross-validation\n",
    "from sklearn.ensemble import RandomForestRegressor # random forest\n",
    "from sklearn.ensemble import GradientBoostingRegressor # gradient boosting\n",
    "from sklearn.neural_network import MLPRegressor # multiplayer perceptron"
   ]
  },
  {
   "cell_type": "markdown",
   "metadata": {
    "cell_id": "110fd750be634445893327e5c4370e4c",
    "deepnote_cell_type": "text-cell-h1",
    "is_collapsed": false,
    "tags": []
   },
   "source": [
    "# Reading the data"
   ]
  },
  {
   "cell_type": "code",
   "execution_count": null,
   "metadata": {
    "cell_id": "43a283bf-dccf-4369-b1fb-0f01192c2572",
    "deepnote_cell_height": 431,
    "deepnote_cell_type": "code",
    "deepnote_to_be_reexecuted": false,
    "execution_millis": 78,
    "execution_start": 1650742168631,
    "source_hash": "e282f3aa",
    "tags": []
   },
   "outputs": [
    {
     "data": {
      "application/vnd.deepnote.dataframe.v3+json": {
       "column_count": 16,
       "columns": [
        {
         "dtype": "int64",
         "name": "observation",
         "stats": {
          "histogram": [
           {
            "bin_end": 1.4,
            "bin_start": 1,
            "count": 1
           },
           {
            "bin_end": 1.8,
            "bin_start": 1.4,
            "count": 0
           },
           {
            "bin_end": 2.2,
            "bin_start": 1.8,
            "count": 1
           },
           {
            "bin_end": 2.6,
            "bin_start": 2.2,
            "count": 0
           },
           {
            "bin_end": 3,
            "bin_start": 2.6,
            "count": 0
           },
           {
            "bin_end": 3.4000000000000004,
            "bin_start": 3,
            "count": 1
           },
           {
            "bin_end": 3.8000000000000003,
            "bin_start": 3.4000000000000004,
            "count": 0
           },
           {
            "bin_end": 4.2,
            "bin_start": 3.8000000000000003,
            "count": 1
           },
           {
            "bin_end": 4.6,
            "bin_start": 4.2,
            "count": 0
           },
           {
            "bin_end": 5,
            "bin_start": 4.6,
            "count": 1
           }
          ],
          "max": "5",
          "min": "1",
          "nan_count": 0,
          "unique_count": 5
         }
        },
        {
         "dtype": "int64",
         "name": "year",
         "stats": {
          "histogram": [
           {
            "bin_end": 1979.6,
            "bin_start": 1979.5,
            "count": 0
           },
           {
            "bin_end": 1979.7,
            "bin_start": 1979.6,
            "count": 0
           },
           {
            "bin_end": 1979.8,
            "bin_start": 1979.7,
            "count": 0
           },
           {
            "bin_end": 1979.9,
            "bin_start": 1979.8,
            "count": 0
           },
           {
            "bin_end": 1980,
            "bin_start": 1979.9,
            "count": 0
           },
           {
            "bin_end": 1980.1,
            "bin_start": 1980,
            "count": 5
           },
           {
            "bin_end": 1980.2,
            "bin_start": 1980.1,
            "count": 0
           },
           {
            "bin_end": 1980.3,
            "bin_start": 1980.2,
            "count": 0
           },
           {
            "bin_end": 1980.4,
            "bin_start": 1980.3,
            "count": 0
           },
           {
            "bin_end": 1980.5,
            "bin_start": 1980.4,
            "count": 0
           }
          ],
          "max": "1980",
          "min": "1980",
          "nan_count": 0,
          "unique_count": 1
         }
        },
        {
         "dtype": "int64",
         "name": "month",
         "stats": {
          "histogram": [
           {
            "bin_end": 1.4,
            "bin_start": 1,
            "count": 1
           },
           {
            "bin_end": 1.8,
            "bin_start": 1.4,
            "count": 0
           },
           {
            "bin_end": 2.2,
            "bin_start": 1.8,
            "count": 1
           },
           {
            "bin_end": 2.6,
            "bin_start": 2.2,
            "count": 0
           },
           {
            "bin_end": 3,
            "bin_start": 2.6,
            "count": 0
           },
           {
            "bin_end": 3.4000000000000004,
            "bin_start": 3,
            "count": 1
           },
           {
            "bin_end": 3.8000000000000003,
            "bin_start": 3.4000000000000004,
            "count": 0
           },
           {
            "bin_end": 4.2,
            "bin_start": 3.8000000000000003,
            "count": 1
           },
           {
            "bin_end": 4.6,
            "bin_start": 4.2,
            "count": 0
           },
           {
            "bin_end": 5,
            "bin_start": 4.6,
            "count": 1
           }
          ],
          "max": "5",
          "min": "1",
          "nan_count": 0,
          "unique_count": 5
         }
        },
        {
         "dtype": "object",
         "name": "date",
         "stats": {
          "categories": [
           {
            "count": 1,
            "name": "1980-01-01"
           },
           {
            "count": 1,
            "name": "1980-02-01"
           },
           {
            "count": 3,
            "name": "3 others"
           }
          ],
          "nan_count": 0,
          "unique_count": 5
         }
        },
        {
         "dtype": "float64",
         "name": "Extent",
         "stats": {
          "histogram": [
           {
            "bin_end": 0.834,
            "bin_start": 0.816,
            "count": 1
           },
           {
            "bin_end": 0.852,
            "bin_start": 0.834,
            "count": 0
           },
           {
            "bin_end": 0.87,
            "bin_start": 0.852,
            "count": 0
           },
           {
            "bin_end": 0.888,
            "bin_start": 0.87,
            "count": 0
           },
           {
            "bin_end": 0.9059999999999999,
            "bin_start": 0.888,
            "count": 1
           },
           {
            "bin_end": 0.9239999999999999,
            "bin_start": 0.9059999999999999,
            "count": 0
           },
           {
            "bin_end": 0.942,
            "bin_start": 0.9239999999999999,
            "count": 0
           },
           {
            "bin_end": 0.96,
            "bin_start": 0.942,
            "count": 1
           },
           {
            "bin_end": 0.978,
            "bin_start": 0.96,
            "count": 0
           },
           {
            "bin_end": 0.996,
            "bin_start": 0.978,
            "count": 2
           }
          ],
          "max": "0.996",
          "min": "0.816",
          "nan_count": 0,
          "unique_count": 5
         }
        },
        {
         "dtype": "float64",
         "name": "Rainfall",
         "stats": {
          "histogram": [
           {
            "bin_end": 0.02,
            "bin_start": 0,
            "count": 1
           },
           {
            "bin_end": 0.04,
            "bin_start": 0.02,
            "count": 0
           },
           {
            "bin_end": 0.06,
            "bin_start": 0.04,
            "count": 1
           },
           {
            "bin_end": 0.08,
            "bin_start": 0.06,
            "count": 0
           },
           {
            "bin_end": 0.1,
            "bin_start": 0.08,
            "count": 0
           },
           {
            "bin_end": 0.12,
            "bin_start": 0.1,
            "count": 2
           },
           {
            "bin_end": 0.14,
            "bin_start": 0.12,
            "count": 0
           },
           {
            "bin_end": 0.16,
            "bin_start": 0.14,
            "count": 0
           },
           {
            "bin_end": 0.18,
            "bin_start": 0.16,
            "count": 0
           },
           {
            "bin_end": 0.2,
            "bin_start": 0.18,
            "count": 1
           }
          ],
          "max": "0.2",
          "min": "0.0",
          "nan_count": 0,
          "unique_count": 4
         }
        },
        {
         "dtype": "float64",
         "name": "Daylight",
         "stats": {
          "histogram": [
           {
            "bin_end": 0.15710000000000002,
            "bin_start": 0.08,
            "count": 1
           },
           {
            "bin_end": 0.23420000000000002,
            "bin_start": 0.15710000000000002,
            "count": 0
           },
           {
            "bin_end": 0.3113,
            "bin_start": 0.23420000000000002,
            "count": 1
           },
           {
            "bin_end": 0.3884,
            "bin_start": 0.3113,
            "count": 0
           },
           {
            "bin_end": 0.4655,
            "bin_start": 0.3884,
            "count": 1
           },
           {
            "bin_end": 0.5426,
            "bin_start": 0.4655,
            "count": 0
           },
           {
            "bin_end": 0.6197,
            "bin_start": 0.5426,
            "count": 0
           },
           {
            "bin_end": 0.6968,
            "bin_start": 0.6197,
            "count": 1
           },
           {
            "bin_end": 0.7738999999999999,
            "bin_start": 0.6968,
            "count": 0
           },
           {
            "bin_end": 0.851,
            "bin_start": 0.7738999999999999,
            "count": 1
           }
          ],
          "max": "0.851",
          "min": "0.08",
          "nan_count": 0,
          "unique_count": 5
         }
        },
        {
         "dtype": "float64",
         "name": "Population",
         "stats": {
          "histogram": [
           {
            "bin_end": 0.0007900000000000001,
            "bin_start": 0,
            "count": 1
           },
           {
            "bin_end": 0.0015800000000000002,
            "bin_start": 0.0007900000000000001,
            "count": 0
           },
           {
            "bin_end": 0.0023700000000000006,
            "bin_start": 0.0015800000000000002,
            "count": 1
           },
           {
            "bin_end": 0.0031600000000000005,
            "bin_start": 0.0023700000000000006,
            "count": 0
           },
           {
            "bin_end": 0.00395,
            "bin_start": 0.0031600000000000005,
            "count": 0
           },
           {
            "bin_end": 0.004740000000000001,
            "bin_start": 0.00395,
            "count": 1
           },
           {
            "bin_end": 0.005530000000000001,
            "bin_start": 0.004740000000000001,
            "count": 0
           },
           {
            "bin_end": 0.006320000000000001,
            "bin_start": 0.005530000000000001,
            "count": 1
           },
           {
            "bin_end": 0.007110000000000001,
            "bin_start": 0.006320000000000001,
            "count": 0
           },
           {
            "bin_end": 0.0079,
            "bin_start": 0.007110000000000001,
            "count": 1
           }
          ],
          "max": "0.0079",
          "min": "0.0",
          "nan_count": 0,
          "unique_count": 5
         }
        },
        {
         "dtype": "float64",
         "name": "CO2",
         "stats": {
          "histogram": [
           {
            "bin_end": 0.026054,
            "bin_start": 0.02163,
            "count": 1
           },
           {
            "bin_end": 0.030477999999999998,
            "bin_start": 0.026054,
            "count": 1
           },
           {
            "bin_end": 0.034902,
            "bin_start": 0.030477999999999998,
            "count": 0
           },
           {
            "bin_end": 0.039326,
            "bin_start": 0.034902,
            "count": 0
           },
           {
            "bin_end": 0.04375,
            "bin_start": 0.039326,
            "count": 0
           },
           {
            "bin_end": 0.048173999999999995,
            "bin_start": 0.04375,
            "count": 1
           },
           {
            "bin_end": 0.052598,
            "bin_start": 0.048173999999999995,
            "count": 0
           },
           {
            "bin_end": 0.057022,
            "bin_start": 0.052598,
            "count": 0
           },
           {
            "bin_end": 0.061446,
            "bin_start": 0.057022,
            "count": 1
           },
           {
            "bin_end": 0.06587,
            "bin_start": 0.061446,
            "count": 1
           }
          ],
          "max": "0.06587",
          "min": "0.02163",
          "nan_count": 0,
          "unique_count": 5
         }
        },
        {
         "dtype": "float64",
         "name": "Ozone",
         "stats": {
          "histogram": [
           {
            "bin_end": 0.562886,
            "bin_start": 0.528,
            "count": 1
           },
           {
            "bin_end": 0.597772,
            "bin_start": 0.562886,
            "count": 0
           },
           {
            "bin_end": 0.6326579999999999,
            "bin_start": 0.597772,
            "count": 0
           },
           {
            "bin_end": 0.667544,
            "bin_start": 0.6326579999999999,
            "count": 0
           },
           {
            "bin_end": 0.70243,
            "bin_start": 0.667544,
            "count": 0
           },
           {
            "bin_end": 0.737316,
            "bin_start": 0.70243,
            "count": 1
           },
           {
            "bin_end": 0.7722019999999999,
            "bin_start": 0.737316,
            "count": 0
           },
           {
            "bin_end": 0.807088,
            "bin_start": 0.7722019999999999,
            "count": 1
           },
           {
            "bin_end": 0.841974,
            "bin_start": 0.807088,
            "count": 0
           },
           {
            "bin_end": 0.87686,
            "bin_start": 0.841974,
            "count": 2
           }
          ],
          "max": "0.87686",
          "min": "0.528",
          "nan_count": 0,
          "unique_count": 5
         }
        },
        {
         "dtype": "float64",
         "name": "OceanTemperature_NorthernHemisphere",
         "stats": {
          "histogram": [
           {
            "bin_end": 0.23208,
            "bin_start": 0.2188,
            "count": 1
           },
           {
            "bin_end": 0.24536,
            "bin_start": 0.23208,
            "count": 0
           },
           {
            "bin_end": 0.25864,
            "bin_start": 0.24536,
            "count": 0
           },
           {
            "bin_end": 0.27192,
            "bin_start": 0.25864,
            "count": 0
           },
           {
            "bin_end": 0.2852,
            "bin_start": 0.27192,
            "count": 1
           },
           {
            "bin_end": 0.29848,
            "bin_start": 0.2852,
            "count": 1
           },
           {
            "bin_end": 0.31176000000000004,
            "bin_start": 0.29848,
            "count": 0
           },
           {
            "bin_end": 0.32504,
            "bin_start": 0.31176000000000004,
            "count": 0
           },
           {
            "bin_end": 0.33832,
            "bin_start": 0.32504,
            "count": 1
           },
           {
            "bin_end": 0.3516,
            "bin_start": 0.33832,
            "count": 1
           }
          ],
          "max": "0.3516",
          "min": "0.2188",
          "nan_count": 0,
          "unique_count": 5
         }
        },
        {
         "dtype": "float64",
         "name": "LandTemperature_NorthernHemisphere",
         "stats": {
          "histogram": [
           {
            "bin_end": 0.21154,
            "bin_start": 0.193,
            "count": 1
           },
           {
            "bin_end": 0.23008,
            "bin_start": 0.21154,
            "count": 0
           },
           {
            "bin_end": 0.24862,
            "bin_start": 0.23008,
            "count": 0
           },
           {
            "bin_end": 0.26716,
            "bin_start": 0.24862,
            "count": 0
           },
           {
            "bin_end": 0.2857,
            "bin_start": 0.26716,
            "count": 0
           },
           {
            "bin_end": 0.30424,
            "bin_start": 0.2857,
            "count": 1
           },
           {
            "bin_end": 0.32278,
            "bin_start": 0.30424,
            "count": 0
           },
           {
            "bin_end": 0.34132,
            "bin_start": 0.32278,
            "count": 0
           },
           {
            "bin_end": 0.35986,
            "bin_start": 0.34132,
            "count": 2
           },
           {
            "bin_end": 0.3784,
            "bin_start": 0.35986,
            "count": 1
           }
          ],
          "max": "0.3784",
          "min": "0.193",
          "nan_count": 0,
          "unique_count": 5
         }
        },
        {
         "dtype": "float64",
         "name": "MaxTemperature_NorthSlopeAlaska",
         "stats": {
          "histogram": [
           {
            "bin_end": 0.25425,
            "bin_start": 0.2115,
            "count": 1
           },
           {
            "bin_end": 0.297,
            "bin_start": 0.25425,
            "count": 0
           },
           {
            "bin_end": 0.33975,
            "bin_start": 0.297,
            "count": 2
           },
           {
            "bin_end": 0.38249999999999995,
            "bin_start": 0.33975,
            "count": 0
           },
           {
            "bin_end": 0.42525,
            "bin_start": 0.38249999999999995,
            "count": 1
           },
           {
            "bin_end": 0.46799999999999997,
            "bin_start": 0.42525,
            "count": 0
           },
           {
            "bin_end": 0.5107499999999999,
            "bin_start": 0.46799999999999997,
            "count": 0
           },
           {
            "bin_end": 0.5535,
            "bin_start": 0.5107499999999999,
            "count": 0
           },
           {
            "bin_end": 0.59625,
            "bin_start": 0.5535,
            "count": 0
           },
           {
            "bin_end": 0.639,
            "bin_start": 0.59625,
            "count": 1
           }
          ],
          "max": "0.639",
          "min": "0.2115",
          "nan_count": 0,
          "unique_count": 5
         }
        },
        {
         "dtype": "float64",
         "name": "AvgTemperature_NorthSlopeAlaska",
         "stats": {
          "histogram": [
           {
            "bin_end": 0.24696,
            "bin_start": 0.2016,
            "count": 1
           },
           {
            "bin_end": 0.29232,
            "bin_start": 0.24696,
            "count": 1
           },
           {
            "bin_end": 0.33768,
            "bin_start": 0.29232,
            "count": 1
           },
           {
            "bin_end": 0.38304,
            "bin_start": 0.33768,
            "count": 0
           },
           {
            "bin_end": 0.4284,
            "bin_start": 0.38304,
            "count": 1
           },
           {
            "bin_end": 0.47375999999999996,
            "bin_start": 0.4284,
            "count": 0
           },
           {
            "bin_end": 0.51912,
            "bin_start": 0.47375999999999996,
            "count": 0
           },
           {
            "bin_end": 0.56448,
            "bin_start": 0.51912,
            "count": 0
           },
           {
            "bin_end": 0.6098399999999999,
            "bin_start": 0.56448,
            "count": 0
           },
           {
            "bin_end": 0.6552,
            "bin_start": 0.6098399999999999,
            "count": 1
           }
          ],
          "max": "0.6552",
          "min": "0.2016",
          "nan_count": 0,
          "unique_count": 5
         }
        },
        {
         "dtype": "float64",
         "name": "MinTemperature_NorthSlopeAlaska",
         "stats": {
          "histogram": [
           {
            "bin_end": 0.23687,
            "bin_start": 0.1895,
            "count": 1
           },
           {
            "bin_end": 0.28424,
            "bin_start": 0.23687,
            "count": 1
           },
           {
            "bin_end": 0.33161,
            "bin_start": 0.28424,
            "count": 1
           },
           {
            "bin_end": 0.37898,
            "bin_start": 0.33161,
            "count": 0
           },
           {
            "bin_end": 0.42635,
            "bin_start": 0.37898,
            "count": 1
           },
           {
            "bin_end": 0.47372000000000003,
            "bin_start": 0.42635,
            "count": 0
           },
           {
            "bin_end": 0.52109,
            "bin_start": 0.47372000000000003,
            "count": 0
           },
           {
            "bin_end": 0.56846,
            "bin_start": 0.52109,
            "count": 0
           },
           {
            "bin_end": 0.6158300000000001,
            "bin_start": 0.56846,
            "count": 0
           },
           {
            "bin_end": 0.6632,
            "bin_start": 0.6158300000000001,
            "count": 1
           }
          ],
          "max": "0.6632",
          "min": "0.1895",
          "nan_count": 0,
          "unique_count": 5
         }
        },
        {
         "dtype": "float64",
         "name": "GDP_WORLD",
         "stats": {
          "histogram": [
           {
            "bin_end": 0.000539546,
            "bin_start": 0,
            "count": 1
           },
           {
            "bin_end": 0.001079092,
            "bin_start": 0.000539546,
            "count": 0
           },
           {
            "bin_end": 0.001618638,
            "bin_start": 0.001079092,
            "count": 1
           },
           {
            "bin_end": 0.002158184,
            "bin_start": 0.001618638,
            "count": 0
           },
           {
            "bin_end": 0.00269773,
            "bin_start": 0.002158184,
            "count": 0
           },
           {
            "bin_end": 0.003237276,
            "bin_start": 0.00269773,
            "count": 1
           },
           {
            "bin_end": 0.003776822,
            "bin_start": 0.003237276,
            "count": 0
           },
           {
            "bin_end": 0.004316368,
            "bin_start": 0.003776822,
            "count": 1
           },
           {
            "bin_end": 0.004855914,
            "bin_start": 0.004316368,
            "count": 0
           },
           {
            "bin_end": 0.00539546,
            "bin_start": 0.004855914,
            "count": 1
           }
          ],
          "max": "0.00539546",
          "min": "0.0",
          "nan_count": 0,
          "unique_count": 5
         }
        },
        {
         "dtype": "int64",
         "name": "_deepnote_index_column"
        }
       ],
       "row_count": 5,
       "rows": [
        {
         "AvgTemperature_NorthSlopeAlaska": 0.2016,
         "CO2": 0.02163,
         "Daylight": 0.08,
         "Extent": 0.902,
         "GDP_WORLD": 0,
         "LandTemperature_NorthernHemisphere": 0.2932,
         "MaxTemperature_NorthSlopeAlaska": 0.2115,
         "MinTemperature_NorthSlopeAlaska": 0.1895,
         "OceanTemperature_NorthernHemisphere": 0.3516,
         "Ozone": 0.528,
         "Population": 0,
         "Rainfall": 0.1,
         "_deepnote_index_column": 0,
         "date": "1980-01-01",
         "month": 1,
         "observation": 1,
         "year": 1980
        },
        {
         "AvgTemperature_NorthSlopeAlaska": 0.2887,
         "CO2": 0.02706,
         "Daylight": 0.264,
         "Extent": 0.99,
         "GDP_WORLD": 0.00134887,
         "LandTemperature_NorthernHemisphere": 0.3784,
         "MaxTemperature_NorthSlopeAlaska": 0.3101,
         "MinTemperature_NorthSlopeAlaska": 0.2608,
         "OceanTemperature_NorthernHemisphere": 0.3281,
         "Ozone": 0.78602,
         "Population": 0.002,
         "Rainfall": 0.1,
         "_deepnote_index_column": 1,
         "date": "1980-02-01",
         "month": 2,
         "observation": 2,
         "year": 1980
        },
        {
         "AvgTemperature_NorthSlopeAlaska": 0.2978,
         "CO2": 0.0477,
         "Daylight": 0.454,
         "Extent": 0.996,
         "GDP_WORLD": 0.00269773,
         "LandTemperature_NorthernHemisphere": 0.193,
         "MaxTemperature_NorthSlopeAlaska": 0.3068,
         "MinTemperature_NorthSlopeAlaska": 0.2854,
         "OceanTemperature_NorthernHemisphere": 0.2969,
         "Ozone": 0.87686,
         "Population": 0.004,
         "Rainfall": 0,
         "_deepnote_index_column": 2,
         "date": "1980-03-01",
         "month": 3,
         "observation": 3,
         "year": 1980
        },
        {
         "AvgTemperature_NorthSlopeAlaska": 0.3975,
         "CO2": 0.05907,
         "Daylight": 0.649,
         "Extent": 0.947,
         "GDP_WORLD": 0.0040466,
         "LandTemperature_NorthernHemisphere": 0.3484,
         "MaxTemperature_NorthSlopeAlaska": 0.4042,
         "MinTemperature_NorthSlopeAlaska": 0.386,
         "OceanTemperature_NorthernHemisphere": 0.2188,
         "Ozone": 0.86664,
         "Population": 0.0059,
         "Rainfall": 0.05,
         "_deepnote_index_column": 3,
         "date": "1980-04-01",
         "month": 4,
         "observation": 4,
         "year": 1980
        },
        {
         "AvgTemperature_NorthSlopeAlaska": 0.6552,
         "CO2": 0.06587,
         "Daylight": 0.851,
         "Extent": 0.816,
         "GDP_WORLD": 0.00539546,
         "LandTemperature_NorthernHemisphere": 0.3559,
         "MaxTemperature_NorthSlopeAlaska": 0.639,
         "MinTemperature_NorthSlopeAlaska": 0.6632,
         "OceanTemperature_NorthernHemisphere": 0.2813,
         "Ozone": 0.70773,
         "Population": 0.0079,
         "Rainfall": 0.2,
         "_deepnote_index_column": 4,
         "date": "1980-05-01",
         "month": 5,
         "observation": 5,
         "year": 1980
        }
       ]
      },
      "text/html": [
       "<div>\n",
       "<style scoped>\n",
       "    .dataframe tbody tr th:only-of-type {\n",
       "        vertical-align: middle;\n",
       "    }\n",
       "\n",
       "    .dataframe tbody tr th {\n",
       "        vertical-align: top;\n",
       "    }\n",
       "\n",
       "    .dataframe thead th {\n",
       "        text-align: right;\n",
       "    }\n",
       "</style>\n",
       "<table border=\"1\" class=\"dataframe\">\n",
       "  <thead>\n",
       "    <tr style=\"text-align: right;\">\n",
       "      <th></th>\n",
       "      <th>observation</th>\n",
       "      <th>year</th>\n",
       "      <th>month</th>\n",
       "      <th>date</th>\n",
       "      <th>Extent</th>\n",
       "      <th>Rainfall</th>\n",
       "      <th>Daylight</th>\n",
       "      <th>Population</th>\n",
       "      <th>CO2</th>\n",
       "      <th>Ozone</th>\n",
       "      <th>OceanTemperature_NorthernHemisphere</th>\n",
       "      <th>LandTemperature_NorthernHemisphere</th>\n",
       "      <th>MaxTemperature_NorthSlopeAlaska</th>\n",
       "      <th>AvgTemperature_NorthSlopeAlaska</th>\n",
       "      <th>MinTemperature_NorthSlopeAlaska</th>\n",
       "      <th>GDP_WORLD</th>\n",
       "    </tr>\n",
       "  </thead>\n",
       "  <tbody>\n",
       "    <tr>\n",
       "      <th>0</th>\n",
       "      <td>1</td>\n",
       "      <td>1980</td>\n",
       "      <td>1</td>\n",
       "      <td>1980-01-01</td>\n",
       "      <td>0.902</td>\n",
       "      <td>0.10</td>\n",
       "      <td>0.080</td>\n",
       "      <td>0.0000</td>\n",
       "      <td>0.02163</td>\n",
       "      <td>0.52800</td>\n",
       "      <td>0.3516</td>\n",
       "      <td>0.2932</td>\n",
       "      <td>0.2115</td>\n",
       "      <td>0.2016</td>\n",
       "      <td>0.1895</td>\n",
       "      <td>0.000000</td>\n",
       "    </tr>\n",
       "    <tr>\n",
       "      <th>1</th>\n",
       "      <td>2</td>\n",
       "      <td>1980</td>\n",
       "      <td>2</td>\n",
       "      <td>1980-02-01</td>\n",
       "      <td>0.990</td>\n",
       "      <td>0.10</td>\n",
       "      <td>0.264</td>\n",
       "      <td>0.0020</td>\n",
       "      <td>0.02706</td>\n",
       "      <td>0.78602</td>\n",
       "      <td>0.3281</td>\n",
       "      <td>0.3784</td>\n",
       "      <td>0.3101</td>\n",
       "      <td>0.2887</td>\n",
       "      <td>0.2608</td>\n",
       "      <td>0.001349</td>\n",
       "    </tr>\n",
       "    <tr>\n",
       "      <th>2</th>\n",
       "      <td>3</td>\n",
       "      <td>1980</td>\n",
       "      <td>3</td>\n",
       "      <td>1980-03-01</td>\n",
       "      <td>0.996</td>\n",
       "      <td>0.00</td>\n",
       "      <td>0.454</td>\n",
       "      <td>0.0040</td>\n",
       "      <td>0.04770</td>\n",
       "      <td>0.87686</td>\n",
       "      <td>0.2969</td>\n",
       "      <td>0.1930</td>\n",
       "      <td>0.3068</td>\n",
       "      <td>0.2978</td>\n",
       "      <td>0.2854</td>\n",
       "      <td>0.002698</td>\n",
       "    </tr>\n",
       "    <tr>\n",
       "      <th>3</th>\n",
       "      <td>4</td>\n",
       "      <td>1980</td>\n",
       "      <td>4</td>\n",
       "      <td>1980-04-01</td>\n",
       "      <td>0.947</td>\n",
       "      <td>0.05</td>\n",
       "      <td>0.649</td>\n",
       "      <td>0.0059</td>\n",
       "      <td>0.05907</td>\n",
       "      <td>0.86664</td>\n",
       "      <td>0.2188</td>\n",
       "      <td>0.3484</td>\n",
       "      <td>0.4042</td>\n",
       "      <td>0.3975</td>\n",
       "      <td>0.3860</td>\n",
       "      <td>0.004047</td>\n",
       "    </tr>\n",
       "    <tr>\n",
       "      <th>4</th>\n",
       "      <td>5</td>\n",
       "      <td>1980</td>\n",
       "      <td>5</td>\n",
       "      <td>1980-05-01</td>\n",
       "      <td>0.816</td>\n",
       "      <td>0.20</td>\n",
       "      <td>0.851</td>\n",
       "      <td>0.0079</td>\n",
       "      <td>0.06587</td>\n",
       "      <td>0.70773</td>\n",
       "      <td>0.2813</td>\n",
       "      <td>0.3559</td>\n",
       "      <td>0.6390</td>\n",
       "      <td>0.6552</td>\n",
       "      <td>0.6632</td>\n",
       "      <td>0.005395</td>\n",
       "    </tr>\n",
       "  </tbody>\n",
       "</table>\n",
       "</div>"
      ],
      "text/plain": [
       "   observation  year  month        date  Extent  Rainfall  Daylight  \\\n",
       "0            1  1980      1  1980-01-01   0.902      0.10     0.080   \n",
       "1            2  1980      2  1980-02-01   0.990      0.10     0.264   \n",
       "2            3  1980      3  1980-03-01   0.996      0.00     0.454   \n",
       "3            4  1980      4  1980-04-01   0.947      0.05     0.649   \n",
       "4            5  1980      5  1980-05-01   0.816      0.20     0.851   \n",
       "\n",
       "   Population      CO2    Ozone  OceanTemperature_NorthernHemisphere  \\\n",
       "0      0.0000  0.02163  0.52800                               0.3516   \n",
       "1      0.0020  0.02706  0.78602                               0.3281   \n",
       "2      0.0040  0.04770  0.87686                               0.2969   \n",
       "3      0.0059  0.05907  0.86664                               0.2188   \n",
       "4      0.0079  0.06587  0.70773                               0.2813   \n",
       "\n",
       "   LandTemperature_NorthernHemisphere  MaxTemperature_NorthSlopeAlaska  \\\n",
       "0                              0.2932                           0.2115   \n",
       "1                              0.3784                           0.3101   \n",
       "2                              0.1930                           0.3068   \n",
       "3                              0.3484                           0.4042   \n",
       "4                              0.3559                           0.6390   \n",
       "\n",
       "   AvgTemperature_NorthSlopeAlaska  MinTemperature_NorthSlopeAlaska  GDP_WORLD  \n",
       "0                           0.2016                           0.1895   0.000000  \n",
       "1                           0.2887                           0.2608   0.001349  \n",
       "2                           0.2978                           0.2854   0.002698  \n",
       "3                           0.3975                           0.3860   0.004047  \n",
       "4                           0.6552                           0.6632   0.005395  "
      ]
     },
     "execution_count": 2,
     "metadata": {},
     "output_type": "execute_result"
    }
   ],
   "source": [
    "# reading the data\n",
    "df = pd.read_csv(\"arctic_data.csv\")\n",
    "df.head()"
   ]
  },
  {
   "cell_type": "code",
   "execution_count": null,
   "metadata": {
    "cell_id": "9bff7638473a4d44a5937a13ee1d7bfa",
    "deepnote_cell_height": 518,
    "deepnote_cell_type": "code",
    "deepnote_to_be_reexecuted": false,
    "execution_millis": 79,
    "execution_start": 1650742168713,
    "source_hash": "f88152d9",
    "tags": []
   },
   "outputs": [
    {
     "data": {
      "application/vnd.deepnote.dataframe.v3+json": {
       "column_count": 15,
       "columns": [
        {
         "dtype": "float64",
         "name": "observation",
         "stats": {
          "histogram": [
           {
            "bin_end": 49.9,
            "bin_start": 1,
            "count": 1
           },
           {
            "bin_end": 98.8,
            "bin_start": 49.9,
            "count": 0
           },
           {
            "bin_end": 147.7,
            "bin_start": 98.8,
            "count": 2
           },
           {
            "bin_end": 196.6,
            "bin_start": 147.7,
            "count": 0
           },
           {
            "bin_end": 245.5,
            "bin_start": 196.6,
            "count": 0
           },
           {
            "bin_end": 294.4,
            "bin_start": 245.5,
            "count": 2
           },
           {
            "bin_end": 343.3,
            "bin_start": 294.4,
            "count": 0
           },
           {
            "bin_end": 392.2,
            "bin_start": 343.3,
            "count": 1
           },
           {
            "bin_end": 441.09999999999997,
            "bin_start": 392.2,
            "count": 0
           },
           {
            "bin_end": 490,
            "bin_start": 441.09999999999997,
            "count": 2
           }
          ],
          "max": "490.0",
          "min": "1.0",
          "nan_count": 0,
          "unique_count": 6
         }
        },
        {
         "dtype": "float64",
         "name": "year",
         "stats": {
          "histogram": [
           {
            "bin_end": 212.61909333973276,
            "bin_start": 11.798992599703068,
            "count": 1
           },
           {
            "bin_end": 413.43919407976244,
            "bin_start": 212.61909333973276,
            "count": 0
           },
           {
            "bin_end": 614.2592948197921,
            "bin_start": 413.43919407976244,
            "count": 1
           },
           {
            "bin_end": 815.0793955598218,
            "bin_start": 614.2592948197921,
            "count": 0
           },
           {
            "bin_end": 1015.8994962998515,
            "bin_start": 815.0793955598218,
            "count": 0
           },
           {
            "bin_end": 1216.7195970398811,
            "bin_start": 1015.8994962998515,
            "count": 0
           },
           {
            "bin_end": 1417.539697779911,
            "bin_start": 1216.7195970398811,
            "count": 0
           },
           {
            "bin_end": 1618.3597985199406,
            "bin_start": 1417.539697779911,
            "count": 0
           },
           {
            "bin_end": 1819.1798992599702,
            "bin_start": 1618.3597985199406,
            "count": 0
           },
           {
            "bin_end": 2020,
            "bin_start": 1819.1798992599702,
            "count": 6
           }
          ],
          "max": "2020.0",
          "min": "11.798992599703068",
          "nan_count": 0,
          "unique_count": 8
         }
        },
        {
         "dtype": "float64",
         "name": "month",
         "stats": {
          "histogram": [
           {
            "bin_end": 49.9,
            "bin_start": 1,
            "count": 7
           },
           {
            "bin_end": 98.8,
            "bin_start": 49.9,
            "count": 0
           },
           {
            "bin_end": 147.7,
            "bin_start": 98.8,
            "count": 0
           },
           {
            "bin_end": 196.6,
            "bin_start": 147.7,
            "count": 0
           },
           {
            "bin_end": 245.5,
            "bin_start": 196.6,
            "count": 0
           },
           {
            "bin_end": 294.4,
            "bin_start": 245.5,
            "count": 0
           },
           {
            "bin_end": 343.3,
            "bin_start": 294.4,
            "count": 0
           },
           {
            "bin_end": 392.2,
            "bin_start": 343.3,
            "count": 0
           },
           {
            "bin_end": 441.09999999999997,
            "bin_start": 392.2,
            "count": 0
           },
           {
            "bin_end": 490,
            "bin_start": 441.09999999999997,
            "count": 1
           }
          ],
          "max": "490.0",
          "min": "1.0",
          "nan_count": 0,
          "unique_count": 8
         }
        },
        {
         "dtype": "float64",
         "name": "Extent",
         "stats": {
          "histogram": [
           {
            "bin_end": 49,
            "bin_start": 0,
            "count": 7
           },
           {
            "bin_end": 98,
            "bin_start": 49,
            "count": 0
           },
           {
            "bin_end": 147,
            "bin_start": 98,
            "count": 0
           },
           {
            "bin_end": 196,
            "bin_start": 147,
            "count": 0
           },
           {
            "bin_end": 245,
            "bin_start": 196,
            "count": 0
           },
           {
            "bin_end": 294,
            "bin_start": 245,
            "count": 0
           },
           {
            "bin_end": 343,
            "bin_start": 294,
            "count": 0
           },
           {
            "bin_end": 392,
            "bin_start": 343,
            "count": 0
           },
           {
            "bin_end": 441,
            "bin_start": 392,
            "count": 0
           },
           {
            "bin_end": 490,
            "bin_start": 441,
            "count": 1
           }
          ],
          "max": "490.0",
          "min": "0.0",
          "nan_count": 0,
          "unique_count": 8
         }
        },
        {
         "dtype": "float64",
         "name": "Rainfall",
         "stats": {
          "histogram": [
           {
            "bin_end": 49,
            "bin_start": 0,
            "count": 7
           },
           {
            "bin_end": 98,
            "bin_start": 49,
            "count": 0
           },
           {
            "bin_end": 147,
            "bin_start": 98,
            "count": 0
           },
           {
            "bin_end": 196,
            "bin_start": 147,
            "count": 0
           },
           {
            "bin_end": 245,
            "bin_start": 196,
            "count": 0
           },
           {
            "bin_end": 294,
            "bin_start": 245,
            "count": 0
           },
           {
            "bin_end": 343,
            "bin_start": 294,
            "count": 0
           },
           {
            "bin_end": 392,
            "bin_start": 343,
            "count": 0
           },
           {
            "bin_end": 441,
            "bin_start": 392,
            "count": 0
           },
           {
            "bin_end": 490,
            "bin_start": 441,
            "count": 1
           }
          ],
          "max": "490.0",
          "min": "0.0",
          "nan_count": 0,
          "unique_count": 8
         }
        },
        {
         "dtype": "float64",
         "name": "Daylight",
         "stats": {
          "histogram": [
           {
            "bin_end": 49,
            "bin_start": 0,
            "count": 7
           },
           {
            "bin_end": 98,
            "bin_start": 49,
            "count": 0
           },
           {
            "bin_end": 147,
            "bin_start": 98,
            "count": 0
           },
           {
            "bin_end": 196,
            "bin_start": 147,
            "count": 0
           },
           {
            "bin_end": 245,
            "bin_start": 196,
            "count": 0
           },
           {
            "bin_end": 294,
            "bin_start": 245,
            "count": 0
           },
           {
            "bin_end": 343,
            "bin_start": 294,
            "count": 0
           },
           {
            "bin_end": 392,
            "bin_start": 343,
            "count": 0
           },
           {
            "bin_end": 441,
            "bin_start": 392,
            "count": 0
           },
           {
            "bin_end": 490,
            "bin_start": 441,
            "count": 1
           }
          ],
          "max": "490.0",
          "min": "0.0",
          "nan_count": 0,
          "unique_count": 8
         }
        },
        {
         "dtype": "float64",
         "name": "Population",
         "stats": {
          "histogram": [
           {
            "bin_end": 49,
            "bin_start": 0,
            "count": 7
           },
           {
            "bin_end": 98,
            "bin_start": 49,
            "count": 0
           },
           {
            "bin_end": 147,
            "bin_start": 98,
            "count": 0
           },
           {
            "bin_end": 196,
            "bin_start": 147,
            "count": 0
           },
           {
            "bin_end": 245,
            "bin_start": 196,
            "count": 0
           },
           {
            "bin_end": 294,
            "bin_start": 245,
            "count": 0
           },
           {
            "bin_end": 343,
            "bin_start": 294,
            "count": 0
           },
           {
            "bin_end": 392,
            "bin_start": 343,
            "count": 0
           },
           {
            "bin_end": 441,
            "bin_start": 392,
            "count": 0
           },
           {
            "bin_end": 490,
            "bin_start": 441,
            "count": 1
           }
          ],
          "max": "490.0",
          "min": "0.0",
          "nan_count": 0,
          "unique_count": 8
         }
        },
        {
         "dtype": "float64",
         "name": "CO2",
         "stats": {
          "histogram": [
           {
            "bin_end": 49,
            "bin_start": 0,
            "count": 7
           },
           {
            "bin_end": 98,
            "bin_start": 49,
            "count": 0
           },
           {
            "bin_end": 147,
            "bin_start": 98,
            "count": 0
           },
           {
            "bin_end": 196,
            "bin_start": 147,
            "count": 0
           },
           {
            "bin_end": 245,
            "bin_start": 196,
            "count": 0
           },
           {
            "bin_end": 294,
            "bin_start": 245,
            "count": 0
           },
           {
            "bin_end": 343,
            "bin_start": 294,
            "count": 0
           },
           {
            "bin_end": 392,
            "bin_start": 343,
            "count": 0
           },
           {
            "bin_end": 441,
            "bin_start": 392,
            "count": 0
           },
           {
            "bin_end": 490,
            "bin_start": 441,
            "count": 1
           }
          ],
          "max": "490.0",
          "min": "0.0",
          "nan_count": 0,
          "unique_count": 8
         }
        },
        {
         "dtype": "float64",
         "name": "Ozone",
         "stats": {
          "histogram": [
           {
            "bin_end": 49,
            "bin_start": 0,
            "count": 7
           },
           {
            "bin_end": 98,
            "bin_start": 49,
            "count": 0
           },
           {
            "bin_end": 147,
            "bin_start": 98,
            "count": 0
           },
           {
            "bin_end": 196,
            "bin_start": 147,
            "count": 0
           },
           {
            "bin_end": 245,
            "bin_start": 196,
            "count": 0
           },
           {
            "bin_end": 294,
            "bin_start": 245,
            "count": 0
           },
           {
            "bin_end": 343,
            "bin_start": 294,
            "count": 0
           },
           {
            "bin_end": 392,
            "bin_start": 343,
            "count": 0
           },
           {
            "bin_end": 441,
            "bin_start": 392,
            "count": 0
           },
           {
            "bin_end": 490,
            "bin_start": 441,
            "count": 1
           }
          ],
          "max": "490.0",
          "min": "0.0",
          "nan_count": 0,
          "unique_count": 8
         }
        },
        {
         "dtype": "float64",
         "name": "OceanTemperature_NorthernHemisphere",
         "stats": {
          "histogram": [
           {
            "bin_end": 49,
            "bin_start": 0,
            "count": 7
           },
           {
            "bin_end": 98,
            "bin_start": 49,
            "count": 0
           },
           {
            "bin_end": 147,
            "bin_start": 98,
            "count": 0
           },
           {
            "bin_end": 196,
            "bin_start": 147,
            "count": 0
           },
           {
            "bin_end": 245,
            "bin_start": 196,
            "count": 0
           },
           {
            "bin_end": 294,
            "bin_start": 245,
            "count": 0
           },
           {
            "bin_end": 343,
            "bin_start": 294,
            "count": 0
           },
           {
            "bin_end": 392,
            "bin_start": 343,
            "count": 0
           },
           {
            "bin_end": 441,
            "bin_start": 392,
            "count": 0
           },
           {
            "bin_end": 490,
            "bin_start": 441,
            "count": 1
           }
          ],
          "max": "490.0",
          "min": "0.0",
          "nan_count": 0,
          "unique_count": 8
         }
        },
        {
         "dtype": "float64",
         "name": "LandTemperature_NorthernHemisphere",
         "stats": {
          "histogram": [
           {
            "bin_end": 49,
            "bin_start": 0,
            "count": 7
           },
           {
            "bin_end": 98,
            "bin_start": 49,
            "count": 0
           },
           {
            "bin_end": 147,
            "bin_start": 98,
            "count": 0
           },
           {
            "bin_end": 196,
            "bin_start": 147,
            "count": 0
           },
           {
            "bin_end": 245,
            "bin_start": 196,
            "count": 0
           },
           {
            "bin_end": 294,
            "bin_start": 245,
            "count": 0
           },
           {
            "bin_end": 343,
            "bin_start": 294,
            "count": 0
           },
           {
            "bin_end": 392,
            "bin_start": 343,
            "count": 0
           },
           {
            "bin_end": 441,
            "bin_start": 392,
            "count": 0
           },
           {
            "bin_end": 490,
            "bin_start": 441,
            "count": 1
           }
          ],
          "max": "490.0",
          "min": "0.0",
          "nan_count": 0,
          "unique_count": 8
         }
        },
        {
         "dtype": "float64",
         "name": "MaxTemperature_NorthSlopeAlaska",
         "stats": {
          "histogram": [
           {
            "bin_end": 49,
            "bin_start": 0,
            "count": 7
           },
           {
            "bin_end": 98,
            "bin_start": 49,
            "count": 0
           },
           {
            "bin_end": 147,
            "bin_start": 98,
            "count": 0
           },
           {
            "bin_end": 196,
            "bin_start": 147,
            "count": 0
           },
           {
            "bin_end": 245,
            "bin_start": 196,
            "count": 0
           },
           {
            "bin_end": 294,
            "bin_start": 245,
            "count": 0
           },
           {
            "bin_end": 343,
            "bin_start": 294,
            "count": 0
           },
           {
            "bin_end": 392,
            "bin_start": 343,
            "count": 0
           },
           {
            "bin_end": 441,
            "bin_start": 392,
            "count": 0
           },
           {
            "bin_end": 490,
            "bin_start": 441,
            "count": 1
           }
          ],
          "max": "490.0",
          "min": "0.0",
          "nan_count": 0,
          "unique_count": 8
         }
        },
        {
         "dtype": "float64",
         "name": "AvgTemperature_NorthSlopeAlaska",
         "stats": {
          "histogram": [
           {
            "bin_end": 49,
            "bin_start": 0,
            "count": 7
           },
           {
            "bin_end": 98,
            "bin_start": 49,
            "count": 0
           },
           {
            "bin_end": 147,
            "bin_start": 98,
            "count": 0
           },
           {
            "bin_end": 196,
            "bin_start": 147,
            "count": 0
           },
           {
            "bin_end": 245,
            "bin_start": 196,
            "count": 0
           },
           {
            "bin_end": 294,
            "bin_start": 245,
            "count": 0
           },
           {
            "bin_end": 343,
            "bin_start": 294,
            "count": 0
           },
           {
            "bin_end": 392,
            "bin_start": 343,
            "count": 0
           },
           {
            "bin_end": 441,
            "bin_start": 392,
            "count": 0
           },
           {
            "bin_end": 490,
            "bin_start": 441,
            "count": 1
           }
          ],
          "max": "490.0",
          "min": "0.0",
          "nan_count": 0,
          "unique_count": 8
         }
        },
        {
         "dtype": "float64",
         "name": "MinTemperature_NorthSlopeAlaska",
         "stats": {
          "histogram": [
           {
            "bin_end": 49,
            "bin_start": 0,
            "count": 7
           },
           {
            "bin_end": 98,
            "bin_start": 49,
            "count": 0
           },
           {
            "bin_end": 147,
            "bin_start": 98,
            "count": 0
           },
           {
            "bin_end": 196,
            "bin_start": 147,
            "count": 0
           },
           {
            "bin_end": 245,
            "bin_start": 196,
            "count": 0
           },
           {
            "bin_end": 294,
            "bin_start": 245,
            "count": 0
           },
           {
            "bin_end": 343,
            "bin_start": 294,
            "count": 0
           },
           {
            "bin_end": 392,
            "bin_start": 343,
            "count": 0
           },
           {
            "bin_end": 441,
            "bin_start": 392,
            "count": 0
           },
           {
            "bin_end": 490,
            "bin_start": 441,
            "count": 1
           }
          ],
          "max": "490.0",
          "min": "0.0",
          "nan_count": 0,
          "unique_count": 8
         }
        },
        {
         "dtype": "float64",
         "name": "GDP_WORLD",
         "stats": {
          "histogram": [
           {
            "bin_end": 49,
            "bin_start": 0,
            "count": 7
           },
           {
            "bin_end": 98,
            "bin_start": 49,
            "count": 0
           },
           {
            "bin_end": 147,
            "bin_start": 98,
            "count": 0
           },
           {
            "bin_end": 196,
            "bin_start": 147,
            "count": 0
           },
           {
            "bin_end": 245,
            "bin_start": 196,
            "count": 0
           },
           {
            "bin_end": 294,
            "bin_start": 245,
            "count": 0
           },
           {
            "bin_end": 343,
            "bin_start": 294,
            "count": 0
           },
           {
            "bin_end": 392,
            "bin_start": 343,
            "count": 0
           },
           {
            "bin_end": 441,
            "bin_start": 392,
            "count": 0
           },
           {
            "bin_end": 490,
            "bin_start": 441,
            "count": 1
           }
          ],
          "max": "490.0",
          "min": "0.0",
          "nan_count": 0,
          "unique_count": 8
         }
        },
        {
         "dtype": "object",
         "name": "_deepnote_index_column"
        }
       ],
       "row_count": 8,
       "rows": [
        {
         "AvgTemperature_NorthSlopeAlaska": 490,
         "CO2": 490,
         "Daylight": 490,
         "Extent": 490,
         "GDP_WORLD": 490,
         "LandTemperature_NorthernHemisphere": 490,
         "MaxTemperature_NorthSlopeAlaska": 490,
         "MinTemperature_NorthSlopeAlaska": 490,
         "OceanTemperature_NorthernHemisphere": 490,
         "Ozone": 490,
         "Population": 490,
         "Rainfall": 490,
         "_deepnote_index_column": "count",
         "month": 490,
         "observation": 490,
         "year": 490
        },
        {
         "AvgTemperature_NorthSlopeAlaska": 0.5451036734693877,
         "CO2": 0.4439659183673469,
         "Daylight": 0.493069387755102,
         "Extent": 0.6240897959183674,
         "GDP_WORLD": 0.40851329428571426,
         "LandTemperature_NorthernHemisphere": 0.4666851020408163,
         "MaxTemperature_NorthSlopeAlaska": 0.5366538775510203,
         "MinTemperature_NorthSlopeAlaska": 0.5463344897959185,
         "OceanTemperature_NorthernHemisphere": 0.45866448979591834,
         "Ozone": 0.3934144081632653,
         "Population": 0.5027134693877551,
         "Rainfall": 0.3463265306122449,
         "_deepnote_index_column": "mean",
         "month": 6.479591836734694,
         "observation": 245.5,
         "year": 1999.9183673469388
        },
        {
         "AvgTemperature_NorthSlopeAlaska": 0.27159357549899205,
         "CO2": 0.2709673313115659,
         "Daylight": 0.32422900728223497,
         "Extent": 0.2602687774224576,
         "GDP_WORLD": 0.32178108929993626,
         "LandTemperature_NorthernHemisphere": 0.14815118929685098,
         "MaxTemperature_NorthSlopeAlaska": 0.2633959633954004,
         "MinTemperature_NorthSlopeAlaska": 0.2770907322152728,
         "OceanTemperature_NorthernHemisphere": 0.21446053575176352,
         "Ozone": 0.2458409766373891,
         "Population": 0.28925712089055605,
         "Rainfall": 0.3114002538672586,
         "_deepnote_index_column": "std",
         "month": 3.4476202985004907,
         "observation": 141.59507995218854,
         "year": 11.798992599703068
        },
        {
         "AvgTemperature_NorthSlopeAlaska": 0,
         "CO2": 0,
         "Daylight": 0,
         "Extent": 0,
         "GDP_WORLD": 0,
         "LandTemperature_NorthernHemisphere": 0,
         "MaxTemperature_NorthSlopeAlaska": 0,
         "MinTemperature_NorthSlopeAlaska": 0,
         "OceanTemperature_NorthernHemisphere": 0,
         "Ozone": 0,
         "Population": 0,
         "Rainfall": 0,
         "_deepnote_index_column": "min",
         "month": 1,
         "observation": 1,
         "year": 1980
        },
        {
         "AvgTemperature_NorthSlopeAlaska": 0.2887,
         "CO2": 0.21815,
         "Daylight": 0.264,
         "Extent": 0.39825,
         "GDP_WORLD": 0.1378380625,
         "LandTemperature_NorthernHemisphere": 0.359025,
         "MaxTemperature_NorthSlopeAlaska": 0.29157500000000003,
         "MinTemperature_NorthSlopeAlaska": 0.283,
         "OceanTemperature_NorthernHemisphere": 0.2891,
         "Ozone": 0.17029249999999999,
         "Population": 0.25895,
         "Rainfall": 0.1,
         "_deepnote_index_column": "25%",
         "month": 3.25,
         "observation": 123.25,
         "year": 1990
        },
        {
         "AvgTemperature_NorthSlopeAlaska": 0.49885,
         "CO2": 0.41386500000000004,
         "Daylight": 0.517,
         "Extent": 0.681,
         "GDP_WORLD": 0.295926615,
         "LandTemperature_NorthernHemisphere": 0.4612,
         "MaxTemperature_NorthSlopeAlaska": 0.4994,
         "MinTemperature_NorthSlopeAlaska": 0.49765,
         "OceanTemperature_NorthernHemisphere": 0.4297,
         "Ozone": 0.36809000000000003,
         "Population": 0.5046,
         "Rainfall": 0.225,
         "_deepnote_index_column": "50%",
         "month": 6,
         "observation": 245.5,
         "year": 2000
        },
        {
         "AvgTemperature_NorthSlopeAlaska": 0.823575,
         "CO2": 0.66603,
         "Daylight": 0.8165,
         "Extent": 0.857,
         "GDP_WORLD": 0.6958404475,
         "LandTemperature_NorthernHemisphere": 0.5664,
         "MaxTemperature_NorthSlopeAlaska": 0.800675,
         "MinTemperature_NorthSlopeAlaska": 0.831,
         "OceanTemperature_NorthernHemisphere": 0.6016,
         "Ozone": 0.598325,
         "Population": 0.75005,
         "Rainfall": 0.5875,
         "_deepnote_index_column": "75%",
         "month": 9,
         "observation": 367.75,
         "year": 2010
        },
        {
         "AvgTemperature_NorthSlopeAlaska": 1,
         "CO2": 1,
         "Daylight": 1,
         "Extent": 1,
         "GDP_WORLD": 1,
         "LandTemperature_NorthernHemisphere": 1,
         "MaxTemperature_NorthSlopeAlaska": 1,
         "MinTemperature_NorthSlopeAlaska": 1,
         "OceanTemperature_NorthernHemisphere": 1,
         "Ozone": 1,
         "Population": 1,
         "Rainfall": 1,
         "_deepnote_index_column": "max",
         "month": 12,
         "observation": 490,
         "year": 2020
        }
       ]
      },
      "text/html": [
       "<div>\n",
       "<style scoped>\n",
       "    .dataframe tbody tr th:only-of-type {\n",
       "        vertical-align: middle;\n",
       "    }\n",
       "\n",
       "    .dataframe tbody tr th {\n",
       "        vertical-align: top;\n",
       "    }\n",
       "\n",
       "    .dataframe thead th {\n",
       "        text-align: right;\n",
       "    }\n",
       "</style>\n",
       "<table border=\"1\" class=\"dataframe\">\n",
       "  <thead>\n",
       "    <tr style=\"text-align: right;\">\n",
       "      <th></th>\n",
       "      <th>observation</th>\n",
       "      <th>year</th>\n",
       "      <th>month</th>\n",
       "      <th>Extent</th>\n",
       "      <th>Rainfall</th>\n",
       "      <th>Daylight</th>\n",
       "      <th>Population</th>\n",
       "      <th>CO2</th>\n",
       "      <th>Ozone</th>\n",
       "      <th>OceanTemperature_NorthernHemisphere</th>\n",
       "      <th>LandTemperature_NorthernHemisphere</th>\n",
       "      <th>MaxTemperature_NorthSlopeAlaska</th>\n",
       "      <th>AvgTemperature_NorthSlopeAlaska</th>\n",
       "      <th>MinTemperature_NorthSlopeAlaska</th>\n",
       "      <th>GDP_WORLD</th>\n",
       "    </tr>\n",
       "  </thead>\n",
       "  <tbody>\n",
       "    <tr>\n",
       "      <th>count</th>\n",
       "      <td>490.00000</td>\n",
       "      <td>490.000000</td>\n",
       "      <td>490.000000</td>\n",
       "      <td>490.000000</td>\n",
       "      <td>490.000000</td>\n",
       "      <td>490.000000</td>\n",
       "      <td>490.000000</td>\n",
       "      <td>490.000000</td>\n",
       "      <td>490.000000</td>\n",
       "      <td>490.000000</td>\n",
       "      <td>490.000000</td>\n",
       "      <td>490.000000</td>\n",
       "      <td>490.000000</td>\n",
       "      <td>490.000000</td>\n",
       "      <td>490.000000</td>\n",
       "    </tr>\n",
       "    <tr>\n",
       "      <th>mean</th>\n",
       "      <td>245.50000</td>\n",
       "      <td>1999.918367</td>\n",
       "      <td>6.479592</td>\n",
       "      <td>0.624090</td>\n",
       "      <td>0.346327</td>\n",
       "      <td>0.493069</td>\n",
       "      <td>0.502713</td>\n",
       "      <td>0.443966</td>\n",
       "      <td>0.393414</td>\n",
       "      <td>0.458664</td>\n",
       "      <td>0.466685</td>\n",
       "      <td>0.536654</td>\n",
       "      <td>0.545104</td>\n",
       "      <td>0.546334</td>\n",
       "      <td>0.408513</td>\n",
       "    </tr>\n",
       "    <tr>\n",
       "      <th>std</th>\n",
       "      <td>141.59508</td>\n",
       "      <td>11.798993</td>\n",
       "      <td>3.447620</td>\n",
       "      <td>0.260269</td>\n",
       "      <td>0.311400</td>\n",
       "      <td>0.324229</td>\n",
       "      <td>0.289257</td>\n",
       "      <td>0.270967</td>\n",
       "      <td>0.245841</td>\n",
       "      <td>0.214461</td>\n",
       "      <td>0.148151</td>\n",
       "      <td>0.263396</td>\n",
       "      <td>0.271594</td>\n",
       "      <td>0.277091</td>\n",
       "      <td>0.321781</td>\n",
       "    </tr>\n",
       "    <tr>\n",
       "      <th>min</th>\n",
       "      <td>1.00000</td>\n",
       "      <td>1980.000000</td>\n",
       "      <td>1.000000</td>\n",
       "      <td>0.000000</td>\n",
       "      <td>0.000000</td>\n",
       "      <td>0.000000</td>\n",
       "      <td>0.000000</td>\n",
       "      <td>0.000000</td>\n",
       "      <td>0.000000</td>\n",
       "      <td>0.000000</td>\n",
       "      <td>0.000000</td>\n",
       "      <td>0.000000</td>\n",
       "      <td>0.000000</td>\n",
       "      <td>0.000000</td>\n",
       "      <td>0.000000</td>\n",
       "    </tr>\n",
       "    <tr>\n",
       "      <th>25%</th>\n",
       "      <td>123.25000</td>\n",
       "      <td>1990.000000</td>\n",
       "      <td>3.250000</td>\n",
       "      <td>0.398250</td>\n",
       "      <td>0.100000</td>\n",
       "      <td>0.264000</td>\n",
       "      <td>0.258950</td>\n",
       "      <td>0.218150</td>\n",
       "      <td>0.170292</td>\n",
       "      <td>0.289100</td>\n",
       "      <td>0.359025</td>\n",
       "      <td>0.291575</td>\n",
       "      <td>0.288700</td>\n",
       "      <td>0.283000</td>\n",
       "      <td>0.137838</td>\n",
       "    </tr>\n",
       "    <tr>\n",
       "      <th>50%</th>\n",
       "      <td>245.50000</td>\n",
       "      <td>2000.000000</td>\n",
       "      <td>6.000000</td>\n",
       "      <td>0.681000</td>\n",
       "      <td>0.225000</td>\n",
       "      <td>0.517000</td>\n",
       "      <td>0.504600</td>\n",
       "      <td>0.413865</td>\n",
       "      <td>0.368090</td>\n",
       "      <td>0.429700</td>\n",
       "      <td>0.461200</td>\n",
       "      <td>0.499400</td>\n",
       "      <td>0.498850</td>\n",
       "      <td>0.497650</td>\n",
       "      <td>0.295927</td>\n",
       "    </tr>\n",
       "    <tr>\n",
       "      <th>75%</th>\n",
       "      <td>367.75000</td>\n",
       "      <td>2010.000000</td>\n",
       "      <td>9.000000</td>\n",
       "      <td>0.857000</td>\n",
       "      <td>0.587500</td>\n",
       "      <td>0.816500</td>\n",
       "      <td>0.750050</td>\n",
       "      <td>0.666030</td>\n",
       "      <td>0.598325</td>\n",
       "      <td>0.601600</td>\n",
       "      <td>0.566400</td>\n",
       "      <td>0.800675</td>\n",
       "      <td>0.823575</td>\n",
       "      <td>0.831000</td>\n",
       "      <td>0.695840</td>\n",
       "    </tr>\n",
       "    <tr>\n",
       "      <th>max</th>\n",
       "      <td>490.00000</td>\n",
       "      <td>2020.000000</td>\n",
       "      <td>12.000000</td>\n",
       "      <td>1.000000</td>\n",
       "      <td>1.000000</td>\n",
       "      <td>1.000000</td>\n",
       "      <td>1.000000</td>\n",
       "      <td>1.000000</td>\n",
       "      <td>1.000000</td>\n",
       "      <td>1.000000</td>\n",
       "      <td>1.000000</td>\n",
       "      <td>1.000000</td>\n",
       "      <td>1.000000</td>\n",
       "      <td>1.000000</td>\n",
       "      <td>1.000000</td>\n",
       "    </tr>\n",
       "  </tbody>\n",
       "</table>\n",
       "</div>"
      ],
      "text/plain": [
       "       observation         year       month      Extent    Rainfall  \\\n",
       "count    490.00000   490.000000  490.000000  490.000000  490.000000   \n",
       "mean     245.50000  1999.918367    6.479592    0.624090    0.346327   \n",
       "std      141.59508    11.798993    3.447620    0.260269    0.311400   \n",
       "min        1.00000  1980.000000    1.000000    0.000000    0.000000   \n",
       "25%      123.25000  1990.000000    3.250000    0.398250    0.100000   \n",
       "50%      245.50000  2000.000000    6.000000    0.681000    0.225000   \n",
       "75%      367.75000  2010.000000    9.000000    0.857000    0.587500   \n",
       "max      490.00000  2020.000000   12.000000    1.000000    1.000000   \n",
       "\n",
       "         Daylight  Population         CO2       Ozone  \\\n",
       "count  490.000000  490.000000  490.000000  490.000000   \n",
       "mean     0.493069    0.502713    0.443966    0.393414   \n",
       "std      0.324229    0.289257    0.270967    0.245841   \n",
       "min      0.000000    0.000000    0.000000    0.000000   \n",
       "25%      0.264000    0.258950    0.218150    0.170292   \n",
       "50%      0.517000    0.504600    0.413865    0.368090   \n",
       "75%      0.816500    0.750050    0.666030    0.598325   \n",
       "max      1.000000    1.000000    1.000000    1.000000   \n",
       "\n",
       "       OceanTemperature_NorthernHemisphere  \\\n",
       "count                           490.000000   \n",
       "mean                              0.458664   \n",
       "std                               0.214461   \n",
       "min                               0.000000   \n",
       "25%                               0.289100   \n",
       "50%                               0.429700   \n",
       "75%                               0.601600   \n",
       "max                               1.000000   \n",
       "\n",
       "       LandTemperature_NorthernHemisphere  MaxTemperature_NorthSlopeAlaska  \\\n",
       "count                          490.000000                       490.000000   \n",
       "mean                             0.466685                         0.536654   \n",
       "std                              0.148151                         0.263396   \n",
       "min                              0.000000                         0.000000   \n",
       "25%                              0.359025                         0.291575   \n",
       "50%                              0.461200                         0.499400   \n",
       "75%                              0.566400                         0.800675   \n",
       "max                              1.000000                         1.000000   \n",
       "\n",
       "       AvgTemperature_NorthSlopeAlaska  MinTemperature_NorthSlopeAlaska  \\\n",
       "count                       490.000000                       490.000000   \n",
       "mean                          0.545104                         0.546334   \n",
       "std                           0.271594                         0.277091   \n",
       "min                           0.000000                         0.000000   \n",
       "25%                           0.288700                         0.283000   \n",
       "50%                           0.498850                         0.497650   \n",
       "75%                           0.823575                         0.831000   \n",
       "max                           1.000000                         1.000000   \n",
       "\n",
       "        GDP_WORLD  \n",
       "count  490.000000  \n",
       "mean     0.408513  \n",
       "std      0.321781  \n",
       "min      0.000000  \n",
       "25%      0.137838  \n",
       "50%      0.295927  \n",
       "75%      0.695840  \n",
       "max      1.000000  "
      ]
     },
     "execution_count": 3,
     "metadata": {},
     "output_type": "execute_result"
    }
   ],
   "source": [
    "df.describe()"
   ]
  },
  {
   "cell_type": "markdown",
   "metadata": {
    "cell_id": "33272e1ea8814b8fabdb1d9021fc9e35",
    "deepnote_cell_type": "text-cell-h1",
    "is_collapsed": false,
    "tags": []
   },
   "source": [
    "# Check if have missing data"
   ]
  },
  {
   "cell_type": "code",
   "execution_count": null,
   "metadata": {
    "cell_id": "ca8e540df2a1420b9a76d3da26e2de6b",
    "deepnote_cell_height": 413,
    "deepnote_cell_type": "code",
    "deepnote_to_be_reexecuted": false,
    "execution_millis": 36,
    "execution_start": 1650742168796,
    "source_hash": "4e7b1c5b",
    "tags": []
   },
   "outputs": [
    {
     "data": {
      "application/vnd.deepnote.dataframe.v3+json": {
       "column_count": 16,
       "columns": [
        {
         "dtype": "bool",
         "name": "observation",
         "stats": {
          "categories": [
           {
            "count": 5,
            "name": "False"
           }
          ],
          "nan_count": 0,
          "unique_count": 1
         }
        },
        {
         "dtype": "bool",
         "name": "year",
         "stats": {
          "categories": [
           {
            "count": 5,
            "name": "False"
           }
          ],
          "nan_count": 0,
          "unique_count": 1
         }
        },
        {
         "dtype": "bool",
         "name": "month",
         "stats": {
          "categories": [
           {
            "count": 5,
            "name": "False"
           }
          ],
          "nan_count": 0,
          "unique_count": 1
         }
        },
        {
         "dtype": "bool",
         "name": "date",
         "stats": {
          "categories": [
           {
            "count": 5,
            "name": "False"
           }
          ],
          "nan_count": 0,
          "unique_count": 1
         }
        },
        {
         "dtype": "bool",
         "name": "Extent",
         "stats": {
          "categories": [
           {
            "count": 5,
            "name": "False"
           }
          ],
          "nan_count": 0,
          "unique_count": 1
         }
        },
        {
         "dtype": "bool",
         "name": "Rainfall",
         "stats": {
          "categories": [
           {
            "count": 5,
            "name": "False"
           }
          ],
          "nan_count": 0,
          "unique_count": 1
         }
        },
        {
         "dtype": "bool",
         "name": "Daylight",
         "stats": {
          "categories": [
           {
            "count": 5,
            "name": "False"
           }
          ],
          "nan_count": 0,
          "unique_count": 1
         }
        },
        {
         "dtype": "bool",
         "name": "Population",
         "stats": {
          "categories": [
           {
            "count": 5,
            "name": "False"
           }
          ],
          "nan_count": 0,
          "unique_count": 1
         }
        },
        {
         "dtype": "bool",
         "name": "CO2",
         "stats": {
          "categories": [
           {
            "count": 5,
            "name": "False"
           }
          ],
          "nan_count": 0,
          "unique_count": 1
         }
        },
        {
         "dtype": "bool",
         "name": "Ozone",
         "stats": {
          "categories": [
           {
            "count": 5,
            "name": "False"
           }
          ],
          "nan_count": 0,
          "unique_count": 1
         }
        },
        {
         "dtype": "bool",
         "name": "OceanTemperature_NorthernHemisphere",
         "stats": {
          "categories": [
           {
            "count": 5,
            "name": "False"
           }
          ],
          "nan_count": 0,
          "unique_count": 1
         }
        },
        {
         "dtype": "bool",
         "name": "LandTemperature_NorthernHemisphere",
         "stats": {
          "categories": [
           {
            "count": 5,
            "name": "False"
           }
          ],
          "nan_count": 0,
          "unique_count": 1
         }
        },
        {
         "dtype": "bool",
         "name": "MaxTemperature_NorthSlopeAlaska",
         "stats": {
          "categories": [
           {
            "count": 5,
            "name": "False"
           }
          ],
          "nan_count": 0,
          "unique_count": 1
         }
        },
        {
         "dtype": "bool",
         "name": "AvgTemperature_NorthSlopeAlaska",
         "stats": {
          "categories": [
           {
            "count": 5,
            "name": "False"
           }
          ],
          "nan_count": 0,
          "unique_count": 1
         }
        },
        {
         "dtype": "bool",
         "name": "MinTemperature_NorthSlopeAlaska",
         "stats": {
          "categories": [
           {
            "count": 5,
            "name": "False"
           }
          ],
          "nan_count": 0,
          "unique_count": 1
         }
        },
        {
         "dtype": "bool",
         "name": "GDP_WORLD",
         "stats": {
          "categories": [
           {
            "count": 5,
            "name": "False"
           }
          ],
          "nan_count": 0,
          "unique_count": 1
         }
        },
        {
         "dtype": "int64",
         "name": "_deepnote_index_column"
        }
       ],
       "row_count": 5,
       "rows": [
        {
         "AvgTemperature_NorthSlopeAlaska": false,
         "CO2": false,
         "Daylight": false,
         "Extent": false,
         "GDP_WORLD": false,
         "LandTemperature_NorthernHemisphere": false,
         "MaxTemperature_NorthSlopeAlaska": false,
         "MinTemperature_NorthSlopeAlaska": false,
         "OceanTemperature_NorthernHemisphere": false,
         "Ozone": false,
         "Population": false,
         "Rainfall": false,
         "_deepnote_index_column": 0,
         "date": false,
         "month": false,
         "observation": false,
         "year": false
        },
        {
         "AvgTemperature_NorthSlopeAlaska": false,
         "CO2": false,
         "Daylight": false,
         "Extent": false,
         "GDP_WORLD": false,
         "LandTemperature_NorthernHemisphere": false,
         "MaxTemperature_NorthSlopeAlaska": false,
         "MinTemperature_NorthSlopeAlaska": false,
         "OceanTemperature_NorthernHemisphere": false,
         "Ozone": false,
         "Population": false,
         "Rainfall": false,
         "_deepnote_index_column": 1,
         "date": false,
         "month": false,
         "observation": false,
         "year": false
        },
        {
         "AvgTemperature_NorthSlopeAlaska": false,
         "CO2": false,
         "Daylight": false,
         "Extent": false,
         "GDP_WORLD": false,
         "LandTemperature_NorthernHemisphere": false,
         "MaxTemperature_NorthSlopeAlaska": false,
         "MinTemperature_NorthSlopeAlaska": false,
         "OceanTemperature_NorthernHemisphere": false,
         "Ozone": false,
         "Population": false,
         "Rainfall": false,
         "_deepnote_index_column": 2,
         "date": false,
         "month": false,
         "observation": false,
         "year": false
        },
        {
         "AvgTemperature_NorthSlopeAlaska": false,
         "CO2": false,
         "Daylight": false,
         "Extent": false,
         "GDP_WORLD": false,
         "LandTemperature_NorthernHemisphere": false,
         "MaxTemperature_NorthSlopeAlaska": false,
         "MinTemperature_NorthSlopeAlaska": false,
         "OceanTemperature_NorthernHemisphere": false,
         "Ozone": false,
         "Population": false,
         "Rainfall": false,
         "_deepnote_index_column": 3,
         "date": false,
         "month": false,
         "observation": false,
         "year": false
        },
        {
         "AvgTemperature_NorthSlopeAlaska": false,
         "CO2": false,
         "Daylight": false,
         "Extent": false,
         "GDP_WORLD": false,
         "LandTemperature_NorthernHemisphere": false,
         "MaxTemperature_NorthSlopeAlaska": false,
         "MinTemperature_NorthSlopeAlaska": false,
         "OceanTemperature_NorthernHemisphere": false,
         "Ozone": false,
         "Population": false,
         "Rainfall": false,
         "_deepnote_index_column": 4,
         "date": false,
         "month": false,
         "observation": false,
         "year": false
        }
       ]
      },
      "text/html": [
       "<div>\n",
       "<style scoped>\n",
       "    .dataframe tbody tr th:only-of-type {\n",
       "        vertical-align: middle;\n",
       "    }\n",
       "\n",
       "    .dataframe tbody tr th {\n",
       "        vertical-align: top;\n",
       "    }\n",
       "\n",
       "    .dataframe thead th {\n",
       "        text-align: right;\n",
       "    }\n",
       "</style>\n",
       "<table border=\"1\" class=\"dataframe\">\n",
       "  <thead>\n",
       "    <tr style=\"text-align: right;\">\n",
       "      <th></th>\n",
       "      <th>observation</th>\n",
       "      <th>year</th>\n",
       "      <th>month</th>\n",
       "      <th>date</th>\n",
       "      <th>Extent</th>\n",
       "      <th>Rainfall</th>\n",
       "      <th>Daylight</th>\n",
       "      <th>Population</th>\n",
       "      <th>CO2</th>\n",
       "      <th>Ozone</th>\n",
       "      <th>OceanTemperature_NorthernHemisphere</th>\n",
       "      <th>LandTemperature_NorthernHemisphere</th>\n",
       "      <th>MaxTemperature_NorthSlopeAlaska</th>\n",
       "      <th>AvgTemperature_NorthSlopeAlaska</th>\n",
       "      <th>MinTemperature_NorthSlopeAlaska</th>\n",
       "      <th>GDP_WORLD</th>\n",
       "    </tr>\n",
       "  </thead>\n",
       "  <tbody>\n",
       "    <tr>\n",
       "      <th>0</th>\n",
       "      <td>False</td>\n",
       "      <td>False</td>\n",
       "      <td>False</td>\n",
       "      <td>False</td>\n",
       "      <td>False</td>\n",
       "      <td>False</td>\n",
       "      <td>False</td>\n",
       "      <td>False</td>\n",
       "      <td>False</td>\n",
       "      <td>False</td>\n",
       "      <td>False</td>\n",
       "      <td>False</td>\n",
       "      <td>False</td>\n",
       "      <td>False</td>\n",
       "      <td>False</td>\n",
       "      <td>False</td>\n",
       "    </tr>\n",
       "    <tr>\n",
       "      <th>1</th>\n",
       "      <td>False</td>\n",
       "      <td>False</td>\n",
       "      <td>False</td>\n",
       "      <td>False</td>\n",
       "      <td>False</td>\n",
       "      <td>False</td>\n",
       "      <td>False</td>\n",
       "      <td>False</td>\n",
       "      <td>False</td>\n",
       "      <td>False</td>\n",
       "      <td>False</td>\n",
       "      <td>False</td>\n",
       "      <td>False</td>\n",
       "      <td>False</td>\n",
       "      <td>False</td>\n",
       "      <td>False</td>\n",
       "    </tr>\n",
       "    <tr>\n",
       "      <th>2</th>\n",
       "      <td>False</td>\n",
       "      <td>False</td>\n",
       "      <td>False</td>\n",
       "      <td>False</td>\n",
       "      <td>False</td>\n",
       "      <td>False</td>\n",
       "      <td>False</td>\n",
       "      <td>False</td>\n",
       "      <td>False</td>\n",
       "      <td>False</td>\n",
       "      <td>False</td>\n",
       "      <td>False</td>\n",
       "      <td>False</td>\n",
       "      <td>False</td>\n",
       "      <td>False</td>\n",
       "      <td>False</td>\n",
       "    </tr>\n",
       "    <tr>\n",
       "      <th>3</th>\n",
       "      <td>False</td>\n",
       "      <td>False</td>\n",
       "      <td>False</td>\n",
       "      <td>False</td>\n",
       "      <td>False</td>\n",
       "      <td>False</td>\n",
       "      <td>False</td>\n",
       "      <td>False</td>\n",
       "      <td>False</td>\n",
       "      <td>False</td>\n",
       "      <td>False</td>\n",
       "      <td>False</td>\n",
       "      <td>False</td>\n",
       "      <td>False</td>\n",
       "      <td>False</td>\n",
       "      <td>False</td>\n",
       "    </tr>\n",
       "    <tr>\n",
       "      <th>4</th>\n",
       "      <td>False</td>\n",
       "      <td>False</td>\n",
       "      <td>False</td>\n",
       "      <td>False</td>\n",
       "      <td>False</td>\n",
       "      <td>False</td>\n",
       "      <td>False</td>\n",
       "      <td>False</td>\n",
       "      <td>False</td>\n",
       "      <td>False</td>\n",
       "      <td>False</td>\n",
       "      <td>False</td>\n",
       "      <td>False</td>\n",
       "      <td>False</td>\n",
       "      <td>False</td>\n",
       "      <td>False</td>\n",
       "    </tr>\n",
       "  </tbody>\n",
       "</table>\n",
       "</div>"
      ],
      "text/plain": [
       "   observation   year  month   date  Extent  Rainfall  Daylight  Population  \\\n",
       "0        False  False  False  False   False     False     False       False   \n",
       "1        False  False  False  False   False     False     False       False   \n",
       "2        False  False  False  False   False     False     False       False   \n",
       "3        False  False  False  False   False     False     False       False   \n",
       "4        False  False  False  False   False     False     False       False   \n",
       "\n",
       "     CO2  Ozone  OceanTemperature_NorthernHemisphere  \\\n",
       "0  False  False                                False   \n",
       "1  False  False                                False   \n",
       "2  False  False                                False   \n",
       "3  False  False                                False   \n",
       "4  False  False                                False   \n",
       "\n",
       "   LandTemperature_NorthernHemisphere  MaxTemperature_NorthSlopeAlaska  \\\n",
       "0                               False                            False   \n",
       "1                               False                            False   \n",
       "2                               False                            False   \n",
       "3                               False                            False   \n",
       "4                               False                            False   \n",
       "\n",
       "   AvgTemperature_NorthSlopeAlaska  MinTemperature_NorthSlopeAlaska  GDP_WORLD  \n",
       "0                            False                            False      False  \n",
       "1                            False                            False      False  \n",
       "2                            False                            False      False  \n",
       "3                            False                            False      False  \n",
       "4                            False                            False      False  "
      ]
     },
     "execution_count": 4,
     "metadata": {},
     "output_type": "execute_result"
    }
   ],
   "source": [
    "# missing data?\n",
    "df.isna().head()"
   ]
  },
  {
   "cell_type": "code",
   "execution_count": null,
   "metadata": {
    "cell_id": "cec40d74287949e8a4f1bd5d29ea6742",
    "deepnote_cell_height": 443.3125,
    "deepnote_cell_type": "code",
    "deepnote_output_heights": [
     328.3125
    ],
    "deepnote_to_be_reexecuted": false,
    "execution_millis": 7,
    "execution_start": 1650742168835,
    "source_hash": "6fba5bbc",
    "tags": []
   },
   "outputs": [
    {
     "data": {
      "text/plain": [
       "observation                            0.0\n",
       "year                                   0.0\n",
       "month                                  0.0\n",
       "date                                   0.0\n",
       "Extent                                 0.0\n",
       "Rainfall                               0.0\n",
       "Daylight                               0.0\n",
       "Population                             0.0\n",
       "CO2                                    0.0\n",
       "Ozone                                  0.0\n",
       "OceanTemperature_NorthernHemisphere    0.0\n",
       "LandTemperature_NorthernHemisphere     0.0\n",
       "MaxTemperature_NorthSlopeAlaska        0.0\n",
       "AvgTemperature_NorthSlopeAlaska        0.0\n",
       "MinTemperature_NorthSlopeAlaska        0.0\n",
       "GDP_WORLD                              0.0\n",
       "dtype: float64"
      ]
     },
     "execution_count": 5,
     "metadata": {},
     "output_type": "execute_result"
    }
   ],
   "source": [
    "df.isna().mean()\n",
    "# missing data? No."
   ]
  },
  {
   "cell_type": "markdown",
   "metadata": {
    "cell_id": "b82056c931f0480b8676ac0bd86ec7dd",
    "deepnote_cell_type": "text-cell-h1",
    "is_collapsed": false,
    "tags": []
   },
   "source": [
    "# Variables - x"
   ]
  },
  {
   "cell_type": "code",
   "execution_count": null,
   "metadata": {
    "cell_id": "6a65cce03dab41d89ba2932e0fbc9e57",
    "deepnote_cell_height": 590,
    "deepnote_cell_type": "code",
    "deepnote_to_be_reexecuted": false,
    "execution_millis": 16,
    "execution_start": 1650742168888,
    "source_hash": "58e6eb65",
    "tags": []
   },
   "outputs": [
    {
     "data": {
      "application/vnd.deepnote.dataframe.v3+json": {
       "column_count": 9,
       "columns": [
        {
         "dtype": "float64",
         "name": "Rainfall",
         "stats": {
          "histogram": [
           {
            "bin_end": 49,
            "bin_start": 0,
            "count": 7
           },
           {
            "bin_end": 98,
            "bin_start": 49,
            "count": 0
           },
           {
            "bin_end": 147,
            "bin_start": 98,
            "count": 0
           },
           {
            "bin_end": 196,
            "bin_start": 147,
            "count": 0
           },
           {
            "bin_end": 245,
            "bin_start": 196,
            "count": 0
           },
           {
            "bin_end": 294,
            "bin_start": 245,
            "count": 0
           },
           {
            "bin_end": 343,
            "bin_start": 294,
            "count": 0
           },
           {
            "bin_end": 392,
            "bin_start": 343,
            "count": 0
           },
           {
            "bin_end": 441,
            "bin_start": 392,
            "count": 0
           },
           {
            "bin_end": 490,
            "bin_start": 441,
            "count": 1
           }
          ],
          "max": "490.0",
          "min": "0.0",
          "nan_count": 0,
          "unique_count": 8
         }
        },
        {
         "dtype": "float64",
         "name": "Daylight",
         "stats": {
          "histogram": [
           {
            "bin_end": 49,
            "bin_start": 0,
            "count": 7
           },
           {
            "bin_end": 98,
            "bin_start": 49,
            "count": 0
           },
           {
            "bin_end": 147,
            "bin_start": 98,
            "count": 0
           },
           {
            "bin_end": 196,
            "bin_start": 147,
            "count": 0
           },
           {
            "bin_end": 245,
            "bin_start": 196,
            "count": 0
           },
           {
            "bin_end": 294,
            "bin_start": 245,
            "count": 0
           },
           {
            "bin_end": 343,
            "bin_start": 294,
            "count": 0
           },
           {
            "bin_end": 392,
            "bin_start": 343,
            "count": 0
           },
           {
            "bin_end": 441,
            "bin_start": 392,
            "count": 0
           },
           {
            "bin_end": 490,
            "bin_start": 441,
            "count": 1
           }
          ],
          "max": "490.0",
          "min": "0.0",
          "nan_count": 0,
          "unique_count": 8
         }
        },
        {
         "dtype": "float64",
         "name": "Population",
         "stats": {
          "histogram": [
           {
            "bin_end": 49,
            "bin_start": 0,
            "count": 7
           },
           {
            "bin_end": 98,
            "bin_start": 49,
            "count": 0
           },
           {
            "bin_end": 147,
            "bin_start": 98,
            "count": 0
           },
           {
            "bin_end": 196,
            "bin_start": 147,
            "count": 0
           },
           {
            "bin_end": 245,
            "bin_start": 196,
            "count": 0
           },
           {
            "bin_end": 294,
            "bin_start": 245,
            "count": 0
           },
           {
            "bin_end": 343,
            "bin_start": 294,
            "count": 0
           },
           {
            "bin_end": 392,
            "bin_start": 343,
            "count": 0
           },
           {
            "bin_end": 441,
            "bin_start": 392,
            "count": 0
           },
           {
            "bin_end": 490,
            "bin_start": 441,
            "count": 1
           }
          ],
          "max": "490.0",
          "min": "0.0",
          "nan_count": 0,
          "unique_count": 8
         }
        },
        {
         "dtype": "float64",
         "name": "CO2",
         "stats": {
          "histogram": [
           {
            "bin_end": 49,
            "bin_start": 0,
            "count": 7
           },
           {
            "bin_end": 98,
            "bin_start": 49,
            "count": 0
           },
           {
            "bin_end": 147,
            "bin_start": 98,
            "count": 0
           },
           {
            "bin_end": 196,
            "bin_start": 147,
            "count": 0
           },
           {
            "bin_end": 245,
            "bin_start": 196,
            "count": 0
           },
           {
            "bin_end": 294,
            "bin_start": 245,
            "count": 0
           },
           {
            "bin_end": 343,
            "bin_start": 294,
            "count": 0
           },
           {
            "bin_end": 392,
            "bin_start": 343,
            "count": 0
           },
           {
            "bin_end": 441,
            "bin_start": 392,
            "count": 0
           },
           {
            "bin_end": 490,
            "bin_start": 441,
            "count": 1
           }
          ],
          "max": "490.0",
          "min": "0.0",
          "nan_count": 0,
          "unique_count": 8
         }
        },
        {
         "dtype": "float64",
         "name": "Ozone",
         "stats": {
          "histogram": [
           {
            "bin_end": 49,
            "bin_start": 0,
            "count": 7
           },
           {
            "bin_end": 98,
            "bin_start": 49,
            "count": 0
           },
           {
            "bin_end": 147,
            "bin_start": 98,
            "count": 0
           },
           {
            "bin_end": 196,
            "bin_start": 147,
            "count": 0
           },
           {
            "bin_end": 245,
            "bin_start": 196,
            "count": 0
           },
           {
            "bin_end": 294,
            "bin_start": 245,
            "count": 0
           },
           {
            "bin_end": 343,
            "bin_start": 294,
            "count": 0
           },
           {
            "bin_end": 392,
            "bin_start": 343,
            "count": 0
           },
           {
            "bin_end": 441,
            "bin_start": 392,
            "count": 0
           },
           {
            "bin_end": 490,
            "bin_start": 441,
            "count": 1
           }
          ],
          "max": "490.0",
          "min": "0.0",
          "nan_count": 0,
          "unique_count": 8
         }
        },
        {
         "dtype": "float64",
         "name": "OceanTemperature_NorthernHemisphere",
         "stats": {
          "histogram": [
           {
            "bin_end": 49,
            "bin_start": 0,
            "count": 7
           },
           {
            "bin_end": 98,
            "bin_start": 49,
            "count": 0
           },
           {
            "bin_end": 147,
            "bin_start": 98,
            "count": 0
           },
           {
            "bin_end": 196,
            "bin_start": 147,
            "count": 0
           },
           {
            "bin_end": 245,
            "bin_start": 196,
            "count": 0
           },
           {
            "bin_end": 294,
            "bin_start": 245,
            "count": 0
           },
           {
            "bin_end": 343,
            "bin_start": 294,
            "count": 0
           },
           {
            "bin_end": 392,
            "bin_start": 343,
            "count": 0
           },
           {
            "bin_end": 441,
            "bin_start": 392,
            "count": 0
           },
           {
            "bin_end": 490,
            "bin_start": 441,
            "count": 1
           }
          ],
          "max": "490.0",
          "min": "0.0",
          "nan_count": 0,
          "unique_count": 8
         }
        },
        {
         "dtype": "float64",
         "name": "LandTemperature_NorthernHemisphere",
         "stats": {
          "histogram": [
           {
            "bin_end": 49,
            "bin_start": 0,
            "count": 7
           },
           {
            "bin_end": 98,
            "bin_start": 49,
            "count": 0
           },
           {
            "bin_end": 147,
            "bin_start": 98,
            "count": 0
           },
           {
            "bin_end": 196,
            "bin_start": 147,
            "count": 0
           },
           {
            "bin_end": 245,
            "bin_start": 196,
            "count": 0
           },
           {
            "bin_end": 294,
            "bin_start": 245,
            "count": 0
           },
           {
            "bin_end": 343,
            "bin_start": 294,
            "count": 0
           },
           {
            "bin_end": 392,
            "bin_start": 343,
            "count": 0
           },
           {
            "bin_end": 441,
            "bin_start": 392,
            "count": 0
           },
           {
            "bin_end": 490,
            "bin_start": 441,
            "count": 1
           }
          ],
          "max": "490.0",
          "min": "0.0",
          "nan_count": 0,
          "unique_count": 8
         }
        },
        {
         "dtype": "float64",
         "name": "MinTemperature_NorthSlopeAlaska",
         "stats": {
          "histogram": [
           {
            "bin_end": 49,
            "bin_start": 0,
            "count": 7
           },
           {
            "bin_end": 98,
            "bin_start": 49,
            "count": 0
           },
           {
            "bin_end": 147,
            "bin_start": 98,
            "count": 0
           },
           {
            "bin_end": 196,
            "bin_start": 147,
            "count": 0
           },
           {
            "bin_end": 245,
            "bin_start": 196,
            "count": 0
           },
           {
            "bin_end": 294,
            "bin_start": 245,
            "count": 0
           },
           {
            "bin_end": 343,
            "bin_start": 294,
            "count": 0
           },
           {
            "bin_end": 392,
            "bin_start": 343,
            "count": 0
           },
           {
            "bin_end": 441,
            "bin_start": 392,
            "count": 0
           },
           {
            "bin_end": 490,
            "bin_start": 441,
            "count": 1
           }
          ],
          "max": "490.0",
          "min": "0.0",
          "nan_count": 0,
          "unique_count": 8
         }
        },
        {
         "dtype": "float64",
         "name": "GDP_WORLD",
         "stats": {
          "histogram": [
           {
            "bin_end": 49,
            "bin_start": 0,
            "count": 7
           },
           {
            "bin_end": 98,
            "bin_start": 49,
            "count": 0
           },
           {
            "bin_end": 147,
            "bin_start": 98,
            "count": 0
           },
           {
            "bin_end": 196,
            "bin_start": 147,
            "count": 0
           },
           {
            "bin_end": 245,
            "bin_start": 196,
            "count": 0
           },
           {
            "bin_end": 294,
            "bin_start": 245,
            "count": 0
           },
           {
            "bin_end": 343,
            "bin_start": 294,
            "count": 0
           },
           {
            "bin_end": 392,
            "bin_start": 343,
            "count": 0
           },
           {
            "bin_end": 441,
            "bin_start": 392,
            "count": 0
           },
           {
            "bin_end": 490,
            "bin_start": 441,
            "count": 1
           }
          ],
          "max": "490.0",
          "min": "0.0",
          "nan_count": 0,
          "unique_count": 8
         }
        },
        {
         "dtype": "object",
         "name": "_deepnote_index_column"
        }
       ],
       "row_count": 8,
       "rows": [
        {
         "CO2": 490,
         "Daylight": 490,
         "GDP_WORLD": 490,
         "LandTemperature_NorthernHemisphere": 490,
         "MinTemperature_NorthSlopeAlaska": 490,
         "OceanTemperature_NorthernHemisphere": 490,
         "Ozone": 490,
         "Population": 490,
         "Rainfall": 490,
         "_deepnote_index_column": "count"
        },
        {
         "CO2": 0.4439659183673469,
         "Daylight": 0.493069387755102,
         "GDP_WORLD": 0.40851329428571426,
         "LandTemperature_NorthernHemisphere": 0.4666851020408163,
         "MinTemperature_NorthSlopeAlaska": 0.5463344897959185,
         "OceanTemperature_NorthernHemisphere": 0.45866448979591834,
         "Ozone": 0.3934144081632653,
         "Population": 0.5027134693877551,
         "Rainfall": 0.3463265306122449,
         "_deepnote_index_column": "mean"
        },
        {
         "CO2": 0.2709673313115659,
         "Daylight": 0.32422900728223497,
         "GDP_WORLD": 0.32178108929993626,
         "LandTemperature_NorthernHemisphere": 0.14815118929685098,
         "MinTemperature_NorthSlopeAlaska": 0.2770907322152728,
         "OceanTemperature_NorthernHemisphere": 0.21446053575176352,
         "Ozone": 0.2458409766373891,
         "Population": 0.28925712089055605,
         "Rainfall": 0.3114002538672586,
         "_deepnote_index_column": "std"
        },
        {
         "CO2": 0,
         "Daylight": 0,
         "GDP_WORLD": 0,
         "LandTemperature_NorthernHemisphere": 0,
         "MinTemperature_NorthSlopeAlaska": 0,
         "OceanTemperature_NorthernHemisphere": 0,
         "Ozone": 0,
         "Population": 0,
         "Rainfall": 0,
         "_deepnote_index_column": "min"
        },
        {
         "CO2": 0.21815,
         "Daylight": 0.264,
         "GDP_WORLD": 0.1378380625,
         "LandTemperature_NorthernHemisphere": 0.359025,
         "MinTemperature_NorthSlopeAlaska": 0.283,
         "OceanTemperature_NorthernHemisphere": 0.2891,
         "Ozone": 0.17029249999999999,
         "Population": 0.25895,
         "Rainfall": 0.1,
         "_deepnote_index_column": "25%"
        },
        {
         "CO2": 0.41386500000000004,
         "Daylight": 0.517,
         "GDP_WORLD": 0.295926615,
         "LandTemperature_NorthernHemisphere": 0.4612,
         "MinTemperature_NorthSlopeAlaska": 0.49765,
         "OceanTemperature_NorthernHemisphere": 0.4297,
         "Ozone": 0.36809000000000003,
         "Population": 0.5046,
         "Rainfall": 0.225,
         "_deepnote_index_column": "50%"
        },
        {
         "CO2": 0.66603,
         "Daylight": 0.8165,
         "GDP_WORLD": 0.6958404475,
         "LandTemperature_NorthernHemisphere": 0.5664,
         "MinTemperature_NorthSlopeAlaska": 0.831,
         "OceanTemperature_NorthernHemisphere": 0.6016,
         "Ozone": 0.598325,
         "Population": 0.75005,
         "Rainfall": 0.5875,
         "_deepnote_index_column": "75%"
        },
        {
         "CO2": 1,
         "Daylight": 1,
         "GDP_WORLD": 1,
         "LandTemperature_NorthernHemisphere": 1,
         "MinTemperature_NorthSlopeAlaska": 1,
         "OceanTemperature_NorthernHemisphere": 1,
         "Ozone": 1,
         "Population": 1,
         "Rainfall": 1,
         "_deepnote_index_column": "max"
        }
       ]
      },
      "text/html": [
       "<div>\n",
       "<style scoped>\n",
       "    .dataframe tbody tr th:only-of-type {\n",
       "        vertical-align: middle;\n",
       "    }\n",
       "\n",
       "    .dataframe tbody tr th {\n",
       "        vertical-align: top;\n",
       "    }\n",
       "\n",
       "    .dataframe thead th {\n",
       "        text-align: right;\n",
       "    }\n",
       "</style>\n",
       "<table border=\"1\" class=\"dataframe\">\n",
       "  <thead>\n",
       "    <tr style=\"text-align: right;\">\n",
       "      <th></th>\n",
       "      <th>Rainfall</th>\n",
       "      <th>Daylight</th>\n",
       "      <th>Population</th>\n",
       "      <th>CO2</th>\n",
       "      <th>Ozone</th>\n",
       "      <th>OceanTemperature_NorthernHemisphere</th>\n",
       "      <th>LandTemperature_NorthernHemisphere</th>\n",
       "      <th>MinTemperature_NorthSlopeAlaska</th>\n",
       "      <th>GDP_WORLD</th>\n",
       "    </tr>\n",
       "  </thead>\n",
       "  <tbody>\n",
       "    <tr>\n",
       "      <th>count</th>\n",
       "      <td>490.000000</td>\n",
       "      <td>490.000000</td>\n",
       "      <td>490.000000</td>\n",
       "      <td>490.000000</td>\n",
       "      <td>490.000000</td>\n",
       "      <td>490.000000</td>\n",
       "      <td>490.000000</td>\n",
       "      <td>490.000000</td>\n",
       "      <td>490.000000</td>\n",
       "    </tr>\n",
       "    <tr>\n",
       "      <th>mean</th>\n",
       "      <td>0.346327</td>\n",
       "      <td>0.493069</td>\n",
       "      <td>0.502713</td>\n",
       "      <td>0.443966</td>\n",
       "      <td>0.393414</td>\n",
       "      <td>0.458664</td>\n",
       "      <td>0.466685</td>\n",
       "      <td>0.546334</td>\n",
       "      <td>0.408513</td>\n",
       "    </tr>\n",
       "    <tr>\n",
       "      <th>std</th>\n",
       "      <td>0.311400</td>\n",
       "      <td>0.324229</td>\n",
       "      <td>0.289257</td>\n",
       "      <td>0.270967</td>\n",
       "      <td>0.245841</td>\n",
       "      <td>0.214461</td>\n",
       "      <td>0.148151</td>\n",
       "      <td>0.277091</td>\n",
       "      <td>0.321781</td>\n",
       "    </tr>\n",
       "    <tr>\n",
       "      <th>min</th>\n",
       "      <td>0.000000</td>\n",
       "      <td>0.000000</td>\n",
       "      <td>0.000000</td>\n",
       "      <td>0.000000</td>\n",
       "      <td>0.000000</td>\n",
       "      <td>0.000000</td>\n",
       "      <td>0.000000</td>\n",
       "      <td>0.000000</td>\n",
       "      <td>0.000000</td>\n",
       "    </tr>\n",
       "    <tr>\n",
       "      <th>25%</th>\n",
       "      <td>0.100000</td>\n",
       "      <td>0.264000</td>\n",
       "      <td>0.258950</td>\n",
       "      <td>0.218150</td>\n",
       "      <td>0.170292</td>\n",
       "      <td>0.289100</td>\n",
       "      <td>0.359025</td>\n",
       "      <td>0.283000</td>\n",
       "      <td>0.137838</td>\n",
       "    </tr>\n",
       "    <tr>\n",
       "      <th>50%</th>\n",
       "      <td>0.225000</td>\n",
       "      <td>0.517000</td>\n",
       "      <td>0.504600</td>\n",
       "      <td>0.413865</td>\n",
       "      <td>0.368090</td>\n",
       "      <td>0.429700</td>\n",
       "      <td>0.461200</td>\n",
       "      <td>0.497650</td>\n",
       "      <td>0.295927</td>\n",
       "    </tr>\n",
       "    <tr>\n",
       "      <th>75%</th>\n",
       "      <td>0.587500</td>\n",
       "      <td>0.816500</td>\n",
       "      <td>0.750050</td>\n",
       "      <td>0.666030</td>\n",
       "      <td>0.598325</td>\n",
       "      <td>0.601600</td>\n",
       "      <td>0.566400</td>\n",
       "      <td>0.831000</td>\n",
       "      <td>0.695840</td>\n",
       "    </tr>\n",
       "    <tr>\n",
       "      <th>max</th>\n",
       "      <td>1.000000</td>\n",
       "      <td>1.000000</td>\n",
       "      <td>1.000000</td>\n",
       "      <td>1.000000</td>\n",
       "      <td>1.000000</td>\n",
       "      <td>1.000000</td>\n",
       "      <td>1.000000</td>\n",
       "      <td>1.000000</td>\n",
       "      <td>1.000000</td>\n",
       "    </tr>\n",
       "  </tbody>\n",
       "</table>\n",
       "</div>"
      ],
      "text/plain": [
       "         Rainfall    Daylight  Population         CO2       Ozone  \\\n",
       "count  490.000000  490.000000  490.000000  490.000000  490.000000   \n",
       "mean     0.346327    0.493069    0.502713    0.443966    0.393414   \n",
       "std      0.311400    0.324229    0.289257    0.270967    0.245841   \n",
       "min      0.000000    0.000000    0.000000    0.000000    0.000000   \n",
       "25%      0.100000    0.264000    0.258950    0.218150    0.170292   \n",
       "50%      0.225000    0.517000    0.504600    0.413865    0.368090   \n",
       "75%      0.587500    0.816500    0.750050    0.666030    0.598325   \n",
       "max      1.000000    1.000000    1.000000    1.000000    1.000000   \n",
       "\n",
       "       OceanTemperature_NorthernHemisphere  \\\n",
       "count                           490.000000   \n",
       "mean                              0.458664   \n",
       "std                               0.214461   \n",
       "min                               0.000000   \n",
       "25%                               0.289100   \n",
       "50%                               0.429700   \n",
       "75%                               0.601600   \n",
       "max                               1.000000   \n",
       "\n",
       "       LandTemperature_NorthernHemisphere  MinTemperature_NorthSlopeAlaska  \\\n",
       "count                          490.000000                       490.000000   \n",
       "mean                             0.466685                         0.546334   \n",
       "std                              0.148151                         0.277091   \n",
       "min                              0.000000                         0.000000   \n",
       "25%                              0.359025                         0.283000   \n",
       "50%                              0.461200                         0.497650   \n",
       "75%                              0.566400                         0.831000   \n",
       "max                              1.000000                         1.000000   \n",
       "\n",
       "        GDP_WORLD  \n",
       "count  490.000000  \n",
       "mean     0.408513  \n",
       "std      0.321781  \n",
       "min      0.000000  \n",
       "25%      0.137838  \n",
       "50%      0.295927  \n",
       "75%      0.695840  \n",
       "max      1.000000  "
      ]
     },
     "execution_count": 6,
     "metadata": {},
     "output_type": "execute_result"
    }
   ],
   "source": [
    "arctic = df[['Rainfall', 'Daylight', 'Population', \\\n",
    "                'CO2', 'Ozone', 'OceanTemperature_NorthernHemisphere', \\\n",
    "                'LandTemperature_NorthernHemisphere', 'MinTemperature_NorthSlopeAlaska', \\\n",
    "                'GDP_WORLD']]\n",
    "arctic.describe()"
   ]
  },
  {
   "cell_type": "markdown",
   "metadata": {
    "cell_id": "f2a4478515a0448f9ae0e1eeebc997a8",
    "deepnote_cell_type": "text-cell-h1",
    "is_collapsed": false,
    "tags": []
   },
   "source": [
    "# Target - y"
   ]
  },
  {
   "cell_type": "code",
   "execution_count": null,
   "metadata": {
    "cell_id": "ec128f66c7764eb0958b6449d2bd2975",
    "deepnote_cell_height": 536,
    "deepnote_cell_type": "code",
    "deepnote_to_be_reexecuted": false,
    "execution_millis": 3,
    "execution_start": 1650742168917,
    "source_hash": "68ca04ff",
    "tags": []
   },
   "outputs": [
    {
     "data": {
      "application/vnd.deepnote.dataframe.v3+json": {
       "column_count": 1,
       "columns": [
        {
         "dtype": "float64",
         "name": "Extent",
         "stats": {
          "histogram": [
           {
            "bin_end": 49,
            "bin_start": 0,
            "count": 7
           },
           {
            "bin_end": 98,
            "bin_start": 49,
            "count": 0
           },
           {
            "bin_end": 147,
            "bin_start": 98,
            "count": 0
           },
           {
            "bin_end": 196,
            "bin_start": 147,
            "count": 0
           },
           {
            "bin_end": 245,
            "bin_start": 196,
            "count": 0
           },
           {
            "bin_end": 294,
            "bin_start": 245,
            "count": 0
           },
           {
            "bin_end": 343,
            "bin_start": 294,
            "count": 0
           },
           {
            "bin_end": 392,
            "bin_start": 343,
            "count": 0
           },
           {
            "bin_end": 441,
            "bin_start": 392,
            "count": 0
           },
           {
            "bin_end": 490,
            "bin_start": 441,
            "count": 1
           }
          ],
          "max": "490.0",
          "min": "0.0",
          "nan_count": 0,
          "unique_count": 8
         }
        },
        {
         "dtype": "object",
         "name": "_deepnote_index_column"
        }
       ],
       "row_count": 8,
       "rows": [
        {
         "Extent": 490,
         "_deepnote_index_column": "count"
        },
        {
         "Extent": 0.6240897959183674,
         "_deepnote_index_column": "mean"
        },
        {
         "Extent": 0.2602687774224576,
         "_deepnote_index_column": "std"
        },
        {
         "Extent": 0,
         "_deepnote_index_column": "min"
        },
        {
         "Extent": 0.39825,
         "_deepnote_index_column": "25%"
        },
        {
         "Extent": 0.681,
         "_deepnote_index_column": "50%"
        },
        {
         "Extent": 0.857,
         "_deepnote_index_column": "75%"
        },
        {
         "Extent": 1,
         "_deepnote_index_column": "max"
        }
       ]
      },
      "text/html": [
       "<div>\n",
       "<style scoped>\n",
       "    .dataframe tbody tr th:only-of-type {\n",
       "        vertical-align: middle;\n",
       "    }\n",
       "\n",
       "    .dataframe tbody tr th {\n",
       "        vertical-align: top;\n",
       "    }\n",
       "\n",
       "    .dataframe thead th {\n",
       "        text-align: right;\n",
       "    }\n",
       "</style>\n",
       "<table border=\"1\" class=\"dataframe\">\n",
       "  <thead>\n",
       "    <tr style=\"text-align: right;\">\n",
       "      <th></th>\n",
       "      <th>Extent</th>\n",
       "    </tr>\n",
       "  </thead>\n",
       "  <tbody>\n",
       "    <tr>\n",
       "      <th>count</th>\n",
       "      <td>490.000000</td>\n",
       "    </tr>\n",
       "    <tr>\n",
       "      <th>mean</th>\n",
       "      <td>0.624090</td>\n",
       "    </tr>\n",
       "    <tr>\n",
       "      <th>std</th>\n",
       "      <td>0.260269</td>\n",
       "    </tr>\n",
       "    <tr>\n",
       "      <th>min</th>\n",
       "      <td>0.000000</td>\n",
       "    </tr>\n",
       "    <tr>\n",
       "      <th>25%</th>\n",
       "      <td>0.398250</td>\n",
       "    </tr>\n",
       "    <tr>\n",
       "      <th>50%</th>\n",
       "      <td>0.681000</td>\n",
       "    </tr>\n",
       "    <tr>\n",
       "      <th>75%</th>\n",
       "      <td>0.857000</td>\n",
       "    </tr>\n",
       "    <tr>\n",
       "      <th>max</th>\n",
       "      <td>1.000000</td>\n",
       "    </tr>\n",
       "  </tbody>\n",
       "</table>\n",
       "</div>"
      ],
      "text/plain": [
       "           Extent\n",
       "count  490.000000\n",
       "mean     0.624090\n",
       "std      0.260269\n",
       "min      0.000000\n",
       "25%      0.398250\n",
       "50%      0.681000\n",
       "75%      0.857000\n",
       "max      1.000000"
      ]
     },
     "execution_count": 7,
     "metadata": {},
     "output_type": "execute_result"
    }
   ],
   "source": [
    "extent = df[['Extent']]\n",
    "extent.describe()"
   ]
  },
  {
   "cell_type": "markdown",
   "metadata": {
    "cell_id": "960ec70863e1405fabef7f1199e42c30",
    "deepnote_cell_type": "text-cell-h1",
    "is_collapsed": false,
    "tags": []
   },
   "source": [
    "# Split dataset to 1:9 for testing and training"
   ]
  },
  {
   "cell_type": "code",
   "execution_count": null,
   "metadata": {
    "cell_id": "5359eb3e6e2d4d26aa82bee3e51d4ac8",
    "deepnote_cell_height": 172.1875,
    "deepnote_cell_type": "code",
    "deepnote_output_heights": [
     21.1875
    ],
    "deepnote_to_be_reexecuted": false,
    "execution_millis": 4,
    "execution_start": 1650742168946,
    "source_hash": "533d6b61",
    "tags": []
   },
   "outputs": [
    {
     "data": {
      "text/plain": [
       "((441, 9), (49, 9))"
      ]
     },
     "execution_count": 8,
     "metadata": {},
     "output_type": "execute_result"
    }
   ],
   "source": [
    "# split traing set and testing set to 9:1 (441:49):\n",
    "X_train, X_val, y_train, y_val = train_test_split(arctic, extent, test_size=0.1, \\\n",
    "                                                                    train_size=0.9, random_state=7)\n",
    "X_train.shape, X_val.shape"
   ]
  },
  {
   "cell_type": "markdown",
   "metadata": {
    "cell_id": "3f1161b9e18144f28deb21bfc75cb3a5",
    "deepnote_cell_type": "text-cell-h1",
    "is_collapsed": false,
    "tags": []
   },
   "source": [
    "# For saving results (R2, Explained Variance, MSE, MAE)"
   ]
  },
  {
   "cell_type": "code",
   "execution_count": null,
   "metadata": {
    "cell_id": "28d087a11bff44e1a65eab9246010ccd",
    "deepnote_cell_height": 117,
    "deepnote_cell_type": "code",
    "deepnote_to_be_reexecuted": false,
    "execution_millis": 0,
    "execution_start": 1650742168947,
    "source_hash": "5b6da4b2",
    "tags": []
   },
   "outputs": [],
   "source": [
    "experiments = []\n",
    "metric_names = []\n",
    "metric_vals = []"
   ]
  },
  {
   "cell_type": "markdown",
   "metadata": {
    "cell_id": "0ad315beead841d39c9214d4f7089576",
    "deepnote_cell_type": "text-cell-h1",
    "is_collapsed": false,
    "tags": []
   },
   "source": [
    "# Tracking experiment results"
   ]
  },
  {
   "cell_type": "code",
   "execution_count": null,
   "metadata": {
    "cell_id": "9294c08ce22b4bc58a0dbd6acaf5d1d7",
    "deepnote_cell_height": 441,
    "deepnote_cell_type": "code",
    "deepnote_to_be_reexecuted": false,
    "execution_millis": 0,
    "execution_start": 1650742168948,
    "source_hash": "3e951e14",
    "tags": []
   },
   "outputs": [],
   "source": [
    "# tracking experiment results\n",
    "def plot_preds(y_pred, y_val):\n",
    "    '''Plot predictions vs labels on a scatter plot.'''\n",
    "    lines_color = plt.rcParams['text.color']\n",
    "    fig = plt.figure(figsize=(20, 10))\n",
    "    ax = fig.add_subplot(111)\n",
    "    plt.plot([0, 1], [0, 1], c='red', zorder=1)\n",
    "    plt.scatter(y_val, y_pred, alpha=0.6, edgecolors=lines_color, c='#5EC2FF')\n",
    "    #ax.set_aspect('equal', adjustable='box')\n",
    "    ax.grid(linestyle='--')\n",
    "    plt.xlabel('True value')\n",
    "    plt.ylabel('Predictions')\n",
    "    plt.show()\n",
    "\n",
    "def calc_metrics(y_pred, y_val):\n",
    "    '''Print 4 metrics using predictions and labels.'''\n",
    "    r2 = r2_score(y_val, y_pred)\n",
    "    ev = explained_variance_score(y_val, y_pred)\n",
    "    mse = mean_squared_error(y_val, y_pred)\n",
    "    mae = mean_absolute_error(y_val, y_pred)\n",
    "    return r2, ev, mse, mae"
   ]
  },
  {
   "cell_type": "markdown",
   "metadata": {
    "cell_id": "b5ffe7ad6bf14df4843821fd0961ed9e",
    "deepnote_cell_type": "text-cell-h1",
    "is_collapsed": false,
    "tags": []
   },
   "source": [
    "# Lasso multiple linear regression (MLR) model with cross validation (CV)"
   ]
  },
  {
   "cell_type": "code",
   "execution_count": null,
   "metadata": {
    "cell_id": "ac4bd00ea7af4a699d2ee51483e9b20d",
    "deepnote_cell_height": 1147.828125,
    "deepnote_cell_type": "code",
    "deepnote_output_heights": [
     null,
     439.078125
    ],
    "deepnote_to_be_reexecuted": false,
    "execution_millis": 1247,
    "execution_start": 1650742168953,
    "source_hash": "54b21383",
    "tags": []
   },
   "outputs": [
    {
     "name": "stderr",
     "output_type": "stream",
     "text": [
      "/shared-libs/python3.7/py/lib/python3.7/site-packages/sklearn/linear_model/_coordinate_descent.py:1571: DataConversionWarning: A column-vector y was passed when a 1d array was expected. Please change the shape of y to (n_samples, ), for example using ravel().\n",
      "  y = column_or_1d(y, warn=True)\n",
      "Model: LassoCV(cv=10, n_alphas=1000, random_state=0)\n",
      "Predictions: (49,)\n"
     ]
    },
    {
     "data": {
      "image/png": "[encoded data removed]",
      "text/plain": [
       "<Figure size 1440x720 with 1 Axes>"
      ]
     },
     "metadata": {
      "image/png": {
       "height": 589,
       "width": 1167
      },
      "needs_background": "light"
     },
     "output_type": "display_data"
    },
    {
     "name": "stdout",
     "output_type": "stream",
     "text": [
      "R2 Score: 0.916706675\n",
      "Explained Variance Score: 0.920295045\n",
      "MSE: 0.006923865\n",
      "MAE: 0.068929556\n",
      "5.3278339712465475e-05\n"
     ]
    }
   ],
   "source": [
    "lassoMLR_cv_model = LassoCV(\n",
    "    cv=10, random_state=0, n_alphas=1000\n",
    ").fit(X_train, y_train)\n",
    "y_pred = lassoMLR_cv_model.predict(X_val)\n",
    "print(f'Model: {lassoMLR_cv_model}')\n",
    "print(f'Predictions: {y_pred.shape}')\n",
    "\n",
    "# plot\n",
    "plot_preds(y_pred, y_val)\n",
    "r2, ev, mse, mae = calc_metrics(y_pred, y_val)\n",
    "print(f'R2 Score: {r2:.9f}')\n",
    "print(f'Explained Variance Score: {ev:.9f}')\n",
    "print(f'MSE: {mse:.9f}')\n",
    "print(f'MAE: {mae:.9f}')\n",
    "# Update overall results, if we haven't already:\n",
    "if 'LassoLinearModel' not in experiments:\n",
    "    experiments.extend(['LassoLinearModel']*4)\n",
    "    metric_names.extend(['R2', 'Explained Variance', 'MSE', 'MAE'])\n",
    "    metric_vals.extend([r2, ev, mse, mae])\n",
    "\n",
    "\n",
    "print(lassoMLR_cv_model.alpha_)"
   ]
  },
  {
   "cell_type": "markdown",
   "metadata": {
    "cell_id": "16e7b7cd4a5a436791047a5b4285cf91",
    "deepnote_cell_type": "text-cell-h1",
    "is_collapsed": false,
    "tags": []
   },
   "source": [
    "# Polynomial Lasso MLR model with CV"
   ]
  },
  {
   "cell_type": "code",
   "execution_count": null,
   "metadata": {
    "cell_id": "66376ce1169844b1a0fa7a26781cb4aa",
    "deepnote_cell_height": 1421.21875,
    "deepnote_cell_type": "code",
    "deepnote_output_heights": [
     null,
     439.078125
    ],
    "deepnote_to_be_reexecuted": false,
    "execution_millis": 1146,
    "execution_start": 1650742170201,
    "source_hash": "865ce3a3",
    "tags": []
   },
   "outputs": [
    {
     "name": "stderr",
     "output_type": "stream",
     "text": [
      "/shared-libs/python3.7/py/lib/python3.7/site-packages/sklearn/linear_model/_coordinate_descent.py:1571: DataConversionWarning: A column-vector y was passed when a 1d array was expected. Please change the shape of y to (n_samples, ), for example using ravel().\n",
      "  y = column_or_1d(y, warn=True)\n",
      "/shared-libs/python3.7/py/lib/python3.7/site-packages/sklearn/linear_model/_coordinate_descent.py:648: ConvergenceWarning: Objective did not converge. You might want to increase the number of iterations, check the scale of the features or consider increasing regularisation. Duality gap: 1.270e-02, tolerance: 2.846e-03\n",
      "  coef_, l1_reg, l2_reg, X, y, max_iter, tol, rng, random, positive\n",
      "Model: LassoCV(cv=10, n_alphas=1000, random_state=0)\n",
      "Predictions: (49,)\n"
     ]
    },
    {
     "data": {
      "image/png": "[encoded data removed]",
      "text/plain": [
       "<Figure size 1440x720 with 1 Axes>"
      ]
     },
     "metadata": {
      "image/png": {
       "height": 589,
       "width": 1167
      },
      "needs_background": "light"
     },
     "output_type": "display_data"
    },
    {
     "name": "stdout",
     "output_type": "stream",
     "text": [
      "R2 Score: 0.941503316\n",
      "Explained Variance Score: 0.941943088\n",
      "MSE: 0.004862612\n",
      "MAE: 0.059527616\n",
      "5.3278339712465475e-05\n"
     ]
    }
   ],
   "source": [
    "poly_df = pd.read_csv(\"poly.csv\")\n",
    "poly_arctic = poly_df[['Rainfall', 'Rainfall^2', 'Rainfall^3', 'Rainfall^4', \\\n",
    "                        'Daylight', 'Daylight^2', 'Daylight^3', 'Daylight^4', \n",
    "                        'Ozone', 'Ozone^2', 'Ozone^3', 'Ozone^4', \n",
    "                        'MinTemp', 'MinTemp^2', 'MinTemp^3', 'MinTemp^4']]\n",
    "#poly_arctic.describe()\n",
    "poly_extent = poly_df[['Extent']]\n",
    "# split traing set and testing set to 9:1 (441:49):\n",
    "poly_X_train, poly_X_val, poly_y_train, poly_y_val = train_test_split(poly_arctic, poly_extent, test_size=0.1, \\\n",
    "                                                                    train_size=0.9, random_state=7)\n",
    "poly_X_train.shape, poly_X_val.shape\n",
    "\n",
    "\n",
    "poly_lassoMLR_cv_model = LassoCV(\n",
    "    cv=10, random_state=0, n_alphas=1000\n",
    ").fit(poly_X_train, poly_y_train)\n",
    "poly_y_pred = poly_lassoMLR_cv_model.predict(poly_X_val)\n",
    "print(f'Model: {poly_lassoMLR_cv_model}')\n",
    "print(f'Predictions: {poly_y_pred.shape}')\n",
    "\n",
    "# plot\n",
    "plot_preds(poly_y_pred, poly_y_val)\n",
    "r2, ev, mse, mae = calc_metrics(poly_y_pred, poly_y_val)\n",
    "print(f'R2 Score: {r2:.9f}')\n",
    "print(f'Explained Variance Score: {ev:.9f}')\n",
    "print(f'MSE: {mse:.9f}')\n",
    "print(f'MAE: {mae:.9f}')\n",
    "# Update overall results, if we haven't already:\n",
    "if 'PolynomialLassoLinearModel' not in experiments:\n",
    "    experiments.extend(['PolynomialLassoLinearModel']*4)\n",
    "    metric_names.extend(['R2', 'Explained Variance', 'MSE', 'MAE'])\n",
    "    metric_vals.extend([r2, ev, mse, mae])\n",
    "\n",
    "\n",
    "print(poly_lassoMLR_cv_model.alpha_)"
   ]
  },
  {
   "cell_type": "markdown",
   "metadata": {
    "cell_id": "043c1721eef94f258210e3dbf791b827",
    "deepnote_cell_type": "text-cell-h1",
    "is_collapsed": false,
    "tags": []
   },
   "source": [
    "# Random Forest Model"
   ]
  },
  {
   "cell_type": "code",
   "execution_count": null,
   "metadata": {
    "cell_id": "a303f0aa58a942a7a1c9e58b8e9c87d4",
    "deepnote_cell_height": 1110.140625,
    "deepnote_cell_type": "code",
    "deepnote_output_heights": [
     null,
     439.078125
    ],
    "deepnote_to_be_reexecuted": false,
    "execution_millis": 4929,
    "execution_start": 1650742171396,
    "source_hash": "9f67b3d0",
    "tags": []
   },
   "outputs": [
    {
     "name": "stderr",
     "output_type": "stream",
     "text": [
      "/shared-libs/python3.7/py-core/lib/python3.7/site-packages/ipykernel_launcher.py:5: DataConversionWarning: A column-vector y was passed when a 1d array was expected. Please change the shape of y to (n_samples,), for example using ravel().\n",
      "  \"\"\"\n",
      "Model: RandomForestRegressor(max_depth=20, n_estimators=2000, random_state=7)\n",
      "Predictions: (49,)\n"
     ]
    },
    {
     "data": {
      "image/png": "[encoded data removed]",
      "text/plain": [
       "<Figure size 1440x720 with 1 Axes>"
      ]
     },
     "metadata": {
      "image/png": {
       "height": 589,
       "width": 1167
      },
      "needs_background": "light"
     },
     "output_type": "display_data"
    },
    {
     "name": "stdout",
     "output_type": "stream",
     "text": [
      "R2 Score: 0.988161681\n",
      "Explained Variance Score: 0.988393751\n",
      "MSE: 0.000984075\n",
      "MAE: 0.024542347\n"
     ]
    }
   ],
   "source": [
    "random_forest_model = RandomForestRegressor(\n",
    "    n_estimators=2000,\n",
    "    max_depth=20,\n",
    "    random_state=7\n",
    ").fit(X_train, y_train)\n",
    "y_pred = random_forest_model.predict(X_val)\n",
    "print(f'Model: {random_forest_model}')\n",
    "print(f'Predictions: {y_pred.shape}')\n",
    "\n",
    "#plot\n",
    "plot_preds(y_pred, y_val)\n",
    "r2, ev, mse, mae = calc_metrics(y_pred, y_val)\n",
    "print(f'R2 Score: {r2:.9f}')\n",
    "print(f'Explained Variance Score: {ev:.9f}')\n",
    "print(f'MSE: {mse:.9f}')\n",
    "print(f'MAE: {mae:.9f}')\n",
    "# Update overall results, if we haven't already:\n",
    "if 'RandomForestModel' not in experiments:\n",
    "    experiments.extend(['RandomForestModel']*4)\n",
    "    metric_names.extend(['R2', 'Explained Variance', 'MSE', 'MAE'])\n",
    "    metric_vals.extend([r2, ev, mse, mae])"
   ]
  },
  {
   "cell_type": "markdown",
   "metadata": {
    "cell_id": "b411b2456cd1404c8b8ad5e632330a6e",
    "deepnote_cell_type": "text-cell-h1",
    "is_collapsed": false,
    "tags": []
   },
   "source": [
    "# Optimizing Multilayer Perceptron (MLP) hyperparameter"
   ]
  },
  {
   "cell_type": "code",
   "execution_count": null,
   "metadata": {
    "cell_id": "095ef2d93341452a970b0f1304da8cbc",
    "deepnote_cell_height": 1302,
    "deepnote_cell_type": "code",
    "deepnote_output_heights": [
     null,
     439.078125
    ],
    "deepnote_to_be_reexecuted": false,
    "execution_millis": 546,
    "execution_start": 1650742176332,
    "source_hash": "e594cb8d",
    "tags": []
   },
   "outputs": [
    {
     "name": "stderr",
     "output_type": "stream",
     "text": [
      "/shared-libs/python3.7/py/lib/python3.7/site-packages/sklearn/neural_network/_multilayer_perceptron.py:1599: DataConversionWarning: A column-vector y was passed when a 1d array was expected. Please change the shape of y to (n_samples, ), for example using ravel().\n",
      "  y = column_or_1d(y, warn=True)\n",
      "/shared-libs/python3.7/py/lib/python3.7/site-packages/sklearn/neural_network/_multilayer_perceptron.py:549: ConvergenceWarning: lbfgs failed to converge (status=1):\n",
      "STOP: TOTAL NO. of ITERATIONS REACHED LIMIT.\n",
      "\n",
      "Increase the number of iterations (max_iter) or scale the data as shown in:\n",
      "    https://scikit-learn.org/stable/modules/preprocessing.html\n",
      "  self.n_iter_ = _check_optimize_result(\"lbfgs\", opt_res, self.max_iter)\n",
      "Model: MLPRegressor(batch_size=32, hidden_layer_sizes=(10, 10, 10, 10, 10, 10),\n",
      "             random_state=0, solver='lbfgs')\n",
      "Predictions: (49,)\n"
     ]
    },
    {
     "data": {
      "image/png": "[encoded data removed]",
      "text/plain": [
       "<Figure size 1440x720 with 1 Axes>"
      ]
     },
     "metadata": {
      "image/png": {
       "height": 589,
       "width": 1167
      },
      "needs_background": "light"
     },
     "output_type": "display_data"
    },
    {
     "name": "stdout",
     "output_type": "stream",
     "text": [
      "R2 Score: 0.984524657\n",
      "Explained Variance Score: 0.984801210\n",
      "MSE: 0.001286408\n",
      "MAE: 0.026479185\n"
     ]
    }
   ],
   "source": [
    "# optimizing MLP hyperparameter\n",
    "nn = MLPRegressor(\n",
    "    hidden_layer_sizes=(10,10,10,10,10,10), \n",
    "    batch_size=32,\n",
    "    activation='relu',\n",
    "    solver='lbfgs', #lbfgs, sgd, adam\n",
    "    random_state=0,\n",
    ").fit(X_train, y_train)\n",
    "y_pred = nn.predict(X_val)\n",
    "print(f'Model: {nn}')\n",
    "print(f'Predictions: {y_pred.shape}')\n",
    "\n",
    "# plot\n",
    "plot_preds(y_pred, y_val)\n",
    "r2, ev, mse, mae = calc_metrics(y_pred, y_val)\n",
    "print(f'R2 Score: {r2:.9f}')\n",
    "print(f'Explained Variance Score: {ev:.9f}')\n",
    "print(f'MSE: {mse:.9f}')\n",
    "print(f'MAE: {mae:.9f}')\n",
    "# Update overall results, if we haven't already:\n",
    "if 'AdvancedNN' not in experiments:\n",
    "    experiments.extend(['AdvancedNN']*4)\n",
    "    metric_names.extend(['R2', 'Explained Variance', 'MSE', 'MAE'])\n",
    "    metric_vals.extend([r2, ev, mse, mae])"
   ]
  },
  {
   "cell_type": "markdown",
   "metadata": {
    "cell_id": "4079e5d640b14ab6a3b18d95f3007f1a",
    "deepnote_cell_type": "text-cell-h1",
    "is_collapsed": false,
    "tags": []
   },
   "source": [
    "# Comparing models"
   ]
  },
  {
   "cell_type": "code",
   "execution_count": null,
   "metadata": {
    "cell_id": "6044cf2d87bf4aae8103755b87d0089b",
    "deepnote_cell_height": 1403.359375,
    "deepnote_cell_type": "code",
    "deepnote_output_heights": [
     369.546875
    ],
    "deepnote_table_loading": false,
    "deepnote_table_state": {
     "filters": [],
     "pageIndex": 0,
     "pageSize": 10,
     "sortBy": []
    },
    "deepnote_to_be_reexecuted": false,
    "execution_millis": 1094,
    "execution_start": 1650742176888,
    "source_hash": "fabeee8d",
    "tags": []
   },
   "outputs": [
    {
     "data": {
      "image/png": "[encoded data removed]",
      "text/plain": [
       "<Figure size 1008x432 with 2 Axes>"
      ]
     },
     "metadata": {
      "image/png": {
       "height": 424,
       "width": 999
      },
      "needs_background": "light"
     },
     "output_type": "display_data"
    },
    {
     "name": "stdout",
     "output_type": "stream",
     "text": [
      "                    Experiment              Metric     Value\n",
      "0             LassoLinearModel                  R2  0.916707\n",
      "1             LassoLinearModel  Explained Variance  0.920295\n",
      "2             LassoLinearModel                 MSE  0.006924\n",
      "3             LassoLinearModel                 MAE  0.068930\n",
      "4   PolynomialLassoLinearModel                  R2  0.941503\n",
      "5   PolynomialLassoLinearModel  Explained Variance  0.941943\n",
      "6   PolynomialLassoLinearModel                 MSE  0.004863\n",
      "7   PolynomialLassoLinearModel                 MAE  0.059528\n",
      "8            RandomForestModel                  R2  0.988162\n",
      "9            RandomForestModel  Explained Variance  0.988394\n",
      "10           RandomForestModel                 MSE  0.000984\n",
      "11           RandomForestModel                 MAE  0.024542\n",
      "12                  AdvancedNN                  R2  0.984525\n",
      "13                  AdvancedNN  Explained Variance  0.984801\n",
      "14                  AdvancedNN                 MSE  0.001286\n",
      "15                  AdvancedNN                 MAE  0.026479\n"
     ]
    }
   ],
   "source": [
    "# comparing models\n",
    "df_res = pd.DataFrame()\n",
    "df_res['Experiment'] = experiments\n",
    "df_res['Metric'] = metric_names\n",
    "df_res['Value'] = metric_vals\n",
    "#df_res.head()\n",
    "\n",
    "# barplot metrics and errors\n",
    "fig, axes = plt.subplots(2, 1, figsize=(14, 6))\n",
    "sns.barplot(\n",
    "    data=df_res[df_res.Metric.isin(['R2', 'Explained Variance'])],\n",
    "    orient='h',\n",
    "    x='Value',\n",
    "    y='Experiment',\n",
    "    hue='Metric',\n",
    "    ax=axes[0]\n",
    ")\n",
    "axes[0].set_title('Metrics (higher is better)')\n",
    "axes[0].legend(bbox_to_anchor=(1.01, 1), loc='upper left', borderaxespad=0.)\n",
    "sns.barplot(\n",
    "    data=df_res[~df_res.Metric.isin(['R2', 'Explained Variance'])],\n",
    "    orient='h',\n",
    "    x='Value',\n",
    "    y='Experiment',\n",
    "    hue='Metric',\n",
    "    ax=axes[1],\n",
    ")\n",
    "axes[1].set_title('Errors (lower is better)')\n",
    "axes[1].legend(bbox_to_anchor=(1.01, 1), loc='upper left', borderaxespad=0.)\n",
    "plt.tight_layout()\n",
    "plt.show()\n",
    "\n",
    "print(df_res)"
   ]
  }
 ],
 "metadata": {
  "deepnote": {},
  "deepnote_execution_queue": [],
  "deepnote_notebook_id": "57bae759-c4d7-4296-9c16-d75651915225",
  "kernelspec": {
   "display_name": "Python 3 (ipykernel)",
   "language": "python",
   "name": "python3"
  },
  "language_info": {
   "codemirror_mode": {
    "name": "ipython",
    "version": 3
   },
   "file_extension": ".py",
   "mimetype": "text/x-python",
   "name": "python",
   "nbconvert_exporter": "python",
   "pygments_lexer": "ipython3",
   "version": "3.9.12"
  }
 },
 "nbformat": 4,
 "nbformat_minor": 4
}
