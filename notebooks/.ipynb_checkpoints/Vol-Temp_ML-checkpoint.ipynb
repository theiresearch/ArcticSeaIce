{
 "cells": [
  {
   "cell_type": "code",
   "execution_count": 1,
   "metadata": {
    "cell_id": "11cdbd55-3244-4d07-b7a2-ffcec6dcf9f4",
    "deepnote_cell_height": 243,
    "deepnote_cell_type": "code",
    "deepnote_to_be_reexecuted": false,
    "execution_millis": 1960,
    "execution_start": 1650847890024,
    "source_hash": "67fd14f0",
    "tags": []
   },
   "outputs": [],
   "source": [
    "import pandas as pd\n",
    "from sklearn.model_selection import train_test_split\n",
    "import matplotlib.pyplot as plt\n",
    "import seaborn as sns # contains barplot\n",
    "from sklearn.metrics import r2_score, explained_variance_score, mean_squared_error, mean_absolute_error\n",
    "\n",
    "from sklearn.linear_model import LassoCV # lasso linear model with cross-validation\n",
    "from sklearn.ensemble import RandomForestRegressor # random forest\n",
    "from sklearn.ensemble import GradientBoostingRegressor # gradient boosting\n",
    "from sklearn.neural_network import MLPRegressor # multiplayer perceptron"
   ]
  },
  {
   "cell_type": "code",
   "execution_count": 2,
   "metadata": {
    "cell_id": "fd0c46327e124ee68c49e93019620132",
    "deepnote_cell_height": 554,
    "deepnote_cell_type": "code",
    "deepnote_to_be_reexecuted": false,
    "execution_millis": 100,
    "execution_start": 1650847891987,
    "source_hash": "78514a1",
    "tags": []
   },
   "outputs": [
    {
     "data": {
      "application/vnd.deepnote.dataframe.v3+json": {
       "column_count": 16,
       "columns": [
        {
         "dtype": "float64",
         "name": "observation",
         "stats": {
          "histogram": [
           {
            "bin_end": 49.9,
            "bin_start": 1,
            "count": 1
           },
           {
            "bin_end": 98.8,
            "bin_start": 49.9,
            "count": 0
           },
           {
            "bin_end": 147.7,
            "bin_start": 98.8,
            "count": 2
           },
           {
            "bin_end": 196.6,
            "bin_start": 147.7,
            "count": 0
           },
           {
            "bin_end": 245.5,
            "bin_start": 196.6,
            "count": 0
           },
           {
            "bin_end": 294.4,
            "bin_start": 245.5,
            "count": 2
           },
           {
            "bin_end": 343.3,
            "bin_start": 294.4,
            "count": 0
           },
           {
            "bin_end": 392.2,
            "bin_start": 343.3,
            "count": 1
           },
           {
            "bin_end": 441.09999999999997,
            "bin_start": 392.2,
            "count": 0
           },
           {
            "bin_end": 490,
            "bin_start": 441.09999999999997,
            "count": 2
           }
          ],
          "max": "490.0",
          "min": "1.0",
          "nan_count": 0,
          "unique_count": 6
         }
        },
        {
         "dtype": "float64",
         "name": "year",
         "stats": {
          "histogram": [
           {
            "bin_end": 212.61909333973276,
            "bin_start": 11.798992599703068,
            "count": 1
           },
           {
            "bin_end": 413.43919407976244,
            "bin_start": 212.61909333973276,
            "count": 0
           },
           {
            "bin_end": 614.2592948197921,
            "bin_start": 413.43919407976244,
            "count": 1
           },
           {
            "bin_end": 815.0793955598218,
            "bin_start": 614.2592948197921,
            "count": 0
           },
           {
            "bin_end": 1015.8994962998515,
            "bin_start": 815.0793955598218,
            "count": 0
           },
           {
            "bin_end": 1216.7195970398811,
            "bin_start": 1015.8994962998515,
            "count": 0
           },
           {
            "bin_end": 1417.539697779911,
            "bin_start": 1216.7195970398811,
            "count": 0
           },
           {
            "bin_end": 1618.3597985199406,
            "bin_start": 1417.539697779911,
            "count": 0
           },
           {
            "bin_end": 1819.1798992599702,
            "bin_start": 1618.3597985199406,
            "count": 0
           },
           {
            "bin_end": 2020,
            "bin_start": 1819.1798992599702,
            "count": 6
           }
          ],
          "max": "2020.0",
          "min": "11.798992599703068",
          "nan_count": 0,
          "unique_count": 8
         }
        },
        {
         "dtype": "float64",
         "name": "month",
         "stats": {
          "histogram": [
           {
            "bin_end": 49.9,
            "bin_start": 1,
            "count": 7
           },
           {
            "bin_end": 98.8,
            "bin_start": 49.9,
            "count": 0
           },
           {
            "bin_end": 147.7,
            "bin_start": 98.8,
            "count": 0
           },
           {
            "bin_end": 196.6,
            "bin_start": 147.7,
            "count": 0
           },
           {
            "bin_end": 245.5,
            "bin_start": 196.6,
            "count": 0
           },
           {
            "bin_end": 294.4,
            "bin_start": 245.5,
            "count": 0
           },
           {
            "bin_end": 343.3,
            "bin_start": 294.4,
            "count": 0
           },
           {
            "bin_end": 392.2,
            "bin_start": 343.3,
            "count": 0
           },
           {
            "bin_end": 441.09999999999997,
            "bin_start": 392.2,
            "count": 0
           },
           {
            "bin_end": 490,
            "bin_start": 441.09999999999997,
            "count": 1
           }
          ],
          "max": "490.0",
          "min": "1.0",
          "nan_count": 0,
          "unique_count": 8
         }
        },
        {
         "dtype": "float64",
         "name": "Extent",
         "stats": {
          "histogram": [
           {
            "bin_end": 49,
            "bin_start": 0,
            "count": 7
           },
           {
            "bin_end": 98,
            "bin_start": 49,
            "count": 0
           },
           {
            "bin_end": 147,
            "bin_start": 98,
            "count": 0
           },
           {
            "bin_end": 196,
            "bin_start": 147,
            "count": 0
           },
           {
            "bin_end": 245,
            "bin_start": 196,
            "count": 0
           },
           {
            "bin_end": 294,
            "bin_start": 245,
            "count": 0
           },
           {
            "bin_end": 343,
            "bin_start": 294,
            "count": 0
           },
           {
            "bin_end": 392,
            "bin_start": 343,
            "count": 0
           },
           {
            "bin_end": 441,
            "bin_start": 392,
            "count": 0
           },
           {
            "bin_end": 490,
            "bin_start": 441,
            "count": 1
           }
          ],
          "max": "490.0",
          "min": "0.0",
          "nan_count": 0,
          "unique_count": 8
         }
        },
        {
         "dtype": "float64",
         "name": "Rainfall",
         "stats": {
          "histogram": [
           {
            "bin_end": 49,
            "bin_start": 0,
            "count": 7
           },
           {
            "bin_end": 98,
            "bin_start": 49,
            "count": 0
           },
           {
            "bin_end": 147,
            "bin_start": 98,
            "count": 0
           },
           {
            "bin_end": 196,
            "bin_start": 147,
            "count": 0
           },
           {
            "bin_end": 245,
            "bin_start": 196,
            "count": 0
           },
           {
            "bin_end": 294,
            "bin_start": 245,
            "count": 0
           },
           {
            "bin_end": 343,
            "bin_start": 294,
            "count": 0
           },
           {
            "bin_end": 392,
            "bin_start": 343,
            "count": 0
           },
           {
            "bin_end": 441,
            "bin_start": 392,
            "count": 0
           },
           {
            "bin_end": 490,
            "bin_start": 441,
            "count": 1
           }
          ],
          "max": "490.0",
          "min": "0.0",
          "nan_count": 0,
          "unique_count": 8
         }
        },
        {
         "dtype": "float64",
         "name": "Daylight",
         "stats": {
          "histogram": [
           {
            "bin_end": 49,
            "bin_start": 0,
            "count": 7
           },
           {
            "bin_end": 98,
            "bin_start": 49,
            "count": 0
           },
           {
            "bin_end": 147,
            "bin_start": 98,
            "count": 0
           },
           {
            "bin_end": 196,
            "bin_start": 147,
            "count": 0
           },
           {
            "bin_end": 245,
            "bin_start": 196,
            "count": 0
           },
           {
            "bin_end": 294,
            "bin_start": 245,
            "count": 0
           },
           {
            "bin_end": 343,
            "bin_start": 294,
            "count": 0
           },
           {
            "bin_end": 392,
            "bin_start": 343,
            "count": 0
           },
           {
            "bin_end": 441,
            "bin_start": 392,
            "count": 0
           },
           {
            "bin_end": 490,
            "bin_start": 441,
            "count": 1
           }
          ],
          "max": "490.0",
          "min": "0.0",
          "nan_count": 0,
          "unique_count": 8
         }
        },
        {
         "dtype": "float64",
         "name": "Population",
         "stats": {
          "histogram": [
           {
            "bin_end": 49,
            "bin_start": 0,
            "count": 7
           },
           {
            "bin_end": 98,
            "bin_start": 49,
            "count": 0
           },
           {
            "bin_end": 147,
            "bin_start": 98,
            "count": 0
           },
           {
            "bin_end": 196,
            "bin_start": 147,
            "count": 0
           },
           {
            "bin_end": 245,
            "bin_start": 196,
            "count": 0
           },
           {
            "bin_end": 294,
            "bin_start": 245,
            "count": 0
           },
           {
            "bin_end": 343,
            "bin_start": 294,
            "count": 0
           },
           {
            "bin_end": 392,
            "bin_start": 343,
            "count": 0
           },
           {
            "bin_end": 441,
            "bin_start": 392,
            "count": 0
           },
           {
            "bin_end": 490,
            "bin_start": 441,
            "count": 1
           }
          ],
          "max": "490.0",
          "min": "0.0",
          "nan_count": 0,
          "unique_count": 8
         }
        },
        {
         "dtype": "float64",
         "name": "CO2",
         "stats": {
          "histogram": [
           {
            "bin_end": 49,
            "bin_start": 0,
            "count": 7
           },
           {
            "bin_end": 98,
            "bin_start": 49,
            "count": 0
           },
           {
            "bin_end": 147,
            "bin_start": 98,
            "count": 0
           },
           {
            "bin_end": 196,
            "bin_start": 147,
            "count": 0
           },
           {
            "bin_end": 245,
            "bin_start": 196,
            "count": 0
           },
           {
            "bin_end": 294,
            "bin_start": 245,
            "count": 0
           },
           {
            "bin_end": 343,
            "bin_start": 294,
            "count": 0
           },
           {
            "bin_end": 392,
            "bin_start": 343,
            "count": 0
           },
           {
            "bin_end": 441,
            "bin_start": 392,
            "count": 0
           },
           {
            "bin_end": 490,
            "bin_start": 441,
            "count": 1
           }
          ],
          "max": "490.0",
          "min": "0.0",
          "nan_count": 0,
          "unique_count": 8
         }
        },
        {
         "dtype": "float64",
         "name": "Ozone",
         "stats": {
          "histogram": [
           {
            "bin_end": 49,
            "bin_start": 0,
            "count": 7
           },
           {
            "bin_end": 98,
            "bin_start": 49,
            "count": 0
           },
           {
            "bin_end": 147,
            "bin_start": 98,
            "count": 0
           },
           {
            "bin_end": 196,
            "bin_start": 147,
            "count": 0
           },
           {
            "bin_end": 245,
            "bin_start": 196,
            "count": 0
           },
           {
            "bin_end": 294,
            "bin_start": 245,
            "count": 0
           },
           {
            "bin_end": 343,
            "bin_start": 294,
            "count": 0
           },
           {
            "bin_end": 392,
            "bin_start": 343,
            "count": 0
           },
           {
            "bin_end": 441,
            "bin_start": 392,
            "count": 0
           },
           {
            "bin_end": 490,
            "bin_start": 441,
            "count": 1
           }
          ],
          "max": "490.0",
          "min": "0.0",
          "nan_count": 0,
          "unique_count": 8
         }
        },
        {
         "dtype": "float64",
         "name": "OceanTemperature_NorthernHemisphere",
         "stats": {
          "histogram": [
           {
            "bin_end": 49,
            "bin_start": 0,
            "count": 7
           },
           {
            "bin_end": 98,
            "bin_start": 49,
            "count": 0
           },
           {
            "bin_end": 147,
            "bin_start": 98,
            "count": 0
           },
           {
            "bin_end": 196,
            "bin_start": 147,
            "count": 0
           },
           {
            "bin_end": 245,
            "bin_start": 196,
            "count": 0
           },
           {
            "bin_end": 294,
            "bin_start": 245,
            "count": 0
           },
           {
            "bin_end": 343,
            "bin_start": 294,
            "count": 0
           },
           {
            "bin_end": 392,
            "bin_start": 343,
            "count": 0
           },
           {
            "bin_end": 441,
            "bin_start": 392,
            "count": 0
           },
           {
            "bin_end": 490,
            "bin_start": 441,
            "count": 1
           }
          ],
          "max": "490.0",
          "min": "0.0",
          "nan_count": 0,
          "unique_count": 8
         }
        },
        {
         "dtype": "float64",
         "name": "LandTemperature_NorthernHemisphere",
         "stats": {
          "histogram": [
           {
            "bin_end": 49,
            "bin_start": 0,
            "count": 7
           },
           {
            "bin_end": 98,
            "bin_start": 49,
            "count": 0
           },
           {
            "bin_end": 147,
            "bin_start": 98,
            "count": 0
           },
           {
            "bin_end": 196,
            "bin_start": 147,
            "count": 0
           },
           {
            "bin_end": 245,
            "bin_start": 196,
            "count": 0
           },
           {
            "bin_end": 294,
            "bin_start": 245,
            "count": 0
           },
           {
            "bin_end": 343,
            "bin_start": 294,
            "count": 0
           },
           {
            "bin_end": 392,
            "bin_start": 343,
            "count": 0
           },
           {
            "bin_end": 441,
            "bin_start": 392,
            "count": 0
           },
           {
            "bin_end": 490,
            "bin_start": 441,
            "count": 1
           }
          ],
          "max": "490.0",
          "min": "0.0",
          "nan_count": 0,
          "unique_count": 8
         }
        },
        {
         "dtype": "float64",
         "name": "MaxTemperature_NorthSlopeAlaska",
         "stats": {
          "histogram": [
           {
            "bin_end": 49,
            "bin_start": 0,
            "count": 7
           },
           {
            "bin_end": 98,
            "bin_start": 49,
            "count": 0
           },
           {
            "bin_end": 147,
            "bin_start": 98,
            "count": 0
           },
           {
            "bin_end": 196,
            "bin_start": 147,
            "count": 0
           },
           {
            "bin_end": 245,
            "bin_start": 196,
            "count": 0
           },
           {
            "bin_end": 294,
            "bin_start": 245,
            "count": 0
           },
           {
            "bin_end": 343,
            "bin_start": 294,
            "count": 0
           },
           {
            "bin_end": 392,
            "bin_start": 343,
            "count": 0
           },
           {
            "bin_end": 441,
            "bin_start": 392,
            "count": 0
           },
           {
            "bin_end": 490,
            "bin_start": 441,
            "count": 1
           }
          ],
          "max": "490.0",
          "min": "0.0",
          "nan_count": 0,
          "unique_count": 8
         }
        },
        {
         "dtype": "float64",
         "name": "AvgTemperature_NorthSlopeAlaska",
         "stats": {
          "histogram": [
           {
            "bin_end": 49,
            "bin_start": 0,
            "count": 7
           },
           {
            "bin_end": 98,
            "bin_start": 49,
            "count": 0
           },
           {
            "bin_end": 147,
            "bin_start": 98,
            "count": 0
           },
           {
            "bin_end": 196,
            "bin_start": 147,
            "count": 0
           },
           {
            "bin_end": 245,
            "bin_start": 196,
            "count": 0
           },
           {
            "bin_end": 294,
            "bin_start": 245,
            "count": 0
           },
           {
            "bin_end": 343,
            "bin_start": 294,
            "count": 0
           },
           {
            "bin_end": 392,
            "bin_start": 343,
            "count": 0
           },
           {
            "bin_end": 441,
            "bin_start": 392,
            "count": 0
           },
           {
            "bin_end": 490,
            "bin_start": 441,
            "count": 1
           }
          ],
          "max": "490.0",
          "min": "0.0",
          "nan_count": 0,
          "unique_count": 8
         }
        },
        {
         "dtype": "float64",
         "name": "MinTemperature_NorthSlopeAlaska",
         "stats": {
          "histogram": [
           {
            "bin_end": 49,
            "bin_start": 0,
            "count": 7
           },
           {
            "bin_end": 98,
            "bin_start": 49,
            "count": 0
           },
           {
            "bin_end": 147,
            "bin_start": 98,
            "count": 0
           },
           {
            "bin_end": 196,
            "bin_start": 147,
            "count": 0
           },
           {
            "bin_end": 245,
            "bin_start": 196,
            "count": 0
           },
           {
            "bin_end": 294,
            "bin_start": 245,
            "count": 0
           },
           {
            "bin_end": 343,
            "bin_start": 294,
            "count": 0
           },
           {
            "bin_end": 392,
            "bin_start": 343,
            "count": 0
           },
           {
            "bin_end": 441,
            "bin_start": 392,
            "count": 0
           },
           {
            "bin_end": 490,
            "bin_start": 441,
            "count": 1
           }
          ],
          "max": "490.0",
          "min": "0.0",
          "nan_count": 0,
          "unique_count": 8
         }
        },
        {
         "dtype": "float64",
         "name": "GDP_WORLD",
         "stats": {
          "histogram": [
           {
            "bin_end": 49,
            "bin_start": 0,
            "count": 7
           },
           {
            "bin_end": 98,
            "bin_start": 49,
            "count": 0
           },
           {
            "bin_end": 147,
            "bin_start": 98,
            "count": 0
           },
           {
            "bin_end": 196,
            "bin_start": 147,
            "count": 0
           },
           {
            "bin_end": 245,
            "bin_start": 196,
            "count": 0
           },
           {
            "bin_end": 294,
            "bin_start": 245,
            "count": 0
           },
           {
            "bin_end": 343,
            "bin_start": 294,
            "count": 0
           },
           {
            "bin_end": 392,
            "bin_start": 343,
            "count": 0
           },
           {
            "bin_end": 441,
            "bin_start": 392,
            "count": 0
           },
           {
            "bin_end": 490,
            "bin_start": 441,
            "count": 1
           }
          ],
          "max": "490.0",
          "min": "0.0",
          "nan_count": 0,
          "unique_count": 8
         }
        },
        {
         "dtype": "float64",
         "name": "ArcticIceVolume",
         "stats": {
          "histogram": [
           {
            "bin_end": 49,
            "bin_start": 0,
            "count": 7
           },
           {
            "bin_end": 98,
            "bin_start": 49,
            "count": 0
           },
           {
            "bin_end": 147,
            "bin_start": 98,
            "count": 0
           },
           {
            "bin_end": 196,
            "bin_start": 147,
            "count": 0
           },
           {
            "bin_end": 245,
            "bin_start": 196,
            "count": 0
           },
           {
            "bin_end": 294,
            "bin_start": 245,
            "count": 0
           },
           {
            "bin_end": 343,
            "bin_start": 294,
            "count": 0
           },
           {
            "bin_end": 392,
            "bin_start": 343,
            "count": 0
           },
           {
            "bin_end": 441,
            "bin_start": 392,
            "count": 0
           },
           {
            "bin_end": 490,
            "bin_start": 441,
            "count": 1
           }
          ],
          "max": "490.0",
          "min": "0.0",
          "nan_count": 0,
          "unique_count": 8
         }
        },
        {
         "dtype": "object",
         "name": "_deepnote_index_column"
        }
       ],
       "row_count": 8,
       "rows": [
        {
         "ArcticIceVolume": 490,
         "AvgTemperature_NorthSlopeAlaska": 490,
         "CO2": 490,
         "Daylight": 490,
         "Extent": 490,
         "GDP_WORLD": 490,
         "LandTemperature_NorthernHemisphere": 490,
         "MaxTemperature_NorthSlopeAlaska": 490,
         "MinTemperature_NorthSlopeAlaska": 490,
         "OceanTemperature_NorthernHemisphere": 490,
         "Ozone": 490,
         "Population": 490,
         "Rainfall": 490,
         "_deepnote_index_column": "count",
         "month": 490,
         "observation": 490,
         "year": 490
        },
        {
         "ArcticIceVolume": 0.5392568035612245,
         "AvgTemperature_NorthSlopeAlaska": 0.5451036734693877,
         "CO2": 0.4439659183673469,
         "Daylight": 0.493069387755102,
         "Extent": 0.6240897959183674,
         "GDP_WORLD": 0.40851329428571426,
         "LandTemperature_NorthernHemisphere": 0.4666851020408163,
         "MaxTemperature_NorthSlopeAlaska": 0.5366538775510203,
         "MinTemperature_NorthSlopeAlaska": 0.5463344897959185,
         "OceanTemperature_NorthernHemisphere": 0.45866448979591834,
         "Ozone": 0.3934144081632653,
         "Population": 0.5027134693877551,
         "Rainfall": 0.3463265306122449,
         "_deepnote_index_column": "mean",
         "month": 6.479591836734694,
         "observation": 245.5,
         "year": 1999.9183673469388
        },
        {
         "ArcticIceVolume": 0.25073166942438113,
         "AvgTemperature_NorthSlopeAlaska": 0.27159357549899205,
         "CO2": 0.2709673313115659,
         "Daylight": 0.32422900728223497,
         "Extent": 0.2602687774224576,
         "GDP_WORLD": 0.32178108929993626,
         "LandTemperature_NorthernHemisphere": 0.14815118929685098,
         "MaxTemperature_NorthSlopeAlaska": 0.2633959633954004,
         "MinTemperature_NorthSlopeAlaska": 0.2770907322152728,
         "OceanTemperature_NorthernHemisphere": 0.21446053575176352,
         "Ozone": 0.2458409766373891,
         "Population": 0.28925712089055605,
         "Rainfall": 0.3114002538672586,
         "_deepnote_index_column": "std",
         "month": 3.4476202985004907,
         "observation": 141.59507995218854,
         "year": 11.798992599703068
        },
        {
         "ArcticIceVolume": 0,
         "AvgTemperature_NorthSlopeAlaska": 0,
         "CO2": 0,
         "Daylight": 0,
         "Extent": 0,
         "GDP_WORLD": 0,
         "LandTemperature_NorthernHemisphere": 0,
         "MaxTemperature_NorthSlopeAlaska": 0,
         "MinTemperature_NorthSlopeAlaska": 0,
         "OceanTemperature_NorthernHemisphere": 0,
         "Ozone": 0,
         "Population": 0,
         "Rainfall": 0,
         "_deepnote_index_column": "min",
         "month": 1,
         "observation": 1,
         "year": 1980
        },
        {
         "ArcticIceVolume": 0.3531390445,
         "AvgTemperature_NorthSlopeAlaska": 0.2887,
         "CO2": 0.21815,
         "Daylight": 0.264,
         "Extent": 0.39825,
         "GDP_WORLD": 0.1378380625,
         "LandTemperature_NorthernHemisphere": 0.359025,
         "MaxTemperature_NorthSlopeAlaska": 0.29157500000000003,
         "MinTemperature_NorthSlopeAlaska": 0.283,
         "OceanTemperature_NorthernHemisphere": 0.2891,
         "Ozone": 0.17029249999999999,
         "Population": 0.25895,
         "Rainfall": 0.1,
         "_deepnote_index_column": "25%",
         "month": 3.25,
         "observation": 123.25,
         "year": 1990
        },
        {
         "ArcticIceVolume": 0.5524751965,
         "AvgTemperature_NorthSlopeAlaska": 0.49885,
         "CO2": 0.41386500000000004,
         "Daylight": 0.517,
         "Extent": 0.681,
         "GDP_WORLD": 0.295926615,
         "LandTemperature_NorthernHemisphere": 0.4612,
         "MaxTemperature_NorthSlopeAlaska": 0.4994,
         "MinTemperature_NorthSlopeAlaska": 0.49765,
         "OceanTemperature_NorthernHemisphere": 0.4297,
         "Ozone": 0.36809000000000003,
         "Population": 0.5046,
         "Rainfall": 0.225,
         "_deepnote_index_column": "50%",
         "month": 6,
         "observation": 245.5,
         "year": 2000
        },
        {
         "ArcticIceVolume": 0.7436848859999999,
         "AvgTemperature_NorthSlopeAlaska": 0.823575,
         "CO2": 0.66603,
         "Daylight": 0.8165,
         "Extent": 0.857,
         "GDP_WORLD": 0.6958404475,
         "LandTemperature_NorthernHemisphere": 0.5664,
         "MaxTemperature_NorthSlopeAlaska": 0.800675,
         "MinTemperature_NorthSlopeAlaska": 0.831,
         "OceanTemperature_NorthernHemisphere": 0.6016,
         "Ozone": 0.598325,
         "Population": 0.75005,
         "Rainfall": 0.5875,
         "_deepnote_index_column": "75%",
         "month": 9,
         "observation": 367.75,
         "year": 2010
        },
        {
         "ArcticIceVolume": 1,
         "AvgTemperature_NorthSlopeAlaska": 1,
         "CO2": 1,
         "Daylight": 1,
         "Extent": 1,
         "GDP_WORLD": 1,
         "LandTemperature_NorthernHemisphere": 1,
         "MaxTemperature_NorthSlopeAlaska": 1,
         "MinTemperature_NorthSlopeAlaska": 1,
         "OceanTemperature_NorthernHemisphere": 1,
         "Ozone": 1,
         "Population": 1,
         "Rainfall": 1,
         "_deepnote_index_column": "max",
         "month": 12,
         "observation": 490,
         "year": 2020
        }
       ]
      },
      "text/html": [
       "<div>\n",
       "<style scoped>\n",
       "    .dataframe tbody tr th:only-of-type {\n",
       "        vertical-align: middle;\n",
       "    }\n",
       "\n",
       "    .dataframe tbody tr th {\n",
       "        vertical-align: top;\n",
       "    }\n",
       "\n",
       "    .dataframe thead th {\n",
       "        text-align: right;\n",
       "    }\n",
       "</style>\n",
       "<table border=\"1\" class=\"dataframe\">\n",
       "  <thead>\n",
       "    <tr style=\"text-align: right;\">\n",
       "      <th></th>\n",
       "      <th>observation</th>\n",
       "      <th>year</th>\n",
       "      <th>month</th>\n",
       "      <th>Extent</th>\n",
       "      <th>Rainfall</th>\n",
       "      <th>Daylight</th>\n",
       "      <th>Population</th>\n",
       "      <th>CO2</th>\n",
       "      <th>Ozone</th>\n",
       "      <th>OceanTemperature_NorthernHemisphere</th>\n",
       "      <th>LandTemperature_NorthernHemisphere</th>\n",
       "      <th>MaxTemperature_NorthSlopeAlaska</th>\n",
       "      <th>AvgTemperature_NorthSlopeAlaska</th>\n",
       "      <th>MinTemperature_NorthSlopeAlaska</th>\n",
       "      <th>GDP_WORLD</th>\n",
       "      <th>ArcticIceVolume</th>\n",
       "    </tr>\n",
       "  </thead>\n",
       "  <tbody>\n",
       "    <tr>\n",
       "      <th>count</th>\n",
       "      <td>490.00000</td>\n",
       "      <td>490.000000</td>\n",
       "      <td>490.000000</td>\n",
       "      <td>490.000000</td>\n",
       "      <td>490.000000</td>\n",
       "      <td>490.000000</td>\n",
       "      <td>490.000000</td>\n",
       "      <td>490.000000</td>\n",
       "      <td>490.000000</td>\n",
       "      <td>490.000000</td>\n",
       "      <td>490.000000</td>\n",
       "      <td>490.000000</td>\n",
       "      <td>490.000000</td>\n",
       "      <td>490.000000</td>\n",
       "      <td>490.000000</td>\n",
       "      <td>490.000000</td>\n",
       "    </tr>\n",
       "    <tr>\n",
       "      <th>mean</th>\n",
       "      <td>245.50000</td>\n",
       "      <td>1999.918367</td>\n",
       "      <td>6.479592</td>\n",
       "      <td>0.624090</td>\n",
       "      <td>0.346327</td>\n",
       "      <td>0.493069</td>\n",
       "      <td>0.502713</td>\n",
       "      <td>0.443966</td>\n",
       "      <td>0.393414</td>\n",
       "      <td>0.458664</td>\n",
       "      <td>0.466685</td>\n",
       "      <td>0.536654</td>\n",
       "      <td>0.545104</td>\n",
       "      <td>0.546334</td>\n",
       "      <td>0.408513</td>\n",
       "      <td>0.539257</td>\n",
       "    </tr>\n",
       "    <tr>\n",
       "      <th>std</th>\n",
       "      <td>141.59508</td>\n",
       "      <td>11.798993</td>\n",
       "      <td>3.447620</td>\n",
       "      <td>0.260269</td>\n",
       "      <td>0.311400</td>\n",
       "      <td>0.324229</td>\n",
       "      <td>0.289257</td>\n",
       "      <td>0.270967</td>\n",
       "      <td>0.245841</td>\n",
       "      <td>0.214461</td>\n",
       "      <td>0.148151</td>\n",
       "      <td>0.263396</td>\n",
       "      <td>0.271594</td>\n",
       "      <td>0.277091</td>\n",
       "      <td>0.321781</td>\n",
       "      <td>0.250732</td>\n",
       "    </tr>\n",
       "    <tr>\n",
       "      <th>min</th>\n",
       "      <td>1.00000</td>\n",
       "      <td>1980.000000</td>\n",
       "      <td>1.000000</td>\n",
       "      <td>0.000000</td>\n",
       "      <td>0.000000</td>\n",
       "      <td>0.000000</td>\n",
       "      <td>0.000000</td>\n",
       "      <td>0.000000</td>\n",
       "      <td>0.000000</td>\n",
       "      <td>0.000000</td>\n",
       "      <td>0.000000</td>\n",
       "      <td>0.000000</td>\n",
       "      <td>0.000000</td>\n",
       "      <td>0.000000</td>\n",
       "      <td>0.000000</td>\n",
       "      <td>0.000000</td>\n",
       "    </tr>\n",
       "    <tr>\n",
       "      <th>25%</th>\n",
       "      <td>123.25000</td>\n",
       "      <td>1990.000000</td>\n",
       "      <td>3.250000</td>\n",
       "      <td>0.398250</td>\n",
       "      <td>0.100000</td>\n",
       "      <td>0.264000</td>\n",
       "      <td>0.258950</td>\n",
       "      <td>0.218150</td>\n",
       "      <td>0.170292</td>\n",
       "      <td>0.289100</td>\n",
       "      <td>0.359025</td>\n",
       "      <td>0.291575</td>\n",
       "      <td>0.288700</td>\n",
       "      <td>0.283000</td>\n",
       "      <td>0.137838</td>\n",
       "      <td>0.353139</td>\n",
       "    </tr>\n",
       "    <tr>\n",
       "      <th>50%</th>\n",
       "      <td>245.50000</td>\n",
       "      <td>2000.000000</td>\n",
       "      <td>6.000000</td>\n",
       "      <td>0.681000</td>\n",
       "      <td>0.225000</td>\n",
       "      <td>0.517000</td>\n",
       "      <td>0.504600</td>\n",
       "      <td>0.413865</td>\n",
       "      <td>0.368090</td>\n",
       "      <td>0.429700</td>\n",
       "      <td>0.461200</td>\n",
       "      <td>0.499400</td>\n",
       "      <td>0.498850</td>\n",
       "      <td>0.497650</td>\n",
       "      <td>0.295927</td>\n",
       "      <td>0.552475</td>\n",
       "    </tr>\n",
       "    <tr>\n",
       "      <th>75%</th>\n",
       "      <td>367.75000</td>\n",
       "      <td>2010.000000</td>\n",
       "      <td>9.000000</td>\n",
       "      <td>0.857000</td>\n",
       "      <td>0.587500</td>\n",
       "      <td>0.816500</td>\n",
       "      <td>0.750050</td>\n",
       "      <td>0.666030</td>\n",
       "      <td>0.598325</td>\n",
       "      <td>0.601600</td>\n",
       "      <td>0.566400</td>\n",
       "      <td>0.800675</td>\n",
       "      <td>0.823575</td>\n",
       "      <td>0.831000</td>\n",
       "      <td>0.695840</td>\n",
       "      <td>0.743685</td>\n",
       "    </tr>\n",
       "    <tr>\n",
       "      <th>max</th>\n",
       "      <td>490.00000</td>\n",
       "      <td>2020.000000</td>\n",
       "      <td>12.000000</td>\n",
       "      <td>1.000000</td>\n",
       "      <td>1.000000</td>\n",
       "      <td>1.000000</td>\n",
       "      <td>1.000000</td>\n",
       "      <td>1.000000</td>\n",
       "      <td>1.000000</td>\n",
       "      <td>1.000000</td>\n",
       "      <td>1.000000</td>\n",
       "      <td>1.000000</td>\n",
       "      <td>1.000000</td>\n",
       "      <td>1.000000</td>\n",
       "      <td>1.000000</td>\n",
       "      <td>1.000000</td>\n",
       "    </tr>\n",
       "  </tbody>\n",
       "</table>\n",
       "</div>"
      ],
      "text/plain": [
       "       observation         year       month      Extent    Rainfall  \\\n",
       "count    490.00000   490.000000  490.000000  490.000000  490.000000   \n",
       "mean     245.50000  1999.918367    6.479592    0.624090    0.346327   \n",
       "std      141.59508    11.798993    3.447620    0.260269    0.311400   \n",
       "min        1.00000  1980.000000    1.000000    0.000000    0.000000   \n",
       "25%      123.25000  1990.000000    3.250000    0.398250    0.100000   \n",
       "50%      245.50000  2000.000000    6.000000    0.681000    0.225000   \n",
       "75%      367.75000  2010.000000    9.000000    0.857000    0.587500   \n",
       "max      490.00000  2020.000000   12.000000    1.000000    1.000000   \n",
       "\n",
       "         Daylight  Population         CO2       Ozone  \\\n",
       "count  490.000000  490.000000  490.000000  490.000000   \n",
       "mean     0.493069    0.502713    0.443966    0.393414   \n",
       "std      0.324229    0.289257    0.270967    0.245841   \n",
       "min      0.000000    0.000000    0.000000    0.000000   \n",
       "25%      0.264000    0.258950    0.218150    0.170292   \n",
       "50%      0.517000    0.504600    0.413865    0.368090   \n",
       "75%      0.816500    0.750050    0.666030    0.598325   \n",
       "max      1.000000    1.000000    1.000000    1.000000   \n",
       "\n",
       "       OceanTemperature_NorthernHemisphere  \\\n",
       "count                           490.000000   \n",
       "mean                              0.458664   \n",
       "std                               0.214461   \n",
       "min                               0.000000   \n",
       "25%                               0.289100   \n",
       "50%                               0.429700   \n",
       "75%                               0.601600   \n",
       "max                               1.000000   \n",
       "\n",
       "       LandTemperature_NorthernHemisphere  MaxTemperature_NorthSlopeAlaska  \\\n",
       "count                          490.000000                       490.000000   \n",
       "mean                             0.466685                         0.536654   \n",
       "std                              0.148151                         0.263396   \n",
       "min                              0.000000                         0.000000   \n",
       "25%                              0.359025                         0.291575   \n",
       "50%                              0.461200                         0.499400   \n",
       "75%                              0.566400                         0.800675   \n",
       "max                              1.000000                         1.000000   \n",
       "\n",
       "       AvgTemperature_NorthSlopeAlaska  MinTemperature_NorthSlopeAlaska  \\\n",
       "count                       490.000000                       490.000000   \n",
       "mean                          0.545104                         0.546334   \n",
       "std                           0.271594                         0.277091   \n",
       "min                           0.000000                         0.000000   \n",
       "25%                           0.288700                         0.283000   \n",
       "50%                           0.498850                         0.497650   \n",
       "75%                           0.823575                         0.831000   \n",
       "max                           1.000000                         1.000000   \n",
       "\n",
       "        GDP_WORLD  ArcticIceVolume  \n",
       "count  490.000000       490.000000  \n",
       "mean     0.408513         0.539257  \n",
       "std      0.321781         0.250732  \n",
       "min      0.000000         0.000000  \n",
       "25%      0.137838         0.353139  \n",
       "50%      0.295927         0.552475  \n",
       "75%      0.695840         0.743685  \n",
       "max      1.000000         1.000000  "
      ]
     },
     "execution_count": 2,
     "metadata": {},
     "output_type": "execute_result"
    }
   ],
   "source": [
    "# reading the data\n",
    "df = pd.read_csv(\"arctic_data.csv\")\n",
    "df.describe()"
   ]
  },
  {
   "cell_type": "code",
   "execution_count": 3,
   "metadata": {
    "cell_id": "ab657c3b365545f0a7c67ebdcbbd47dd",
    "deepnote_cell_height": 99,
    "deepnote_cell_type": "code",
    "deepnote_to_be_reexecuted": false,
    "execution_millis": 3,
    "execution_start": 1650847892090,
    "source_hash": "796778c0",
    "tags": []
   },
   "outputs": [],
   "source": [
    "temp = df[['MinTemperature_NorthSlopeAlaska']] # x\n",
    "vol = df[['ArcticIceVolume']] # y"
   ]
  },
  {
   "cell_type": "code",
   "execution_count": 4,
   "metadata": {
    "cell_id": "f25c3a31b6084925b24abc073252c8be",
    "deepnote_cell_height": 172.1875,
    "deepnote_cell_type": "code",
    "deepnote_output_heights": [
     21.1875
    ],
    "deepnote_to_be_reexecuted": false,
    "execution_millis": 6,
    "execution_start": 1650847892094,
    "source_hash": "67fedf84",
    "tags": []
   },
   "outputs": [
    {
     "data": {
      "text/plain": [
       "((441, 1), (49, 1))"
      ]
     },
     "execution_count": 4,
     "metadata": {},
     "output_type": "execute_result"
    }
   ],
   "source": [
    "# split traing set and testing set to 9:1 (441:49):\n",
    "X_train, X_val, y_train, y_val = train_test_split(temp, vol, test_size=0.1, \\\n",
    "                                                                    train_size=0.9, random_state=7)\n",
    "X_train.shape, X_val.shape"
   ]
  },
  {
   "cell_type": "code",
   "execution_count": 5,
   "metadata": {
    "cell_id": "ae3960d454a94866b102737287c6fe90",
    "deepnote_cell_height": 117,
    "deepnote_cell_type": "code",
    "deepnote_to_be_reexecuted": false,
    "execution_millis": 2,
    "execution_start": 1650847892102,
    "source_hash": "5b6da4b2",
    "tags": []
   },
   "outputs": [],
   "source": [
    "experiments = []\n",
    "metric_names = []\n",
    "metric_vals = []"
   ]
  },
  {
   "cell_type": "code",
   "execution_count": 6,
   "metadata": {
    "cell_id": "dc2d849b992f4fa1bb78a6a8ae4f6237",
    "deepnote_cell_height": 441,
    "deepnote_cell_type": "code",
    "deepnote_to_be_reexecuted": false,
    "execution_millis": 1,
    "execution_start": 1650847892152,
    "source_hash": "3e951e14",
    "tags": []
   },
   "outputs": [],
   "source": [
    "# tracking experiment results\n",
    "def plot_preds(y_pred, y_val):\n",
    "    '''Plot predictions vs labels on a scatter plot.'''\n",
    "    lines_color = plt.rcParams['text.color']\n",
    "    fig = plt.figure(figsize=(20, 10))\n",
    "    ax = fig.add_subplot(111)\n",
    "    plt.plot([0, 1], [0, 1], c='red', zorder=1)\n",
    "    plt.scatter(y_val, y_pred, alpha=0.6, edgecolors=lines_color, c='#5EC2FF')\n",
    "    #ax.set_aspect('equal', adjustable='box')\n",
    "    ax.grid(linestyle='--')\n",
    "    plt.xlabel('True value')\n",
    "    plt.ylabel('Predictions')\n",
    "    plt.show()\n",
    "\n",
    "def calc_metrics(y_pred, y_val):\n",
    "    '''Print 4 metrics using predictions and labels.'''\n",
    "    r2 = r2_score(y_val, y_pred)\n",
    "    ev = explained_variance_score(y_val, y_pred)\n",
    "    mse = mean_squared_error(y_val, y_pred)\n",
    "    mae = mean_absolute_error(y_val, y_pred)\n",
    "    return r2, ev, mse, mae"
   ]
  },
  {
   "cell_type": "code",
   "execution_count": 7,
   "metadata": {
    "cell_id": "551bad9d4744424b937d05a669793f99",
    "deepnote_cell_height": 1089.28125,
    "deepnote_cell_type": "code",
    "deepnote_output_heights": [
     null,
     380.53125
    ],
    "deepnote_to_be_reexecuted": false,
    "execution_millis": 1092,
    "execution_start": 1650847892153,
    "source_hash": "54b21383",
    "tags": []
   },
   "outputs": [
    {
     "name": "stderr",
     "output_type": "stream",
     "text": [
      "/shared-libs/python3.7/py/lib/python3.7/site-packages/sklearn/linear_model/_coordinate_descent.py:1571: DataConversionWarning: A column-vector y was passed when a 1d array was expected. Please change the shape of y to (n_samples, ), for example using ravel().\n",
      "  y = column_or_1d(y, warn=True)\n",
      "Model: LassoCV(cv=10, n_alphas=1000, random_state=0)\n",
      "Predictions: (49,)\n"
     ]
    },
    {
     "data": {
      "image/png": "[encoded data removed]",
      "text/plain": [
       "<Figure size 1440x720 with 1 Axes>"
      ]
     },
     "metadata": {
      "image/png": {
       "height": 589,
       "width": 1167
      },
      "needs_background": "light"
     },
     "output_type": "display_data"
    },
    {
     "name": "stdout",
     "output_type": "stream",
     "text": [
      "R2 Score: 0.110571680\n",
      "Explained Variance Score: 0.233807971\n",
      "MSE: 0.062378707\n",
      "MAE: 0.211244824\n",
      "2.1049828591401016e-05\n"
     ]
    }
   ],
   "source": [
    "lassoMLR_cv_model = LassoCV(\n",
    "    cv=10, random_state=0, n_alphas=1000\n",
    ").fit(X_train, y_train)\n",
    "y_pred = lassoMLR_cv_model.predict(X_val)\n",
    "print(f'Model: {lassoMLR_cv_model}')\n",
    "print(f'Predictions: {y_pred.shape}')\n",
    "\n",
    "# plot\n",
    "plot_preds(y_pred, y_val)\n",
    "r2, ev, mse, mae = calc_metrics(y_pred, y_val)\n",
    "print(f'R2 Score: {r2:.9f}')\n",
    "print(f'Explained Variance Score: {ev:.9f}')\n",
    "print(f'MSE: {mse:.9f}')\n",
    "print(f'MAE: {mae:.9f}')\n",
    "# Update overall results, if we haven't already:\n",
    "if 'LassoLinearModel' not in experiments:\n",
    "    experiments.extend(['LassoLinearModel']*4)\n",
    "    metric_names.extend(['R2', 'Explained Variance', 'MSE', 'MAE'])\n",
    "    metric_vals.extend([r2, ev, mse, mae])\n",
    "\n",
    "\n",
    "print(lassoMLR_cv_model.alpha_)"
   ]
  },
  {
   "cell_type": "code",
   "execution_count": 8,
   "metadata": {
    "cell_id": "628a2e81c1f248db9e015b7048ab00e5",
    "deepnote_cell_height": 1795,
    "deepnote_cell_type": "code",
    "deepnote_output_heights": [
     null,
     380.53125
    ],
    "deepnote_to_be_reexecuted": false,
    "execution_millis": 1113,
    "execution_start": 1650847893207,
    "source_hash": "ac8d9f36",
    "tags": []
   },
   "outputs": [
    {
     "name": "stderr",
     "output_type": "stream",
     "text": [
      "/shared-libs/python3.7/py/lib/python3.7/site-packages/sklearn/linear_model/_coordinate_descent.py:1571: DataConversionWarning: A column-vector y was passed when a 1d array was expected. Please change the shape of y to (n_samples, ), for example using ravel().\n",
      "  y = column_or_1d(y, warn=True)\n",
      "/shared-libs/python3.7/py/lib/python3.7/site-packages/sklearn/linear_model/_coordinate_descent.py:644: ConvergenceWarning: Objective did not converge. You might want to increase the number of iterations. Duality gap: 0.0028422277432582632, tolerance: 0.0023538906133878917\n",
      "  positive,\n",
      "/shared-libs/python3.7/py/lib/python3.7/site-packages/sklearn/linear_model/_coordinate_descent.py:644: ConvergenceWarning: Objective did not converge. You might want to increase the number of iterations. Duality gap: 0.003400590844758966, tolerance: 0.0023538906133878917\n",
      "  positive,\n",
      "/shared-libs/python3.7/py/lib/python3.7/site-packages/sklearn/linear_model/_coordinate_descent.py:644: ConvergenceWarning: Objective did not converge. You might want to increase the number of iterations. Duality gap: 0.003988735756912831, tolerance: 0.0023538906133878917\n",
      "  positive,\n",
      "/shared-libs/python3.7/py/lib/python3.7/site-packages/sklearn/linear_model/_coordinate_descent.py:644: ConvergenceWarning: Objective did not converge. You might want to increase the number of iterations. Duality gap: 0.004600255677662091, tolerance: 0.0023538906133878917\n",
      "  positive,\n",
      "/shared-libs/python3.7/py/lib/python3.7/site-packages/sklearn/linear_model/_coordinate_descent.py:644: ConvergenceWarning: Objective did not converge. You might want to increase the number of iterations. Duality gap: 0.005231213756804465, tolerance: 0.0023538906133878917\n",
      "  positive,\n",
      "/shared-libs/python3.7/py/lib/python3.7/site-packages/sklearn/linear_model/_coordinate_descent.py:644: ConvergenceWarning: Objective did not converge. You might want to increase the number of iterations. Duality gap: 0.005878155641443783, tolerance: 0.0023538906133878917\n",
      "  positive,\n",
      "/shared-libs/python3.7/py/lib/python3.7/site-packages/sklearn/linear_model/_coordinate_descent.py:644: ConvergenceWarning: Objective did not converge. You might want to increase the number of iterations. Duality gap: 0.006537956537776779, tolerance: 0.0023538906133878917\n",
      "  positive,\n",
      "/shared-libs/python3.7/py/lib/python3.7/site-packages/sklearn/linear_model/_coordinate_descent.py:644: ConvergenceWarning: Objective did not converge. You might want to increase the number of iterations. Duality gap: 0.007207786637046354, tolerance: 0.0023538906133878917\n",
      "  positive,\n",
      "/shared-libs/python3.7/py/lib/python3.7/site-packages/sklearn/linear_model/_coordinate_descent.py:644: ConvergenceWarning: Objective did not converge. You might want to increase the number of iterations. Duality gap: 0.007885085990643859, tolerance: 0.0023538906133878917\n",
      "  positive,\n",
      "/shared-libs/python3.7/py/lib/python3.7/site-packages/sklearn/linear_model/_coordinate_descent.py:644: ConvergenceWarning: Objective did not converge. You might want to increase the number of iterations. Duality gap: 0.008567541950768032, tolerance: 0.0023538906133878917\n",
      "  positive,\n",
      "/shared-libs/python3.7/py/lib/python3.7/site-packages/sklearn/linear_model/_coordinate_descent.py:644: ConvergenceWarning: Objective did not converge. You might want to increase the number of iterations. Duality gap: 0.009253068433586975, tolerance: 0.0023538906133878917\n",
      "  positive,\n",
      "/shared-libs/python3.7/py/lib/python3.7/site-packages/sklearn/linear_model/_coordinate_descent.py:644: ConvergenceWarning: Objective did not converge. You might want to increase the number of iterations. Duality gap: 0.009939786966974395, tolerance: 0.0023538906133878917\n",
      "  positive,\n",
      "/shared-libs/python3.7/py/lib/python3.7/site-packages/sklearn/linear_model/_coordinate_descent.py:644: ConvergenceWarning: Objective did not converge. You might want to increase the number of iterations. Duality gap: 0.01062600923041046, tolerance: 0.0023538906133878917\n",
      "  positive,\n",
      "/shared-libs/python3.7/py/lib/python3.7/site-packages/sklearn/linear_model/_coordinate_descent.py:644: ConvergenceWarning: Objective did not converge. You might want to increase the number of iterations. Duality gap: 0.011310221075593319, tolerance: 0.0023538906133878917\n",
      "  positive,\n",
      "/shared-libs/python3.7/py/lib/python3.7/site-packages/sklearn/linear_model/_coordinate_descent.py:644: ConvergenceWarning: Objective did not converge. You might want to increase the number of iterations. Duality gap: 0.0119910678345434, tolerance: 0.0023538906133878917\n",
      "  positive,\n",
      "/shared-libs/python3.7/py/lib/python3.7/site-packages/sklearn/linear_model/_coordinate_descent.py:644: ConvergenceWarning: Objective did not converge. You might want to increase the number of iterations. Duality gap: 0.01266734084674681, tolerance: 0.0023538906133878917\n",
      "  positive,\n",
      "/shared-libs/python3.7/py/lib/python3.7/site-packages/sklearn/linear_model/_coordinate_descent.py:644: ConvergenceWarning: Objective did not converge. You might want to increase the number of iterations. Duality gap: 0.013337965065453261, tolerance: 0.0023538906133878917\n",
      "  positive,\n",
      "/shared-libs/python3.7/py/lib/python3.7/site-packages/sklearn/linear_model/_coordinate_descent.py:644: ConvergenceWarning: Objective did not converge. You might want to increase the number of iterations. Duality gap: 0.014001987665494653, tolerance: 0.0023538906133878917\n",
      "  positive,\n",
      "/shared-libs/python3.7/py/lib/python3.7/site-packages/sklearn/linear_model/_coordinate_descent.py:644: ConvergenceWarning: Objective did not converge. You might want to increase the number of iterations. Duality gap: 0.014658567593638594, tolerance: 0.0023538906133878917\n",
      "  positive,\n",
      "/shared-libs/python3.7/py/lib/python3.7/site-packages/sklearn/linear_model/_coordinate_descent.py:644: ConvergenceWarning: Objective did not converge. You might want to increase the number of iterations. Duality gap: 0.015306965973106657, tolerance: 0.0023538906133878917\n",
      "  positive,\n",
      "/shared-libs/python3.7/py/lib/python3.7/site-packages/sklearn/linear_model/_coordinate_descent.py:644: ConvergenceWarning: Objective did not converge. You might want to increase the number of iterations. Duality gap: 0.015946537243145542, tolerance: 0.0023538906133878917\n",
      "  positive,\n",
      "/shared-libs/python3.7/py/lib/python3.7/site-packages/sklearn/linear_model/_coordinate_descent.py:644: ConvergenceWarning: Objective did not converge. You might want to increase the number of iterations. Duality gap: 0.01657672106117758, tolerance: 0.0023538906133878917\n",
      "  positive,\n",
      "/shared-libs/python3.7/py/lib/python3.7/site-packages/sklearn/linear_model/_coordinate_descent.py:644: ConvergenceWarning: Objective did not converge. You might want to increase the number of iterations. Duality gap: 0.0171970348480599, tolerance: 0.0023538906133878917\n",
      "  positive,\n",
      "/shared-libs/python3.7/py/lib/python3.7/site-packages/sklearn/linear_model/_coordinate_descent.py:644: ConvergenceWarning: Objective did not converge. You might want to increase the number of iterations. Duality gap: 0.017807066887080225, tolerance: 0.0023538906133878917\n",
      "  positive,\n",
      "/shared-libs/python3.7/py/lib/python3.7/site-packages/sklearn/linear_model/_coordinate_descent.py:644: ConvergenceWarning: Objective did not converge. You might want to increase the number of iterations. Duality gap: 0.018406470065787772, tolerance: 0.0023538906133878917\n",
      "  positive,\n",
      "/shared-libs/python3.7/py/lib/python3.7/site-packages/sklearn/linear_model/_coordinate_descent.py:644: ConvergenceWarning: Objective did not converge. You might want to increase the number of iterations. Duality gap: 0.018994956067430735, tolerance: 0.0023538906133878917\n",
      "  positive,\n",
      "/shared-libs/python3.7/py/lib/python3.7/site-packages/sklearn/linear_model/_coordinate_descent.py:644: ConvergenceWarning: Objective did not converge. You might want to increase the number of iterations. Duality gap: 0.01957229000236893, tolerance: 0.0023538906133878917\n",
      "  positive,\n",
      "/shared-libs/python3.7/py/lib/python3.7/site-packages/sklearn/linear_model/_coordinate_descent.py:644: ConvergenceWarning: Objective did not converge. You might want to increase the number of iterations. Duality gap: 0.02013828555627839, tolerance: 0.0023538906133878917\n",
      "  positive,\n",
      "/shared-libs/python3.7/py/lib/python3.7/site-packages/sklearn/linear_model/_coordinate_descent.py:644: ConvergenceWarning: Objective did not converge. You might want to increase the number of iterations. Duality gap: 0.02069280046700328, tolerance: 0.0023538906133878917\n",
      "  positive,\n",
      "/shared-libs/python3.7/py/lib/python3.7/site-packages/sklearn/linear_model/_coordinate_descent.py:644: ConvergenceWarning: Objective did not converge. You might want to increase the number of iterations. Duality gap: 0.02123573239221699, tolerance: 0.0023538906133878917\n",
      "  positive,\n",
      "/shared-libs/python3.7/py/lib/python3.7/site-packages/sklearn/linear_model/_coordinate_descent.py:644: ConvergenceWarning: Objective did not converge. You might want to increase the number of iterations. Duality gap: 0.021767015087259978, tolerance: 0.0023538906133878917\n",
      "  positive,\n",
      "/shared-libs/python3.7/py/lib/python3.7/site-packages/sklearn/linear_model/_coordinate_descent.py:644: ConvergenceWarning: Objective did not converge. You might want to increase the number of iterations. Duality gap: 0.02228661495537665, tolerance: 0.0023538906133878917\n",
      "  positive,\n",
      "/shared-libs/python3.7/py/lib/python3.7/site-packages/sklearn/linear_model/_coordinate_descent.py:644: ConvergenceWarning: Objective did not converge. You might want to increase the number of iterations. Duality gap: 0.022794527791237584, tolerance: 0.0023538906133878917\n",
      "  positive,\n",
      "/shared-libs/python3.7/py/lib/python3.7/site-packages/sklearn/linear_model/_coordinate_descent.py:644: ConvergenceWarning: Objective did not converge. You might want to increase the number of iterations. Duality gap: 0.023290775837441657, tolerance: 0.0023538906133878917\n",
      "  positive,\n",
      "/shared-libs/python3.7/py/lib/python3.7/site-packages/sklearn/linear_model/_coordinate_descent.py:644: ConvergenceWarning: Objective did not converge. You might want to increase the number of iterations. Duality gap: 0.02377540513266041, tolerance: 0.0023538906133878917\n",
      "  positive,\n",
      "/shared-libs/python3.7/py/lib/python3.7/site-packages/sklearn/linear_model/_coordinate_descent.py:644: ConvergenceWarning: Objective did not converge. You might want to increase the number of iterations. Duality gap: 0.024248482939263738, tolerance: 0.0023538906133878917\n",
      "  positive,\n",
      "/shared-libs/python3.7/py/lib/python3.7/site-packages/sklearn/linear_model/_coordinate_descent.py:644: ConvergenceWarning: Objective did not converge. You might want to increase the number of iterations. Duality gap: 0.024710095546105038, tolerance: 0.0023538906133878917\n",
      "  positive,\n",
      "/shared-libs/python3.7/py/lib/python3.7/site-packages/sklearn/linear_model/_coordinate_descent.py:644: ConvergenceWarning: Objective did not converge. You might want to increase the number of iterations. Duality gap: 0.005531114463199316, tolerance: 0.0023538906133878917\n",
      "  positive,\n",
      "/shared-libs/python3.7/py/lib/python3.7/site-packages/sklearn/linear_model/_coordinate_descent.py:644: ConvergenceWarning: Objective did not converge. You might want to increase the number of iterations. Duality gap: 0.0026909276795414883, tolerance: 0.002392286353010283\n",
      "  positive,\n",
      "/shared-libs/python3.7/py/lib/python3.7/site-packages/sklearn/linear_model/_coordinate_descent.py:644: ConvergenceWarning: Objective did not converge. You might want to increase the number of iterations. Duality gap: 0.003232752644077408, tolerance: 0.002392286353010283\n",
      "  positive,\n",
      "/shared-libs/python3.7/py/lib/python3.7/site-packages/sklearn/linear_model/_coordinate_descent.py:644: ConvergenceWarning: Objective did not converge. You might want to increase the number of iterations. Duality gap: 0.0038155954512397727, tolerance: 0.002392286353010283\n",
      "  positive,\n",
      "/shared-libs/python3.7/py/lib/python3.7/site-packages/sklearn/linear_model/_coordinate_descent.py:644: ConvergenceWarning: Objective did not converge. You might want to increase the number of iterations. Duality gap: 0.00442382493532989, tolerance: 0.002392286353010283\n",
      "  positive,\n",
      "/shared-libs/python3.7/py/lib/python3.7/site-packages/sklearn/linear_model/_coordinate_descent.py:644: ConvergenceWarning: Objective did not converge. You might want to increase the number of iterations. Duality gap: 0.005052820061258956, tolerance: 0.002392286353010283\n",
      "  positive,\n",
      "/shared-libs/python3.7/py/lib/python3.7/site-packages/sklearn/linear_model/_coordinate_descent.py:644: ConvergenceWarning: Objective did not converge. You might want to increase the number of iterations. Duality gap: 0.00569894659546577, tolerance: 0.002392286353010283\n",
      "  positive,\n",
      "/shared-libs/python3.7/py/lib/python3.7/site-packages/sklearn/linear_model/_coordinate_descent.py:644: ConvergenceWarning: Objective did not converge. You might want to increase the number of iterations. Duality gap: 0.006358941987478772, tolerance: 0.002392286353010283\n",
      "  positive,\n",
      "/shared-libs/python3.7/py/lib/python3.7/site-packages/sklearn/linear_model/_coordinate_descent.py:644: ConvergenceWarning: Objective did not converge. You might want to increase the number of iterations. Duality gap: 0.007029853346203652, tolerance: 0.002392286353010283\n",
      "  positive,\n",
      "/shared-libs/python3.7/py/lib/python3.7/site-packages/sklearn/linear_model/_coordinate_descent.py:644: ConvergenceWarning: Objective did not converge. You might want to increase the number of iterations. Duality gap: 0.007709009674627509, tolerance: 0.002392286353010283\n",
      "  positive,\n",
      "/shared-libs/python3.7/py/lib/python3.7/site-packages/sklearn/linear_model/_coordinate_descent.py:644: ConvergenceWarning: Objective did not converge. You might want to increase the number of iterations. Duality gap: 0.00839399810714525, tolerance: 0.002392286353010283\n",
      "  positive,\n",
      "/shared-libs/python3.7/py/lib/python3.7/site-packages/sklearn/linear_model/_coordinate_descent.py:644: ConvergenceWarning: Objective did not converge. You might want to increase the number of iterations. Duality gap: 0.009082642173009248, tolerance: 0.002392286353010283\n",
      "  positive,\n",
      "/shared-libs/python3.7/py/lib/python3.7/site-packages/sklearn/linear_model/_coordinate_descent.py:644: ConvergenceWarning: Objective did not converge. You might want to increase the number of iterations. Duality gap: 0.009772981929078384, tolerance: 0.002392286353010283\n",
      "  positive,\n",
      "/shared-libs/python3.7/py/lib/python3.7/site-packages/sklearn/linear_model/_coordinate_descent.py:644: ConvergenceWarning: Objective did not converge. You might want to increase the number of iterations. Duality gap: 0.01046325568461981, tolerance: 0.002392286353010283\n",
      "  positive,\n",
      "/shared-libs/python3.7/py/lib/python3.7/site-packages/sklearn/linear_model/_coordinate_descent.py:644: ConvergenceWarning: Objective did not converge. You might want to increase the number of iterations. Duality gap: 0.011151883272646046, tolerance: 0.002392286353010283\n",
      "  positive,\n",
      "/shared-libs/python3.7/py/lib/python3.7/site-packages/sklearn/linear_model/_coordinate_descent.py:644: ConvergenceWarning: Objective did not converge. You might want to increase the number of iterations. Duality gap: 0.011837450687810502, tolerance: 0.002392286353010283\n",
      "  positive,\n",
      "/shared-libs/python3.7/py/lib/python3.7/site-packages/sklearn/linear_model/_coordinate_descent.py:644: ConvergenceWarning: Objective did not converge. You might want to increase the number of iterations. Duality gap: 0.012518695998664953, tolerance: 0.002392286353010283\n",
      "  positive,\n",
      "/shared-libs/python3.7/py/lib/python3.7/site-packages/sklearn/linear_model/_coordinate_descent.py:644: ConvergenceWarning: Objective did not converge. You might want to increase the number of iterations. Duality gap: 0.013194496347516349, tolerance: 0.002392286353010283\n",
      "  positive,\n",
      "/shared-libs/python3.7/py/lib/python3.7/site-packages/sklearn/linear_model/_coordinate_descent.py:644: ConvergenceWarning: Objective did not converge. You might want to increase the number of iterations. Duality gap: 0.013863856136545394, tolerance: 0.002392286353010283\n",
      "  positive,\n",
      "/shared-libs/python3.7/py/lib/python3.7/site-packages/sklearn/linear_model/_coordinate_descent.py:644: ConvergenceWarning: Objective did not converge. You might want to increase the number of iterations. Duality gap: 0.014525896056692744, tolerance: 0.002392286353010283\n",
      "  positive,\n",
      "/shared-libs/python3.7/py/lib/python3.7/site-packages/sklearn/linear_model/_coordinate_descent.py:644: ConvergenceWarning: Objective did not converge. You might want to increase the number of iterations. Duality gap: 0.01517984308554432, tolerance: 0.002392286353010283\n",
      "  positive,\n",
      "/shared-libs/python3.7/py/lib/python3.7/site-packages/sklearn/linear_model/_coordinate_descent.py:644: ConvergenceWarning: Objective did not converge. You might want to increase the number of iterations. Duality gap: 0.015825021248033977, tolerance: 0.002392286353010283\n",
      "  positive,\n",
      "/shared-libs/python3.7/py/lib/python3.7/site-packages/sklearn/linear_model/_coordinate_descent.py:644: ConvergenceWarning: Objective did not converge. You might want to increase the number of iterations. Duality gap: 0.016460843153748073, tolerance: 0.002392286353010283\n",
      "  positive,\n",
      "/shared-libs/python3.7/py/lib/python3.7/site-packages/sklearn/linear_model/_coordinate_descent.py:644: ConvergenceWarning: Objective did not converge. You might want to increase the number of iterations. Duality gap: 0.01708680225180359, tolerance: 0.002392286353010283\n",
      "  positive,\n",
      "/shared-libs/python3.7/py/lib/python3.7/site-packages/sklearn/linear_model/_coordinate_descent.py:644: ConvergenceWarning: Objective did not converge. You might want to increase the number of iterations. Duality gap: 0.017702465669998446, tolerance: 0.002392286353010283\n",
      "  positive,\n",
      "/shared-libs/python3.7/py/lib/python3.7/site-packages/sklearn/linear_model/_coordinate_descent.py:644: ConvergenceWarning: Objective did not converge. You might want to increase the number of iterations. Duality gap: 0.018307467586243575, tolerance: 0.002392286353010283\n",
      "  positive,\n",
      "/shared-libs/python3.7/py/lib/python3.7/site-packages/sklearn/linear_model/_coordinate_descent.py:644: ConvergenceWarning: Objective did not converge. You might want to increase the number of iterations. Duality gap: 0.018901503314879164, tolerance: 0.002392286353010283\n",
      "  positive,\n",
      "/shared-libs/python3.7/py/lib/python3.7/site-packages/sklearn/linear_model/_coordinate_descent.py:644: ConvergenceWarning: Objective did not converge. You might want to increase the number of iterations. Duality gap: 0.019484323629448852, tolerance: 0.002392286353010283\n",
      "  positive,\n",
      "/shared-libs/python3.7/py/lib/python3.7/site-packages/sklearn/linear_model/_coordinate_descent.py:644: ConvergenceWarning: Objective did not converge. You might want to increase the number of iterations. Duality gap: 0.020055729745902084, tolerance: 0.002392286353010283\n",
      "  positive,\n",
      "/shared-libs/python3.7/py/lib/python3.7/site-packages/sklearn/linear_model/_coordinate_descent.py:644: ConvergenceWarning: Objective did not converge. You might want to increase the number of iterations. Duality gap: 0.020615568628805647, tolerance: 0.002392286353010283\n",
      "  positive,\n",
      "/shared-libs/python3.7/py/lib/python3.7/site-packages/sklearn/linear_model/_coordinate_descent.py:644: ConvergenceWarning: Objective did not converge. You might want to increase the number of iterations. Duality gap: 0.002467567359133227, tolerance: 0.0024380140859148083\n",
      "  positive,\n",
      "/shared-libs/python3.7/py/lib/python3.7/site-packages/sklearn/linear_model/_coordinate_descent.py:644: ConvergenceWarning: Objective did not converge. You might want to increase the number of iterations. Duality gap: 0.0029730108321821547, tolerance: 0.0024380140859148083\n",
      "  positive,\n",
      "/shared-libs/python3.7/py/lib/python3.7/site-packages/sklearn/linear_model/_coordinate_descent.py:644: ConvergenceWarning: Objective did not converge. You might want to increase the number of iterations. Duality gap: 0.0035343702043917347, tolerance: 0.0024380140859148083\n",
      "  positive,\n",
      "/shared-libs/python3.7/py/lib/python3.7/site-packages/sklearn/linear_model/_coordinate_descent.py:644: ConvergenceWarning: Objective did not converge. You might want to increase the number of iterations. Duality gap: 0.004121979450427915, tolerance: 0.0024380140859148083\n",
      "  positive,\n",
      "/shared-libs/python3.7/py/lib/python3.7/site-packages/sklearn/linear_model/_coordinate_descent.py:644: ConvergenceWarning: Objective did not converge. You might want to increase the number of iterations. Duality gap: 0.00473009759320675, tolerance: 0.0024380140859148083\n",
      "  positive,\n",
      "/shared-libs/python3.7/py/lib/python3.7/site-packages/sklearn/linear_model/_coordinate_descent.py:644: ConvergenceWarning: Objective did not converge. You might want to increase the number of iterations. Duality gap: 0.005354891810110729, tolerance: 0.0024380140859148083\n",
      "  positive,\n",
      "/shared-libs/python3.7/py/lib/python3.7/site-packages/sklearn/linear_model/_coordinate_descent.py:644: ConvergenceWarning: Objective did not converge. You might want to increase the number of iterations. Duality gap: 0.005992987030822405, tolerance: 0.0024380140859148083\n",
      "  positive,\n",
      "/shared-libs/python3.7/py/lib/python3.7/site-packages/sklearn/linear_model/_coordinate_descent.py:644: ConvergenceWarning: Objective did not converge. You might want to increase the number of iterations. Duality gap: 0.0066413443845654285, tolerance: 0.0024380140859148083\n",
      "  positive,\n",
      "/shared-libs/python3.7/py/lib/python3.7/site-packages/sklearn/linear_model/_coordinate_descent.py:644: ConvergenceWarning: Objective did not converge. You might want to increase the number of iterations. Duality gap: 0.007297226932358569, tolerance: 0.0024380140859148083\n",
      "  positive,\n",
      "/shared-libs/python3.7/py/lib/python3.7/site-packages/sklearn/linear_model/_coordinate_descent.py:644: ConvergenceWarning: Objective did not converge. You might want to increase the number of iterations. Duality gap: 0.00795817319751535, tolerance: 0.0024380140859148083\n",
      "  positive,\n",
      "/shared-libs/python3.7/py/lib/python3.7/site-packages/sklearn/linear_model/_coordinate_descent.py:644: ConvergenceWarning: Objective did not converge. You might want to increase the number of iterations. Duality gap: 0.008621973231836222, tolerance: 0.0024380140859148083\n",
      "  positive,\n",
      "/shared-libs/python3.7/py/lib/python3.7/site-packages/sklearn/linear_model/_coordinate_descent.py:644: ConvergenceWarning: Objective did not converge. You might want to increase the number of iterations. Duality gap: 0.00928664678289337, tolerance: 0.0024380140859148083\n",
      "  positive,\n",
      "/shared-libs/python3.7/py/lib/python3.7/site-packages/sklearn/linear_model/_coordinate_descent.py:644: ConvergenceWarning: Objective did not converge. You might want to increase the number of iterations. Duality gap: 0.00995042324394646, tolerance: 0.0024380140859148083\n",
      "  positive,\n",
      "/shared-libs/python3.7/py/lib/python3.7/site-packages/sklearn/linear_model/_coordinate_descent.py:644: ConvergenceWarning: Objective did not converge. You might want to increase the number of iterations. Duality gap: 0.010611723392969452, tolerance: 0.0024380140859148083\n",
      "  positive,\n",
      "/shared-libs/python3.7/py/lib/python3.7/site-packages/sklearn/linear_model/_coordinate_descent.py:644: ConvergenceWarning: Objective did not converge. You might want to increase the number of iterations. Duality gap: 0.01126914259976175, tolerance: 0.0024380140859148083\n",
      "  positive,\n",
      "/shared-libs/python3.7/py/lib/python3.7/site-packages/sklearn/linear_model/_coordinate_descent.py:644: ConvergenceWarning: Objective did not converge. You might want to increase the number of iterations. Duality gap: 0.011921435484619991, tolerance: 0.0024380140859148083\n",
      "  positive,\n",
      "/shared-libs/python3.7/py/lib/python3.7/site-packages/sklearn/linear_model/_coordinate_descent.py:644: ConvergenceWarning: Objective did not converge. You might want to increase the number of iterations. Duality gap: 0.01256750186542277, tolerance: 0.0024380140859148083\n",
      "  positive,\n",
      "/shared-libs/python3.7/py/lib/python3.7/site-packages/sklearn/linear_model/_coordinate_descent.py:644: ConvergenceWarning: Objective did not converge. You might want to increase the number of iterations. Duality gap: 0.013206373891343048, tolerance: 0.0024380140859148083\n",
      "  positive,\n",
      "/shared-libs/python3.7/py/lib/python3.7/site-packages/sklearn/linear_model/_coordinate_descent.py:644: ConvergenceWarning: Objective did not converge. You might want to increase the number of iterations. Duality gap: 0.013837204211032628, tolerance: 0.0024380140859148083\n",
      "  positive,\n",
      "/shared-libs/python3.7/py/lib/python3.7/site-packages/sklearn/linear_model/_coordinate_descent.py:644: ConvergenceWarning: Objective did not converge. You might want to increase the number of iterations. Duality gap: 0.014459255213218114, tolerance: 0.0024380140859148083\n",
      "  positive,\n",
      "/shared-libs/python3.7/py/lib/python3.7/site-packages/sklearn/linear_model/_coordinate_descent.py:644: ConvergenceWarning: Objective did not converge. You might want to increase the number of iterations. Duality gap: 0.015071889080385148, tolerance: 0.0024380140859148083\n",
      "  positive,\n",
      "/shared-libs/python3.7/py/lib/python3.7/site-packages/sklearn/linear_model/_coordinate_descent.py:644: ConvergenceWarning: Objective did not converge. You might want to increase the number of iterations. Duality gap: 0.01567455876028845, tolerance: 0.0024380140859148083\n",
      "  positive,\n",
      "/shared-libs/python3.7/py/lib/python3.7/site-packages/sklearn/linear_model/_coordinate_descent.py:644: ConvergenceWarning: Objective did not converge. You might want to increase the number of iterations. Duality gap: 0.01626679960837052, tolerance: 0.0024380140859148083\n",
      "  positive,\n",
      "/shared-libs/python3.7/py/lib/python3.7/site-packages/sklearn/linear_model/_coordinate_descent.py:644: ConvergenceWarning: Objective did not converge. You might want to increase the number of iterations. Duality gap: 0.016848221808714925, tolerance: 0.0024380140859148083\n",
      "  positive,\n",
      "/shared-libs/python3.7/py/lib/python3.7/site-packages/sklearn/linear_model/_coordinate_descent.py:644: ConvergenceWarning: Objective did not converge. You might want to increase the number of iterations. Duality gap: 0.017418503365920657, tolerance: 0.0024380140859148083\n",
      "  positive,\n",
      "/shared-libs/python3.7/py/lib/python3.7/site-packages/sklearn/linear_model/_coordinate_descent.py:644: ConvergenceWarning: Objective did not converge. You might want to increase the number of iterations. Duality gap: 0.01797738372554747, tolerance: 0.0024380140859148083\n",
      "  positive,\n",
      "/shared-libs/python3.7/py/lib/python3.7/site-packages/sklearn/linear_model/_coordinate_descent.py:644: ConvergenceWarning: Objective did not converge. You might want to increase the number of iterations. Duality gap: 0.01852465788024915, tolerance: 0.0024380140859148083\n",
      "  positive,\n",
      "/shared-libs/python3.7/py/lib/python3.7/site-packages/sklearn/linear_model/_coordinate_descent.py:644: ConvergenceWarning: Objective did not converge. You might want to increase the number of iterations. Duality gap: 0.019060171082905697, tolerance: 0.0024380140859148083\n",
      "  positive,\n",
      "/shared-libs/python3.7/py/lib/python3.7/site-packages/sklearn/linear_model/_coordinate_descent.py:644: ConvergenceWarning: Objective did not converge. You might want to increase the number of iterations. Duality gap: 0.019583813834508135, tolerance: 0.0024380140859148083\n",
      "  positive,\n",
      "/shared-libs/python3.7/py/lib/python3.7/site-packages/sklearn/linear_model/_coordinate_descent.py:644: ConvergenceWarning: Objective did not converge. You might want to increase the number of iterations. Duality gap: 0.0026476942172735107, tolerance: 0.002486146547535271\n",
      "  positive,\n",
      "/shared-libs/python3.7/py/lib/python3.7/site-packages/sklearn/linear_model/_coordinate_descent.py:644: ConvergenceWarning: Objective did not converge. You might want to increase the number of iterations. Duality gap: 0.003138815496981806, tolerance: 0.002486146547535271\n",
      "  positive,\n",
      "/shared-libs/python3.7/py/lib/python3.7/site-packages/sklearn/linear_model/_coordinate_descent.py:644: ConvergenceWarning: Objective did not converge. You might want to increase the number of iterations. Duality gap: 0.0036745772199147098, tolerance: 0.002486146547535271\n",
      "  positive,\n",
      "/shared-libs/python3.7/py/lib/python3.7/site-packages/sklearn/linear_model/_coordinate_descent.py:644: ConvergenceWarning: Objective did not converge. You might want to increase the number of iterations. Duality gap: 0.004232874646163509, tolerance: 0.002486146547535271\n",
      "  positive,\n",
      "/shared-libs/python3.7/py/lib/python3.7/site-packages/sklearn/linear_model/_coordinate_descent.py:644: ConvergenceWarning: Objective did not converge. You might want to increase the number of iterations. Duality gap: 0.004809039060980069, tolerance: 0.002486146547535271\n",
      "  positive,\n",
      "/shared-libs/python3.7/py/lib/python3.7/site-packages/sklearn/linear_model/_coordinate_descent.py:644: ConvergenceWarning: Objective did not converge. You might want to increase the number of iterations. Duality gap: 0.005399867738749009, tolerance: 0.002486146547535271\n",
      "  positive,\n",
      "/shared-libs/python3.7/py/lib/python3.7/site-packages/sklearn/linear_model/_coordinate_descent.py:644: ConvergenceWarning: Objective did not converge. You might want to increase the number of iterations. Duality gap: 0.0060025234371217095, tolerance: 0.002486146547535271\n",
      "  positive,\n",
      "/shared-libs/python3.7/py/lib/python3.7/site-packages/sklearn/linear_model/_coordinate_descent.py:644: ConvergenceWarning: Objective did not converge. You might want to increase the number of iterations. Duality gap: 0.006614438654764854, tolerance: 0.002486146547535271\n",
      "  positive,\n",
      "/shared-libs/python3.7/py/lib/python3.7/site-packages/sklearn/linear_model/_coordinate_descent.py:644: ConvergenceWarning: Objective did not converge. You might want to increase the number of iterations. Duality gap: 0.007233289020145861, tolerance: 0.002486146547535271\n",
      "  positive,\n",
      "/shared-libs/python3.7/py/lib/python3.7/site-packages/sklearn/linear_model/_coordinate_descent.py:644: ConvergenceWarning: Objective did not converge. You might want to increase the number of iterations. Duality gap: 0.007856972874311197, tolerance: 0.002486146547535271\n",
      "  positive,\n",
      "/shared-libs/python3.7/py/lib/python3.7/site-packages/sklearn/linear_model/_coordinate_descent.py:644: ConvergenceWarning: Objective did not converge. You might want to increase the number of iterations. Duality gap: 0.008483592753158575, tolerance: 0.002486146547535271\n",
      "  positive,\n",
      "/shared-libs/python3.7/py/lib/python3.7/site-packages/sklearn/linear_model/_coordinate_descent.py:644: ConvergenceWarning: Objective did not converge. You might want to increase the number of iterations. Duality gap: 0.0091114384759301, tolerance: 0.002486146547535271\n",
      "  positive,\n",
      "/shared-libs/python3.7/py/lib/python3.7/site-packages/sklearn/linear_model/_coordinate_descent.py:644: ConvergenceWarning: Objective did not converge. You might want to increase the number of iterations. Duality gap: 0.009738971532577523, tolerance: 0.002486146547535271\n",
      "  positive,\n",
      "/shared-libs/python3.7/py/lib/python3.7/site-packages/sklearn/linear_model/_coordinate_descent.py:644: ConvergenceWarning: Objective did not converge. You might want to increase the number of iterations. Duality gap: 0.010364810798357382, tolerance: 0.002486146547535271\n",
      "  positive,\n",
      "/shared-libs/python3.7/py/lib/python3.7/site-packages/sklearn/linear_model/_coordinate_descent.py:644: ConvergenceWarning: Objective did not converge. You might want to increase the number of iterations. Duality gap: 0.010987719369435212, tolerance: 0.002486146547535271\n",
      "  positive,\n",
      "/shared-libs/python3.7/py/lib/python3.7/site-packages/sklearn/linear_model/_coordinate_descent.py:644: ConvergenceWarning: Objective did not converge. You might want to increase the number of iterations. Duality gap: 0.011606592483538236, tolerance: 0.002486146547535271\n",
      "  positive,\n",
      "/shared-libs/python3.7/py/lib/python3.7/site-packages/sklearn/linear_model/_coordinate_descent.py:644: ConvergenceWarning: Objective did not converge. You might want to increase the number of iterations. Duality gap: 0.012220446390887929, tolerance: 0.002486146547535271\n",
      "  positive,\n",
      "/shared-libs/python3.7/py/lib/python3.7/site-packages/sklearn/linear_model/_coordinate_descent.py:644: ConvergenceWarning: Objective did not converge. You might want to increase the number of iterations. Duality gap: 0.012828408143210623, tolerance: 0.002486146547535271\n",
      "  positive,\n",
      "/shared-libs/python3.7/py/lib/python3.7/site-packages/sklearn/linear_model/_coordinate_descent.py:644: ConvergenceWarning: Objective did not converge. You might want to increase the number of iterations. Duality gap: 0.013429706202778391, tolerance: 0.002486146547535271\n",
      "  positive,\n",
      "/shared-libs/python3.7/py/lib/python3.7/site-packages/sklearn/linear_model/_coordinate_descent.py:644: ConvergenceWarning: Objective did not converge. You might want to increase the number of iterations. Duality gap: 0.014023661785451225, tolerance: 0.002486146547535271\n",
      "  positive,\n",
      "/shared-libs/python3.7/py/lib/python3.7/site-packages/sklearn/linear_model/_coordinate_descent.py:644: ConvergenceWarning: Objective did not converge. You might want to increase the number of iterations. Duality gap: 0.014609680894746901, tolerance: 0.002486146547535271\n",
      "  positive,\n",
      "/shared-libs/python3.7/py/lib/python3.7/site-packages/sklearn/linear_model/_coordinate_descent.py:644: ConvergenceWarning: Objective did not converge. You might want to increase the number of iterations. Duality gap: 0.015187247044522678, tolerance: 0.002486146547535271\n",
      "  positive,\n",
      "/shared-libs/python3.7/py/lib/python3.7/site-packages/sklearn/linear_model/_coordinate_descent.py:644: ConvergenceWarning: Objective did not converge. You might want to increase the number of iterations. Duality gap: 0.015755914489027134, tolerance: 0.002486146547535271\n",
      "  positive,\n",
      "/shared-libs/python3.7/py/lib/python3.7/site-packages/sklearn/linear_model/_coordinate_descent.py:644: ConvergenceWarning: Objective did not converge. You might want to increase the number of iterations. Duality gap: 0.0029300534578240445, tolerance: 0.0024521704931999106\n",
      "  positive,\n",
      "/shared-libs/python3.7/py/lib/python3.7/site-packages/sklearn/linear_model/_coordinate_descent.py:644: ConvergenceWarning: Objective did not converge. You might want to increase the number of iterations. Duality gap: 0.003486318236863184, tolerance: 0.0024521704931999106\n",
      "  positive,\n",
      "/shared-libs/python3.7/py/lib/python3.7/site-packages/sklearn/linear_model/_coordinate_descent.py:644: ConvergenceWarning: Objective did not converge. You might want to increase the number of iterations. Duality gap: 0.004071815012462565, tolerance: 0.0024521704931999106\n",
      "  positive,\n",
      "/shared-libs/python3.7/py/lib/python3.7/site-packages/sklearn/linear_model/_coordinate_descent.py:644: ConvergenceWarning: Objective did not converge. You might want to increase the number of iterations. Duality gap: 0.004679587460319823, tolerance: 0.0024521704931999106\n",
      "  positive,\n",
      "/shared-libs/python3.7/py/lib/python3.7/site-packages/sklearn/linear_model/_coordinate_descent.py:644: ConvergenceWarning: Objective did not converge. You might want to increase the number of iterations. Duality gap: 0.0053058829834391474, tolerance: 0.0024521704931999106\n",
      "  positive,\n",
      "/shared-libs/python3.7/py/lib/python3.7/site-packages/sklearn/linear_model/_coordinate_descent.py:644: ConvergenceWarning: Objective did not converge. You might want to increase the number of iterations. Duality gap: 0.005947463971452294, tolerance: 0.0024521704931999106\n",
      "  positive,\n",
      "/shared-libs/python3.7/py/lib/python3.7/site-packages/sklearn/linear_model/_coordinate_descent.py:644: ConvergenceWarning: Objective did not converge. You might want to increase the number of iterations. Duality gap: 0.006601399269378305, tolerance: 0.0024521704931999106\n",
      "  positive,\n",
      "/shared-libs/python3.7/py/lib/python3.7/site-packages/sklearn/linear_model/_coordinate_descent.py:644: ConvergenceWarning: Objective did not converge. You might want to increase the number of iterations. Duality gap: 0.007265027894305831, tolerance: 0.0024521704931999106\n",
      "  positive,\n",
      "/shared-libs/python3.7/py/lib/python3.7/site-packages/sklearn/linear_model/_coordinate_descent.py:644: ConvergenceWarning: Objective did not converge. You might want to increase the number of iterations. Duality gap: 0.007935936240251351, tolerance: 0.0024521704931999106\n",
      "  positive,\n",
      "/shared-libs/python3.7/py/lib/python3.7/site-packages/sklearn/linear_model/_coordinate_descent.py:644: ConvergenceWarning: Objective did not converge. You might want to increase the number of iterations. Duality gap: 0.008611937856795038, tolerance: 0.0024521704931999106\n",
      "  positive,\n",
      "/shared-libs/python3.7/py/lib/python3.7/site-packages/sklearn/linear_model/_coordinate_descent.py:644: ConvergenceWarning: Objective did not converge. You might want to increase the number of iterations. Duality gap: 0.009291054919231101, tolerance: 0.0024521704931999106\n",
      "  positive,\n",
      "/shared-libs/python3.7/py/lib/python3.7/site-packages/sklearn/linear_model/_coordinate_descent.py:644: ConvergenceWarning: Objective did not converge. You might want to increase the number of iterations. Duality gap: 0.009971501179219189, tolerance: 0.0024521704931999106\n",
      "  positive,\n",
      "/shared-libs/python3.7/py/lib/python3.7/site-packages/sklearn/linear_model/_coordinate_descent.py:644: ConvergenceWarning: Objective did not converge. You might want to increase the number of iterations. Duality gap: 0.010651666297381013, tolerance: 0.0024521704931999106\n",
      "  positive,\n",
      "/shared-libs/python3.7/py/lib/python3.7/site-packages/sklearn/linear_model/_coordinate_descent.py:644: ConvergenceWarning: Objective did not converge. You might want to increase the number of iterations. Duality gap: 0.01133010136929613, tolerance: 0.0024521704931999106\n",
      "  positive,\n",
      "/shared-libs/python3.7/py/lib/python3.7/site-packages/sklearn/linear_model/_coordinate_descent.py:644: ConvergenceWarning: Objective did not converge. You might want to increase the number of iterations. Duality gap: 0.012005505784021153, tolerance: 0.0024521704931999106\n",
      "  positive,\n",
      "/shared-libs/python3.7/py/lib/python3.7/site-packages/sklearn/linear_model/_coordinate_descent.py:644: ConvergenceWarning: Objective did not converge. You might want to increase the number of iterations. Duality gap: 0.01267671488653832, tolerance: 0.0024521704931999106\n",
      "  positive,\n",
      "/shared-libs/python3.7/py/lib/python3.7/site-packages/sklearn/linear_model/_coordinate_descent.py:644: ConvergenceWarning: Objective did not converge. You might want to increase the number of iterations. Duality gap: 0.013342688783698264, tolerance: 0.0024521704931999106\n",
      "  positive,\n",
      "/shared-libs/python3.7/py/lib/python3.7/site-packages/sklearn/linear_model/_coordinate_descent.py:644: ConvergenceWarning: Objective did not converge. You might want to increase the number of iterations. Duality gap: 0.014002502055703303, tolerance: 0.0024521704931999106\n",
      "  positive,\n",
      "/shared-libs/python3.7/py/lib/python3.7/site-packages/sklearn/linear_model/_coordinate_descent.py:644: ConvergenceWarning: Objective did not converge. You might want to increase the number of iterations. Duality gap: 0.014655334103235163, tolerance: 0.0024521704931999106\n",
      "  positive,\n",
      "/shared-libs/python3.7/py/lib/python3.7/site-packages/sklearn/linear_model/_coordinate_descent.py:644: ConvergenceWarning: Objective did not converge. You might want to increase the number of iterations. Duality gap: 0.015300460500185409, tolerance: 0.0024521704931999106\n",
      "  positive,\n",
      "/shared-libs/python3.7/py/lib/python3.7/site-packages/sklearn/linear_model/_coordinate_descent.py:644: ConvergenceWarning: Objective did not converge. You might want to increase the number of iterations. Duality gap: 0.015937244820406704, tolerance: 0.0024521704931999106\n",
      "  positive,\n",
      "/shared-libs/python3.7/py/lib/python3.7/site-packages/sklearn/linear_model/_coordinate_descent.py:644: ConvergenceWarning: Objective did not converge. You might want to increase the number of iterations. Duality gap: 0.016565131225746654, tolerance: 0.0024521704931999106\n",
      "  positive,\n",
      "/shared-libs/python3.7/py/lib/python3.7/site-packages/sklearn/linear_model/_coordinate_descent.py:644: ConvergenceWarning: Objective did not converge. You might want to increase the number of iterations. Duality gap: 0.017183637632932403, tolerance: 0.0024521704931999106\n",
      "  positive,\n",
      "/shared-libs/python3.7/py/lib/python3.7/site-packages/sklearn/linear_model/_coordinate_descent.py:644: ConvergenceWarning: Objective did not converge. You might want to increase the number of iterations. Duality gap: 0.002702059525635292, tolerance: 0.0024458124072845124\n",
      "  positive,\n",
      "/shared-libs/python3.7/py/lib/python3.7/site-packages/sklearn/linear_model/_coordinate_descent.py:644: ConvergenceWarning: Objective did not converge. You might want to increase the number of iterations. Duality gap: 0.00322108597067583, tolerance: 0.0024458124072845124\n",
      "  positive,\n",
      "/shared-libs/python3.7/py/lib/python3.7/site-packages/sklearn/linear_model/_coordinate_descent.py:644: ConvergenceWarning: Objective did not converge. You might want to increase the number of iterations. Duality gap: 0.0037792967088137175, tolerance: 0.0024458124072845124\n",
      "  positive,\n",
      "/shared-libs/python3.7/py/lib/python3.7/site-packages/sklearn/linear_model/_coordinate_descent.py:644: ConvergenceWarning: Objective did not converge. You might want to increase the number of iterations. Duality gap: 0.004359709335698625, tolerance: 0.0024458124072845124\n",
      "  positive,\n",
      "/shared-libs/python3.7/py/lib/python3.7/site-packages/sklearn/linear_model/_coordinate_descent.py:644: ConvergenceWarning: Objective did not converge. You might want to increase the number of iterations. Duality gap: 0.004957825884655875, tolerance: 0.0024458124072845124\n",
      "  positive,\n",
      "/shared-libs/python3.7/py/lib/python3.7/site-packages/sklearn/linear_model/_coordinate_descent.py:644: ConvergenceWarning: Objective did not converge. You might want to increase the number of iterations. Duality gap: 0.005570234759932902, tolerance: 0.0024458124072845124\n",
      "  positive,\n",
      "/shared-libs/python3.7/py/lib/python3.7/site-packages/sklearn/linear_model/_coordinate_descent.py:644: ConvergenceWarning: Objective did not converge. You might want to increase the number of iterations. Duality gap: 0.006193893900629632, tolerance: 0.0024458124072845124\n",
      "  positive,\n",
      "/shared-libs/python3.7/py/lib/python3.7/site-packages/sklearn/linear_model/_coordinate_descent.py:644: ConvergenceWarning: Objective did not converge. You might want to increase the number of iterations. Duality gap: 0.0068260616864783685, tolerance: 0.0024458124072845124\n",
      "  positive,\n",
      "/shared-libs/python3.7/py/lib/python3.7/site-packages/sklearn/linear_model/_coordinate_descent.py:644: ConvergenceWarning: Objective did not converge. You might want to increase the number of iterations. Duality gap: 0.007464268853279776, tolerance: 0.0024458124072845124\n",
      "  positive,\n",
      "/shared-libs/python3.7/py/lib/python3.7/site-packages/sklearn/linear_model/_coordinate_descent.py:644: ConvergenceWarning: Objective did not converge. You might want to increase the number of iterations. Duality gap: 0.008106294856229823, tolerance: 0.0024458124072845124\n",
      "  positive,\n",
      "/shared-libs/python3.7/py/lib/python3.7/site-packages/sklearn/linear_model/_coordinate_descent.py:644: ConvergenceWarning: Objective did not converge. You might want to increase the number of iterations. Duality gap: 0.008750146352571875, tolerance: 0.0024458124072845124\n",
      "  positive,\n",
      "/shared-libs/python3.7/py/lib/python3.7/site-packages/sklearn/linear_model/_coordinate_descent.py:644: ConvergenceWarning: Objective did not converge. You might want to increase the number of iterations. Duality gap: 0.009394037536068822, tolerance: 0.0024458124072845124\n",
      "  positive,\n",
      "/shared-libs/python3.7/py/lib/python3.7/site-packages/sklearn/linear_model/_coordinate_descent.py:644: ConvergenceWarning: Objective did not converge. You might want to increase the number of iterations. Duality gap: 0.010036372154605289, tolerance: 0.0024458124072845124\n",
      "  positive,\n",
      "/shared-libs/python3.7/py/lib/python3.7/site-packages/sklearn/linear_model/_coordinate_descent.py:644: ConvergenceWarning: Objective did not converge. You might want to increase the number of iterations. Duality gap: 0.010675726980043265, tolerance: 0.0024458124072845124\n",
      "  positive,\n",
      "/shared-libs/python3.7/py/lib/python3.7/site-packages/sklearn/linear_model/_coordinate_descent.py:644: ConvergenceWarning: Objective did not converge. You might want to increase the number of iterations. Duality gap: 0.011310836722906004, tolerance: 0.0024458124072845124\n",
      "  positive,\n",
      "/shared-libs/python3.7/py/lib/python3.7/site-packages/sklearn/linear_model/_coordinate_descent.py:644: ConvergenceWarning: Objective did not converge. You might want to increase the number of iterations. Duality gap: 0.011940580210787033, tolerance: 0.0024458124072845124\n",
      "  positive,\n",
      "/shared-libs/python3.7/py/lib/python3.7/site-packages/sklearn/linear_model/_coordinate_descent.py:644: ConvergenceWarning: Objective did not converge. You might want to increase the number of iterations. Duality gap: 0.012563967714193325, tolerance: 0.0024458124072845124\n",
      "  positive,\n",
      "/shared-libs/python3.7/py/lib/python3.7/site-packages/sklearn/linear_model/_coordinate_descent.py:644: ConvergenceWarning: Objective did not converge. You might want to increase the number of iterations. Duality gap: 0.013180129290830678, tolerance: 0.0024458124072845124\n",
      "  positive,\n",
      "/shared-libs/python3.7/py/lib/python3.7/site-packages/sklearn/linear_model/_coordinate_descent.py:644: ConvergenceWarning: Objective did not converge. You might want to increase the number of iterations. Duality gap: 0.01378830418972754, tolerance: 0.0024458124072845124\n",
      "  positive,\n",
      "/shared-libs/python3.7/py/lib/python3.7/site-packages/sklearn/linear_model/_coordinate_descent.py:644: ConvergenceWarning: Objective did not converge. You might want to increase the number of iterations. Duality gap: 0.014387831081585034, tolerance: 0.0024458124072845124\n",
      "  positive,\n",
      "/shared-libs/python3.7/py/lib/python3.7/site-packages/sklearn/linear_model/_coordinate_descent.py:644: ConvergenceWarning: Objective did not converge. You might want to increase the number of iterations. Duality gap: 0.014978139084266928, tolerance: 0.0024458124072845124\n",
      "  positive,\n",
      "/shared-libs/python3.7/py/lib/python3.7/site-packages/sklearn/linear_model/_coordinate_descent.py:644: ConvergenceWarning: Objective did not converge. You might want to increase the number of iterations. Duality gap: 0.015558739603427796, tolerance: 0.0024458124072845124\n",
      "  positive,\n",
      "/shared-libs/python3.7/py/lib/python3.7/site-packages/sklearn/linear_model/_coordinate_descent.py:644: ConvergenceWarning: Objective did not converge. You might want to increase the number of iterations. Duality gap: 0.016129218803232703, tolerance: 0.0024458124072845124\n",
      "  positive,\n",
      "/shared-libs/python3.7/py/lib/python3.7/site-packages/sklearn/linear_model/_coordinate_descent.py:644: ConvergenceWarning: Objective did not converge. You might want to increase the number of iterations. Duality gap: 0.016689230705019042, tolerance: 0.0024458124072845124\n",
      "  positive,\n",
      "/shared-libs/python3.7/py/lib/python3.7/site-packages/sklearn/linear_model/_coordinate_descent.py:644: ConvergenceWarning: Objective did not converge. You might want to increase the number of iterations. Duality gap: 0.017238490900346903, tolerance: 0.0024458124072845124\n",
      "  positive,\n",
      "/shared-libs/python3.7/py/lib/python3.7/site-packages/sklearn/linear_model/_coordinate_descent.py:644: ConvergenceWarning: Objective did not converge. You might want to increase the number of iterations. Duality gap: 0.017776770713769707, tolerance: 0.0024458124072845124\n",
      "  positive,\n",
      "/shared-libs/python3.7/py/lib/python3.7/site-packages/sklearn/linear_model/_coordinate_descent.py:644: ConvergenceWarning: Objective did not converge. You might want to increase the number of iterations. Duality gap: 0.018303891952729856, tolerance: 0.0024458124072845124\n",
      "  positive,\n",
      "/shared-libs/python3.7/py/lib/python3.7/site-packages/sklearn/linear_model/_coordinate_descent.py:644: ConvergenceWarning: Objective did not converge. You might want to increase the number of iterations. Duality gap: 0.01881972201026727, tolerance: 0.0024458124072845124\n",
      "  positive,\n",
      "/shared-libs/python3.7/py/lib/python3.7/site-packages/sklearn/linear_model/_coordinate_descent.py:644: ConvergenceWarning: Objective did not converge. You might want to increase the number of iterations. Duality gap: 0.019324169417419768, tolerance: 0.0024458124072845124\n",
      "  positive,\n",
      "/shared-libs/python3.7/py/lib/python3.7/site-packages/sklearn/linear_model/_coordinate_descent.py:644: ConvergenceWarning: Objective did not converge. You might want to increase the number of iterations. Duality gap: 0.019817179770463156, tolerance: 0.0024458124072845124\n",
      "  positive,\n",
      "/shared-libs/python3.7/py/lib/python3.7/site-packages/sklearn/linear_model/_coordinate_descent.py:644: ConvergenceWarning: Objective did not converge. You might want to increase the number of iterations. Duality gap: 0.020298731961780447, tolerance: 0.0024458124072845124\n",
      "  positive,\n",
      "/shared-libs/python3.7/py/lib/python3.7/site-packages/sklearn/linear_model/_coordinate_descent.py:644: ConvergenceWarning: Objective did not converge. You might want to increase the number of iterations. Duality gap: 0.02076883479392677, tolerance: 0.0024458124072845124\n",
      "  positive,\n",
      "/shared-libs/python3.7/py/lib/python3.7/site-packages/sklearn/linear_model/_coordinate_descent.py:644: ConvergenceWarning: Objective did not converge. You might want to increase the number of iterations. Duality gap: 0.01005820011405234, tolerance: 0.0024458124072845124\n",
      "  positive,\n",
      "/shared-libs/python3.7/py/lib/python3.7/site-packages/sklearn/linear_model/_coordinate_descent.py:644: ConvergenceWarning: Objective did not converge. You might want to increase the number of iterations. Duality gap: 0.0027832140849177733, tolerance: 0.0024148162280968736\n",
      "  positive,\n",
      "/shared-libs/python3.7/py/lib/python3.7/site-packages/sklearn/linear_model/_coordinate_descent.py:644: ConvergenceWarning: Objective did not converge. You might want to increase the number of iterations. Duality gap: 0.0033204394179264796, tolerance: 0.0024148162280968736\n",
      "  positive,\n",
      "/shared-libs/python3.7/py/lib/python3.7/site-packages/sklearn/linear_model/_coordinate_descent.py:644: ConvergenceWarning: Objective did not converge. You might want to increase the number of iterations. Duality gap: 0.003891787726377771, tolerance: 0.0024148162280968736\n",
      "  positive,\n",
      "/shared-libs/python3.7/py/lib/python3.7/site-packages/sklearn/linear_model/_coordinate_descent.py:644: ConvergenceWarning: Objective did not converge. You might want to increase the number of iterations. Duality gap: 0.004484986158523441, tolerance: 0.0024148162280968736\n",
      "  positive,\n",
      "/shared-libs/python3.7/py/lib/python3.7/site-packages/sklearn/linear_model/_coordinate_descent.py:644: ConvergenceWarning: Objective did not converge. You might want to increase the number of iterations. Duality gap: 0.005095807714486256, tolerance: 0.0024148162280968736\n",
      "  positive,\n",
      "/shared-libs/python3.7/py/lib/python3.7/site-packages/sklearn/linear_model/_coordinate_descent.py:644: ConvergenceWarning: Objective did not converge. You might want to increase the number of iterations. Duality gap: 0.005720864050534402, tolerance: 0.0024148162280968736\n",
      "  positive,\n",
      "/shared-libs/python3.7/py/lib/python3.7/site-packages/sklearn/linear_model/_coordinate_descent.py:644: ConvergenceWarning: Objective did not converge. You might want to increase the number of iterations. Duality gap: 0.006357119322672133, tolerance: 0.0024148162280968736\n",
      "  positive,\n",
      "/shared-libs/python3.7/py/lib/python3.7/site-packages/sklearn/linear_model/_coordinate_descent.py:644: ConvergenceWarning: Objective did not converge. You might want to increase the number of iterations. Duality gap: 0.007001834158028686, tolerance: 0.0024148162280968736\n",
      "  positive,\n",
      "/shared-libs/python3.7/py/lib/python3.7/site-packages/sklearn/linear_model/_coordinate_descent.py:644: ConvergenceWarning: Objective did not converge. You might want to increase the number of iterations. Duality gap: 0.007652538759884919, tolerance: 0.0024148162280968736\n",
      "  positive,\n",
      "/shared-libs/python3.7/py/lib/python3.7/site-packages/sklearn/linear_model/_coordinate_descent.py:644: ConvergenceWarning: Objective did not converge. You might want to increase the number of iterations. Duality gap: 0.008307009874112481, tolerance: 0.0024148162280968736\n",
      "  positive,\n",
      "/shared-libs/python3.7/py/lib/python3.7/site-packages/sklearn/linear_model/_coordinate_descent.py:644: ConvergenceWarning: Objective did not converge. You might want to increase the number of iterations. Duality gap: 0.00896324970711504, tolerance: 0.0024148162280968736\n",
      "  positive,\n",
      "/shared-libs/python3.7/py/lib/python3.7/site-packages/sklearn/linear_model/_coordinate_descent.py:644: ConvergenceWarning: Objective did not converge. You might want to increase the number of iterations. Duality gap: 0.009619466668013388, tolerance: 0.0024148162280968736\n",
      "  positive,\n",
      "/shared-libs/python3.7/py/lib/python3.7/site-packages/sklearn/linear_model/_coordinate_descent.py:644: ConvergenceWarning: Objective did not converge. You might want to increase the number of iterations. Duality gap: 0.010274057662218894, tolerance: 0.0024148162280968736\n",
      "  positive,\n",
      "/shared-libs/python3.7/py/lib/python3.7/site-packages/sklearn/linear_model/_coordinate_descent.py:644: ConvergenceWarning: Objective did not converge. You might want to increase the number of iterations. Duality gap: 0.010925591920681654, tolerance: 0.0024148162280968736\n",
      "  positive,\n",
      "/shared-libs/python3.7/py/lib/python3.7/site-packages/sklearn/linear_model/_coordinate_descent.py:644: ConvergenceWarning: Objective did not converge. You might want to increase the number of iterations. Duality gap: 0.011572796105937755, tolerance: 0.0024148162280968736\n",
      "  positive,\n",
      "/shared-libs/python3.7/py/lib/python3.7/site-packages/sklearn/linear_model/_coordinate_descent.py:644: ConvergenceWarning: Objective did not converge. You might want to increase the number of iterations. Duality gap: 0.012214540664757578, tolerance: 0.0024148162280968736\n",
      "  positive,\n",
      "/shared-libs/python3.7/py/lib/python3.7/site-packages/sklearn/linear_model/_coordinate_descent.py:644: ConvergenceWarning: Objective did not converge. You might want to increase the number of iterations. Duality gap: 0.012849827387071855, tolerance: 0.0024148162280968736\n",
      "  positive,\n",
      "/shared-libs/python3.7/py/lib/python3.7/site-packages/sklearn/linear_model/_coordinate_descent.py:644: ConvergenceWarning: Objective did not converge. You might want to increase the number of iterations. Duality gap: 0.013477777849750794, tolerance: 0.0024148162280968736\n",
      "  positive,\n",
      "/shared-libs/python3.7/py/lib/python3.7/site-packages/sklearn/linear_model/_coordinate_descent.py:644: ConvergenceWarning: Objective did not converge. You might want to increase the number of iterations. Duality gap: 0.014097622957088163, tolerance: 0.0024148162280968736\n",
      "  positive,\n",
      "/shared-libs/python3.7/py/lib/python3.7/site-packages/sklearn/linear_model/_coordinate_descent.py:644: ConvergenceWarning: Objective did not converge. You might want to increase the number of iterations. Duality gap: 0.014708693211897383, tolerance: 0.0024148162280968736\n",
      "  positive,\n",
      "/shared-libs/python3.7/py/lib/python3.7/site-packages/sklearn/linear_model/_coordinate_descent.py:644: ConvergenceWarning: Objective did not converge. You might want to increase the number of iterations. Duality gap: 0.01531040991769217, tolerance: 0.0024148162280968736\n",
      "  positive,\n",
      "/shared-libs/python3.7/py/lib/python3.7/site-packages/sklearn/linear_model/_coordinate_descent.py:644: ConvergenceWarning: Objective did not converge. You might want to increase the number of iterations. Duality gap: 0.01590227699085034, tolerance: 0.0024148162280968736\n",
      "  positive,\n",
      "/shared-libs/python3.7/py/lib/python3.7/site-packages/sklearn/linear_model/_coordinate_descent.py:644: ConvergenceWarning: Objective did not converge. You might want to increase the number of iterations. Duality gap: 0.016483873518794212, tolerance: 0.0024148162280968736\n",
      "  positive,\n",
      "/shared-libs/python3.7/py/lib/python3.7/site-packages/sklearn/linear_model/_coordinate_descent.py:644: ConvergenceWarning: Objective did not converge. You might want to increase the number of iterations. Duality gap: 0.017054846885770303, tolerance: 0.0024148162280968736\n",
      "  positive,\n",
      "/shared-libs/python3.7/py/lib/python3.7/site-packages/sklearn/linear_model/_coordinate_descent.py:644: ConvergenceWarning: Objective did not converge. You might want to increase the number of iterations. Duality gap: 0.01761490650892128, tolerance: 0.0024148162280968736\n",
      "  positive,\n",
      "/shared-libs/python3.7/py/lib/python3.7/site-packages/sklearn/linear_model/_coordinate_descent.py:644: ConvergenceWarning: Objective did not converge. You might want to increase the number of iterations. Duality gap: 0.018163818042950197, tolerance: 0.0024148162280968736\n",
      "  positive,\n",
      "/shared-libs/python3.7/py/lib/python3.7/site-packages/sklearn/linear_model/_coordinate_descent.py:644: ConvergenceWarning: Objective did not converge. You might want to increase the number of iterations. Duality gap: 0.018701398097480393, tolerance: 0.0024148162280968736\n",
      "  positive,\n",
      "/shared-libs/python3.7/py/lib/python3.7/site-packages/sklearn/linear_model/_coordinate_descent.py:644: ConvergenceWarning: Objective did not converge. You might want to increase the number of iterations. Duality gap: 0.019227509382385932, tolerance: 0.0024148162280968736\n",
      "  positive,\n",
      "/shared-libs/python3.7/py/lib/python3.7/site-packages/sklearn/linear_model/_coordinate_descent.py:644: ConvergenceWarning: Objective did not converge. You might want to increase the number of iterations. Duality gap: 0.01974205622618186, tolerance: 0.0024148162280968736\n",
      "  positive,\n",
      "/shared-libs/python3.7/py/lib/python3.7/site-packages/sklearn/linear_model/_coordinate_descent.py:644: ConvergenceWarning: Objective did not converge. You might want to increase the number of iterations. Duality gap: 0.020244980537448498, tolerance: 0.0024148162280968736\n",
      "  positive,\n",
      "/shared-libs/python3.7/py/lib/python3.7/site-packages/sklearn/linear_model/_coordinate_descent.py:644: ConvergenceWarning: Objective did not converge. You might want to increase the number of iterations. Duality gap: 0.00844361885875955, tolerance: 0.0024148162280968736\n",
      "  positive,\n",
      "/shared-libs/python3.7/py/lib/python3.7/site-packages/sklearn/linear_model/_coordinate_descent.py:644: ConvergenceWarning: Objective did not converge. You might want to increase the number of iterations. Duality gap: 0.002903316090204555, tolerance: 0.002442730397886355\n",
      "  positive,\n",
      "/shared-libs/python3.7/py/lib/python3.7/site-packages/sklearn/linear_model/_coordinate_descent.py:644: ConvergenceWarning: Objective did not converge. You might want to increase the number of iterations. Duality gap: 0.0034391147696624103, tolerance: 0.002442730397886355\n",
      "  positive,\n",
      "/shared-libs/python3.7/py/lib/python3.7/site-packages/sklearn/linear_model/_coordinate_descent.py:644: ConvergenceWarning: Objective did not converge. You might want to increase the number of iterations. Duality gap: 0.0040004203153927165, tolerance: 0.002442730397886355\n",
      "  positive,\n",
      "/shared-libs/python3.7/py/lib/python3.7/site-packages/sklearn/linear_model/_coordinate_descent.py:644: ConvergenceWarning: Objective did not converge. You might want to increase the number of iterations. Duality gap: 0.004580739931309807, tolerance: 0.002442730397886355\n",
      "  positive,\n",
      "/shared-libs/python3.7/py/lib/python3.7/site-packages/sklearn/linear_model/_coordinate_descent.py:644: ConvergenceWarning: Objective did not converge. You might want to increase the number of iterations. Duality gap: 0.005176376543875705, tolerance: 0.002442730397886355\n",
      "  positive,\n",
      "/shared-libs/python3.7/py/lib/python3.7/site-packages/sklearn/linear_model/_coordinate_descent.py:644: ConvergenceWarning: Objective did not converge. You might want to increase the number of iterations. Duality gap: 0.005784119647941566, tolerance: 0.002442730397886355\n",
      "  positive,\n",
      "/shared-libs/python3.7/py/lib/python3.7/site-packages/sklearn/linear_model/_coordinate_descent.py:644: ConvergenceWarning: Objective did not converge. You might want to increase the number of iterations. Duality gap: 0.006401085242625726, tolerance: 0.002442730397886355\n",
      "  positive,\n",
      "/shared-libs/python3.7/py/lib/python3.7/site-packages/sklearn/linear_model/_coordinate_descent.py:644: ConvergenceWarning: Objective did not converge. You might want to increase the number of iterations. Duality gap: 0.007024680565887564, tolerance: 0.002442730397886355\n",
      "  positive,\n",
      "/shared-libs/python3.7/py/lib/python3.7/site-packages/sklearn/linear_model/_coordinate_descent.py:644: ConvergenceWarning: Objective did not converge. You might want to increase the number of iterations. Duality gap: 0.0076525781089991085, tolerance: 0.002442730397886355\n",
      "  positive,\n",
      "/shared-libs/python3.7/py/lib/python3.7/site-packages/sklearn/linear_model/_coordinate_descent.py:644: ConvergenceWarning: Objective did not converge. You might want to increase the number of iterations. Duality gap: 0.008282692304323547, tolerance: 0.002442730397886355\n",
      "  positive,\n",
      "/shared-libs/python3.7/py/lib/python3.7/site-packages/sklearn/linear_model/_coordinate_descent.py:644: ConvergenceWarning: Objective did not converge. You might want to increase the number of iterations. Duality gap: 0.008913158144899569, tolerance: 0.002442730397886355\n",
      "  positive,\n",
      "/shared-libs/python3.7/py/lib/python3.7/site-packages/sklearn/linear_model/_coordinate_descent.py:644: ConvergenceWarning: Objective did not converge. You might want to increase the number of iterations. Duality gap: 0.00954231173630049, tolerance: 0.002442730397886355\n",
      "  positive,\n",
      "/shared-libs/python3.7/py/lib/python3.7/site-packages/sklearn/linear_model/_coordinate_descent.py:644: ConvergenceWarning: Objective did not converge. You might want to increase the number of iterations. Duality gap: 0.010168672448486404, tolerance: 0.002442730397886355\n",
      "  positive,\n",
      "/shared-libs/python3.7/py/lib/python3.7/site-packages/sklearn/linear_model/_coordinate_descent.py:644: ConvergenceWarning: Objective did not converge. You might want to increase the number of iterations. Duality gap: 0.01079092664997816, tolerance: 0.002442730397886355\n",
      "  positive,\n",
      "/shared-libs/python3.7/py/lib/python3.7/site-packages/sklearn/linear_model/_coordinate_descent.py:644: ConvergenceWarning: Objective did not converge. You might want to increase the number of iterations. Duality gap: 0.011407912800279973, tolerance: 0.002442730397886355\n",
      "  positive,\n",
      "/shared-libs/python3.7/py/lib/python3.7/site-packages/sklearn/linear_model/_coordinate_descent.py:644: ConvergenceWarning: Objective did not converge. You might want to increase the number of iterations. Duality gap: 0.012018607831425498, tolerance: 0.002442730397886355\n",
      "  positive,\n",
      "/shared-libs/python3.7/py/lib/python3.7/site-packages/sklearn/linear_model/_coordinate_descent.py:644: ConvergenceWarning: Objective did not converge. You might want to increase the number of iterations. Duality gap: 0.012622114655858496, tolerance: 0.002442730397886355\n",
      "  positive,\n",
      "/shared-libs/python3.7/py/lib/python3.7/site-packages/sklearn/linear_model/_coordinate_descent.py:644: ConvergenceWarning: Objective did not converge. You might want to increase the number of iterations. Duality gap: 0.01321765078602155, tolerance: 0.002442730397886355\n",
      "  positive,\n",
      "/shared-libs/python3.7/py/lib/python3.7/site-packages/sklearn/linear_model/_coordinate_descent.py:644: ConvergenceWarning: Objective did not converge. You might want to increase the number of iterations. Duality gap: 0.013804537902366576, tolerance: 0.002442730397886355\n",
      "  positive,\n",
      "/shared-libs/python3.7/py/lib/python3.7/site-packages/sklearn/linear_model/_coordinate_descent.py:644: ConvergenceWarning: Objective did not converge. You might want to increase the number of iterations. Duality gap: 0.014382192278770134, tolerance: 0.002442730397886355\n",
      "  positive,\n",
      "/shared-libs/python3.7/py/lib/python3.7/site-packages/sklearn/linear_model/_coordinate_descent.py:644: ConvergenceWarning: Objective did not converge. You might want to increase the number of iterations. Duality gap: 0.014950116048940032, tolerance: 0.002442730397886355\n",
      "  positive,\n",
      "/shared-libs/python3.7/py/lib/python3.7/site-packages/sklearn/linear_model/_coordinate_descent.py:644: ConvergenceWarning: Objective did not converge. You might want to increase the number of iterations. Duality gap: 0.015507889216344495, tolerance: 0.002442730397886355\n",
      "  positive,\n",
      "/shared-libs/python3.7/py/lib/python3.7/site-packages/sklearn/linear_model/_coordinate_descent.py:644: ConvergenceWarning: Objective did not converge. You might want to increase the number of iterations. Duality gap: 0.016055162338307838, tolerance: 0.002442730397886355\n",
      "  positive,\n",
      "/shared-libs/python3.7/py/lib/python3.7/site-packages/sklearn/linear_model/_coordinate_descent.py:644: ConvergenceWarning: Objective did not converge. You might want to increase the number of iterations. Duality gap: 0.016591649805569375, tolerance: 0.002442730397886355\n",
      "  positive,\n",
      "/shared-libs/python3.7/py/lib/python3.7/site-packages/sklearn/linear_model/_coordinate_descent.py:644: ConvergenceWarning: Objective did not converge. You might want to increase the number of iterations. Duality gap: 0.017117123730074013, tolerance: 0.002442730397886355\n",
      "  positive,\n",
      "/shared-libs/python3.7/py/lib/python3.7/site-packages/sklearn/linear_model/_coordinate_descent.py:644: ConvergenceWarning: Objective did not converge. You might want to increase the number of iterations. Duality gap: 0.01763140833732635, tolerance: 0.002442730397886355\n",
      "  positive,\n",
      "Model: LassoCV(cv=10, n_alphas=1000, random_state=0)\n",
      "Predictions: (49,)\n"
     ]
    },
    {
     "data": {
      "image/png": "[encoded data removed]",
      "text/plain": [
       "<Figure size 1440x720 with 1 Axes>"
      ]
     },
     "metadata": {
      "image/png": {
       "height": 589,
       "width": 1167
      },
      "needs_background": "light"
     },
     "output_type": "display_data"
    },
    {
     "name": "stdout",
     "output_type": "stream",
     "text": [
      "R2 Score: 0.102145019\n",
      "Explained Variance Score: 0.227467980\n",
      "MSE: 0.062969698\n",
      "MAE: 0.212457319\n",
      "0.0009312506878686107\n"
     ]
    }
   ],
   "source": [
    "poly_df = pd.read_csv(\"poly.csv\")\n",
    "poly_temp = poly_df[['MinTemp', 'MinTemp^2', 'MinTemp^3', 'MinTemp^4']]\n",
    "#poly_temp.describe()\n",
    "poly_vol = poly_df[['ArcticIceVolume']]\n",
    "# split traing set and testing set to 9:1 (441:49):\n",
    "poly_X_train, poly_X_val, poly_y_train, poly_y_val = train_test_split(poly_temp, poly_vol, test_size=0.1, \\\n",
    "                                                                    train_size=0.9, random_state=7)\n",
    "poly_X_train.shape, poly_X_val.shape\n",
    "\n",
    "\n",
    "poly_lassoMLR_cv_model = LassoCV(\n",
    "    cv=10, random_state=0, n_alphas=1000\n",
    ").fit(poly_X_train, poly_y_train)\n",
    "poly_y_pred = poly_lassoMLR_cv_model.predict(poly_X_val)\n",
    "print(f'Model: {poly_lassoMLR_cv_model}')\n",
    "print(f'Predictions: {poly_y_pred.shape}')\n",
    "\n",
    "# plot\n",
    "plot_preds(poly_y_pred, poly_y_val)\n",
    "r2, ev, mse, mae = calc_metrics(poly_y_pred, poly_y_val)\n",
    "print(f'R2 Score: {r2:.9f}')\n",
    "print(f'Explained Variance Score: {ev:.9f}')\n",
    "print(f'MSE: {mse:.9f}')\n",
    "print(f'MAE: {mae:.9f}')\n",
    "# Update overall results, if we haven't already:\n",
    "if 'PolynomialLassoLinearModel' not in experiments:\n",
    "    experiments.extend(['PolynomialLassoLinearModel']*4)\n",
    "    metric_names.extend(['R2', 'Explained Variance', 'MSE', 'MAE'])\n",
    "    metric_vals.extend([r2, ev, mse, mae])\n",
    "\n",
    "\n",
    "print(poly_lassoMLR_cv_model.alpha_)"
   ]
  },
  {
   "cell_type": "code",
   "execution_count": 9,
   "metadata": {
    "cell_id": "6cacb687054241c38b39c64b8de720b2",
    "deepnote_cell_height": 946.109375,
    "deepnote_cell_type": "code",
    "deepnote_output_heights": [
     null,
     275.046875
    ],
    "deepnote_to_be_reexecuted": false,
    "execution_millis": 3039,
    "execution_start": 1650847894321,
    "source_hash": "9f67b3d0",
    "tags": []
   },
   "outputs": [
    {
     "name": "stderr",
     "output_type": "stream",
     "text": [
      "/shared-libs/python3.7/py-core/lib/python3.7/site-packages/ipykernel_launcher.py:5: DataConversionWarning: A column-vector y was passed when a 1d array was expected. Please change the shape of y to (n_samples,), for example using ravel().\n",
      "  \"\"\"\n",
      "Model: RandomForestRegressor(max_depth=20, n_estimators=2000, random_state=7)\n",
      "Predictions: (49,)\n"
     ]
    },
    {
     "data": {
      "image/png": "[encoded data removed]",
      "text/plain": [
       "<Figure size 1440x720 with 1 Axes>"
      ]
     },
     "metadata": {
      "image/png": {
       "height": 589,
       "width": 1167
      },
      "needs_background": "light"
     },
     "output_type": "display_data"
    },
    {
     "name": "stdout",
     "output_type": "stream",
     "text": [
      "R2 Score: 0.104762926\n",
      "Explained Variance Score: 0.109798583\n",
      "MSE: 0.062786095\n",
      "MAE: 0.198781320\n"
     ]
    }
   ],
   "source": [
    "random_forest_model = RandomForestRegressor(\n",
    "    n_estimators=2000,\n",
    "    max_depth=20,\n",
    "    random_state=7\n",
    ").fit(X_train, y_train)\n",
    "y_pred = random_forest_model.predict(X_val)\n",
    "print(f'Model: {random_forest_model}')\n",
    "print(f'Predictions: {y_pred.shape}')\n",
    "\n",
    "#plot\n",
    "plot_preds(y_pred, y_val)\n",
    "r2, ev, mse, mae = calc_metrics(y_pred, y_val)\n",
    "print(f'R2 Score: {r2:.9f}')\n",
    "print(f'Explained Variance Score: {ev:.9f}')\n",
    "print(f'MSE: {mse:.9f}')\n",
    "print(f'MAE: {mae:.9f}')\n",
    "# Update overall results, if we haven't already:\n",
    "if 'RandomForestModel' not in experiments:\n",
    "    experiments.extend(['RandomForestModel']*4)\n",
    "    metric_names.extend(['R2', 'Explained Variance', 'MSE', 'MAE'])\n",
    "    metric_vals.extend([r2, ev, mse, mae])"
   ]
  },
  {
   "cell_type": "code",
   "execution_count": 10,
   "metadata": {
    "cell_id": "fb84205d97c8473085369736800be371",
    "deepnote_cell_height": 1125.28125,
    "deepnote_cell_type": "code",
    "deepnote_output_heights": [
     null,
     380.53125
    ],
    "deepnote_to_be_reexecuted": false,
    "execution_millis": 306,
    "execution_start": 1650847897408,
    "owner_user_id": "7d6f594a-5bfd-498b-8b9b-b37a15193fbe",
    "source_hash": "e594cb8d",
    "tags": []
   },
   "outputs": [
    {
     "name": "stdout",
     "output_type": "stream",
     "text": [
      "Model: MLPRegressor(batch_size=32, hidden_layer_sizes=(10, 10, 10, 10, 10, 10),\n",
      "             random_state=0, solver='lbfgs')\n",
      "Predictions: (49,)\n",
      "/shared-libs/python3.7/py/lib/python3.7/site-packages/sklearn/neural_network/_multilayer_perceptron.py:1599: DataConversionWarning: A column-vector y was passed when a 1d array was expected. Please change the shape of y to (n_samples, ), for example using ravel().\n",
      "  y = column_or_1d(y, warn=True)\n"
     ]
    },
    {
     "data": {
      "image/png": "[encoded data removed]",
      "text/plain": [
       "<Figure size 1440x720 with 1 Axes>"
      ]
     },
     "metadata": {
      "image/png": {
       "height": 589,
       "width": 1167
      },
      "needs_background": "light"
     },
     "output_type": "display_data"
    },
    {
     "name": "stdout",
     "output_type": "stream",
     "text": [
      "R2 Score: 0.129591562\n",
      "Explained Variance Score: 0.254986662\n",
      "MSE: 0.061044776\n",
      "MAE: 0.208257970\n"
     ]
    }
   ],
   "source": [
    "# optimizing MLP hyperparameter\n",
    "nn = MLPRegressor(\n",
    "    hidden_layer_sizes=(10,10,10,10,10,10), \n",
    "    batch_size=32,\n",
    "    activation='relu',\n",
    "    solver='lbfgs', #lbfgs, sgd, adam\n",
    "    random_state=0,\n",
    ").fit(X_train, y_train)\n",
    "y_pred = nn.predict(X_val)\n",
    "print(f'Model: {nn}')\n",
    "print(f'Predictions: {y_pred.shape}')\n",
    "\n",
    "# plot\n",
    "plot_preds(y_pred, y_val)\n",
    "r2, ev, mse, mae = calc_metrics(y_pred, y_val)\n",
    "print(f'R2 Score: {r2:.9f}')\n",
    "print(f'Explained Variance Score: {ev:.9f}')\n",
    "print(f'MSE: {mse:.9f}')\n",
    "print(f'MAE: {mae:.9f}')\n",
    "# Update overall results, if we haven't already:\n",
    "if 'AdvancedNN' not in experiments:\n",
    "    experiments.extend(['AdvancedNN']*4)\n",
    "    metric_names.extend(['R2', 'Explained Variance', 'MSE', 'MAE'])\n",
    "    metric_vals.extend([r2, ev, mse, mae])"
   ]
  },
  {
   "cell_type": "code",
   "execution_count": 11,
   "metadata": {
    "cell_id": "5eea4862b0244365919f492a8720ceb6",
    "deepnote_cell_height": 1354.125,
    "deepnote_cell_type": "code",
    "deepnote_output_heights": [
     320.3125
    ],
    "deepnote_to_be_reexecuted": false,
    "execution_millis": 817,
    "execution_start": 1650847897752,
    "source_hash": "fabeee8d",
    "tags": []
   },
   "outputs": [
    {
     "data": {
      "image/png": "[encoded data removed]",
      "text/plain": [
       "<Figure size 1008x432 with 2 Axes>"
      ]
     },
     "metadata": {
      "image/png": {
       "height": 424,
       "width": 999
      },
      "needs_background": "light"
     },
     "output_type": "display_data"
    },
    {
     "name": "stdout",
     "output_type": "stream",
     "text": [
      "                    Experiment              Metric     Value\n",
      "0             LassoLinearModel                  R2  0.110572\n",
      "1             LassoLinearModel  Explained Variance  0.233808\n",
      "2             LassoLinearModel                 MSE  0.062379\n",
      "3             LassoLinearModel                 MAE  0.211245\n",
      "4   PolynomialLassoLinearModel                  R2  0.102145\n",
      "5   PolynomialLassoLinearModel  Explained Variance  0.227468\n",
      "6   PolynomialLassoLinearModel                 MSE  0.062970\n",
      "7   PolynomialLassoLinearModel                 MAE  0.212457\n",
      "8            RandomForestModel                  R2  0.104763\n",
      "9            RandomForestModel  Explained Variance  0.109799\n",
      "10           RandomForestModel                 MSE  0.062786\n",
      "11           RandomForestModel                 MAE  0.198781\n",
      "12                  AdvancedNN                  R2  0.129592\n",
      "13                  AdvancedNN  Explained Variance  0.254987\n",
      "14                  AdvancedNN                 MSE  0.061045\n",
      "15                  AdvancedNN                 MAE  0.208258\n"
     ]
    }
   ],
   "source": [
    "# comparing models\n",
    "df_res = pd.DataFrame()\n",
    "df_res['Experiment'] = experiments\n",
    "df_res['Metric'] = metric_names\n",
    "df_res['Value'] = metric_vals\n",
    "#df_res.head()\n",
    "\n",
    "# barplot metrics and errors\n",
    "fig, axes = plt.subplots(2, 1, figsize=(14, 6))\n",
    "sns.barplot(\n",
    "    data=df_res[df_res.Metric.isin(['R2', 'Explained Variance'])],\n",
    "    orient='h',\n",
    "    x='Value',\n",
    "    y='Experiment',\n",
    "    hue='Metric',\n",
    "    ax=axes[0]\n",
    ")\n",
    "axes[0].set_title('Metrics (higher is better)')\n",
    "axes[0].legend(bbox_to_anchor=(1.01, 1), loc='upper left', borderaxespad=0.)\n",
    "sns.barplot(\n",
    "    data=df_res[~df_res.Metric.isin(['R2', 'Explained Variance'])],\n",
    "    orient='h',\n",
    "    x='Value',\n",
    "    y='Experiment',\n",
    "    hue='Metric',\n",
    "    ax=axes[1],\n",
    ")\n",
    "axes[1].set_title('Errors (lower is better)')\n",
    "axes[1].legend(bbox_to_anchor=(1.01, 1), loc='upper left', borderaxespad=0.)\n",
    "plt.tight_layout()\n",
    "plt.show()\n",
    "\n",
    "print(df_res)"
   ]
  },
  {
   "cell_type": "code",
   "execution_count": 11,
   "metadata": {
    "cell_id": "fc3d5ed88cee485a94b071889397b26c",
    "deepnote_cell_height": 81,
    "deepnote_cell_type": "code",
    "deepnote_to_be_reexecuted": false,
    "execution_millis": 4,
    "execution_start": 1650847898268,
    "source_hash": "b623e53d",
    "tags": []
   },
   "outputs": [],
   "source": []
  }
 ],
 "metadata": {
  "deepnote": {},
  "deepnote_execution_queue": [],
  "deepnote_notebook_id": "249c0a95-e94d-49fa-9fab-50baa42c0878",
  "kernelspec": {
   "display_name": "Python 3 (ipykernel)",
   "language": "python",
   "name": "python3"
  },
  "language_info": {
   "codemirror_mode": {
    "name": "ipython",
    "version": 3
   },
   "file_extension": ".py",
   "mimetype": "text/x-python",
   "name": "python",
   "nbconvert_exporter": "python",
   "pygments_lexer": "ipython3",
   "version": "3.9.12"
  }
 },
 "nbformat": 4,
 "nbformat_minor": 4
}
