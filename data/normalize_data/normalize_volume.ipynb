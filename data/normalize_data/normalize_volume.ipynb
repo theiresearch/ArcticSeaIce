{
 "cells": [
  {
   "cell_type": "markdown",
   "source": "# Import dat dataset",
   "metadata": {
    "cell_id": "ff2608ada94c43ae854687a9eef7e8d1",
    "tags": [],
    "is_collapsed": false,
    "deepnote_cell_type": "text-cell-h1"
   }
  },
  {
   "cell_type": "code",
   "metadata": {
    "tags": [],
    "cell_id": "e15b015e-f6f5-4cd8-a9b1-b59de45bfff2",
    "deepnote_to_be_reexecuted": false,
    "source_hash": "aa146a01",
    "execution_start": 1650822534673,
    "execution_millis": 78,
    "deepnote_cell_type": "code",
    "deepnote_cell_height": 323.25
   },
   "source": "import pandas as pd\ndf = pd.read_fwf(\"/work/ArcticSeaIce/arctic_volumn.dat\", header=[0])\n\nprint(df.describe())",
   "execution_count": 1,
   "outputs": [
    {
     "name": "stdout",
     "text": "               Year          #day           Vol\ncount  15785.000000  15785.000000  15785.000000\nmean    2000.125436    182.216028     19.121821\nstd       12.485018    105.595628      7.212527\nmin     1979.000000      1.000000      3.673000\n25%     1989.000000     90.000000     13.926000\n50%     2000.000000    182.000000     19.467000\n75%     2011.000000    274.000000     24.880000\nmax     2022.000000    365.000000     33.035000\n",
     "output_type": "stream"
    }
   ]
  },
  {
   "cell_type": "markdown",
   "source": "# Delete extra data ",
   "metadata": {
    "cell_id": "3c98a7f45f0b4b6babdc9e0660f70185",
    "tags": [],
    "is_collapsed": false,
    "deepnote_cell_type": "text-cell-h1"
   }
  },
  {
   "cell_type": "code",
   "source": "dropYears = df[(df['Year']>=2021) | (df['Year']==1979)].index\ndf.drop(dropYears, inplace=True)\n\ndropFiveDays = df[(df['#day']>=361)].index\ndf.drop(dropFiveDays, inplace=True)\n\nprint(df.describe())\nprint(df)",
   "metadata": {
    "cell_id": "c3036b0e52f146e0b750b9e419f3b269",
    "tags": [],
    "deepnote_to_be_reexecuted": false,
    "source_hash": "4167e135",
    "execution_start": 1650822534796,
    "execution_millis": 2,
    "deepnote_cell_type": "code",
    "deepnote_cell_height": 670.984375
   },
   "outputs": [
    {
     "name": "stdout",
     "text": "              Year          #day           Vol\ncount  14760.00000  14760.000000  14760.000000\nmean    2000.00000    180.500000     19.096012\nstd       11.83256    103.926168      7.201759\nmin     1980.00000      1.000000      3.673000\n25%     1990.00000     90.750000     13.832000\n50%     2000.00000    180.500000     19.444500\n75%     2010.00000    270.250000     24.989000\nmax     2020.00000    360.000000     32.385000\n       Year  #day     Vol\n365    1980     1  25.039\n366    1980     2  25.147\n367    1980     3  25.260\n368    1980     4  25.360\n369    1980     5  25.467\n...     ...   ...     ...\n15320  2020   356  12.818\n15321  2020   357  12.996\n15322  2020   358  13.134\n15323  2020   359  13.268\n15324  2020   360  13.385\n\n[14760 rows x 3 columns]\n",
     "output_type": "stream"
    }
   ],
   "execution_count": 2
  },
  {
   "cell_type": "markdown",
   "source": "# Calculate monthly average volumn",
   "metadata": {
    "cell_id": "aa7cd56335704bcf972555952360dfe7",
    "tags": [],
    "is_collapsed": false,
    "deepnote_cell_type": "text-cell-h1"
   }
  },
  {
   "cell_type": "code",
   "source": "#Year = df['Year']\n#Day = df['#day']\nVol = df['Vol']\n\nnew_year = sorted([i for i in range(1980,2021)] * 12)\nnew_month = [i for i in range(1,13)] * 41\nnew_arctic_volum = []\n\nsum_volum = 0\nstep=30\nfor i in range(0,len(Vol),step):\n    #print(Vol[i:i+step])\n    sum_volum = sum(Vol[i:i+step])/step # sum every 'step=30' Vol values\n    new_arctic_volum.append(sum_volum)\n",
   "metadata": {
    "cell_id": "125d643fdc3a4f17a3ebfe3053f8d976",
    "tags": [],
    "deepnote_to_be_reexecuted": false,
    "source_hash": "d2ae13b0",
    "execution_start": 1650822534841,
    "execution_millis": 0,
    "deepnote_cell_type": "code",
    "deepnote_cell_height": 333
   },
   "outputs": [],
   "execution_count": 3
  },
  {
   "cell_type": "markdown",
   "source": "# Zip to dataframe",
   "metadata": {
    "cell_id": "8868d2741d0948cf80d1e7329d2238d3",
    "tags": [],
    "is_collapsed": false,
    "deepnote_cell_type": "text-cell-h1"
   }
  },
  {
   "cell_type": "code",
   "source": "d = {'Year': new_year, 'Month': new_month, 'ArcticIceVolum': new_arctic_volum}\nvolumn = pd.DataFrame(data=d)\n# drop last 2 months\nvolumn = volumn.iloc[:-2]\nprint(volumn)",
   "metadata": {
    "cell_id": "4efcc0ff4e73485d9f68623dc8a45614",
    "tags": [],
    "deepnote_to_be_reexecuted": false,
    "source_hash": "54174b8a",
    "execution_start": 1650822767558,
    "execution_millis": 172,
    "deepnote_cell_type": "code",
    "deepnote_cell_height": 439.734375
   },
   "outputs": [
    {
     "name": "stdout",
     "text": "     Year  Month  ArcticIceVolum\n0    1980      1       26.530267\n1    1980      2       29.191200\n2    1980      3       31.182000\n3    1980      4       32.243933\n4    1980      5       31.815800\n..    ...    ...             ...\n485  2020      6       16.790300\n486  2020      7        9.490367\n487  2020      8        5.454867\n488  2020      9        4.172400\n489  2020     10        4.786733\n\n[490 rows x 3 columns]\n",
     "output_type": "stream"
    }
   ],
   "execution_count": 7
  },
  {
   "cell_type": "markdown",
   "source": "# Normalizing the data",
   "metadata": {
    "cell_id": "564475463dbf4fe2b08f987136584c10",
    "tags": [],
    "is_collapsed": false,
    "deepnote_cell_type": "text-cell-h1"
   }
  },
  {
   "cell_type": "code",
   "source": "unnormalized_volumn = volumn['ArcticIceVolum']\n#print(unnormalized_volumn)\n\nunnormalized_volumn_max, unnormalized_volumn_min = unnormalized_volumn.max(), unnormalized_volumn.min()\nnormalized_volumn = (unnormalized_volumn-unnormalized_volumn_min)/(unnormalized_volumn_max-unnormalized_volumn_min)\nprint(normalized_volumn.describe())",
   "metadata": {
    "cell_id": "c3a43671018f49029f533c602a6965d0",
    "tags": [],
    "deepnote_to_be_reexecuted": false,
    "source_hash": "b13eec29",
    "execution_start": 1650823296940,
    "execution_millis": 13,
    "deepnote_cell_type": "code",
    "deepnote_cell_height": 359.25
   },
   "outputs": [
    {
     "name": "stdout",
     "text": "count    490.000000\nmean       0.539257\nstd        0.250732\nmin        0.000000\n25%        0.353139\n50%        0.552475\n75%        0.743685\nmax        1.000000\nName: ArcticIceVolum, dtype: float64\n",
     "output_type": "stream"
    }
   ],
   "execution_count": 10
  },
  {
   "cell_type": "markdown",
   "source": "# Merging new norm-ed data to dataframe",
   "metadata": {
    "cell_id": "e818c1a48f1a4922b32e0d0afa985c40",
    "tags": [],
    "is_collapsed": false,
    "deepnote_cell_type": "text-cell-h1"
   }
  },
  {
   "cell_type": "code",
   "source": "volumn['ArcticIceVolum'] = normalized_volumn\nprint(volumn)",
   "metadata": {
    "cell_id": "e783086824b340cfbb3d4f96a43a2864",
    "tags": [],
    "deepnote_to_be_reexecuted": false,
    "source_hash": "be84abba",
    "execution_start": 1650823346649,
    "execution_millis": 8,
    "deepnote_cell_type": "code",
    "deepnote_cell_height": 385.734375
   },
   "outputs": [
    {
     "name": "stdout",
     "text": "     Year  Month  ArcticIceVolum\n0    1980      1        0.799170\n1    1980      2        0.892699\n2    1980      3        0.962674\n3    1980      4        1.000000\n4    1980      5        0.984952\n..    ...    ...             ...\n485  2020      6        0.456819\n486  2020      7        0.200234\n487  2020      8        0.058390\n488  2020      9        0.013312\n489  2020     10        0.034905\n\n[490 rows x 3 columns]\n",
     "output_type": "stream"
    }
   ],
   "execution_count": 11
  },
  {
   "cell_type": "markdown",
   "source": "# to csv",
   "metadata": {
    "cell_id": "aaf70e6d5fd34cb59b8f4e174081b940",
    "tags": [],
    "is_collapsed": false,
    "deepnote_cell_type": "text-cell-h1"
   }
  },
  {
   "cell_type": "code",
   "source": "#volumn.to_csv('normalized_volumn.csv', index=False)",
   "metadata": {
    "cell_id": "03d5164e8cc84f9cb94674f467a5db0a",
    "tags": [],
    "owner_user_id": "7d6f594a-5bfd-498b-8b9b-b37a15193fbe",
    "deepnote_to_be_reexecuted": false,
    "source_hash": "9e9638d8",
    "execution_start": 1650823490717,
    "execution_millis": 7,
    "deepnote_cell_type": "code",
    "deepnote_cell_height": 81
   },
   "outputs": [],
   "execution_count": 12
  },
  {
   "cell_type": "markdown",
   "source": "<a style='text-decoration:none;line-height:16px;display:flex;color:#5B5B62;padding:10px;justify-content:end;' href='https://deepnote.com?utm_source=created-in-deepnote-cell&projectId=9fa1dc93-89c0-49df-a5a0-1b6182352f09' target=\"_blank\">\n<img alt='Created in deepnote.com' style='display:inline;max-height:16px;margin:0px;margin-right:7.5px;' src='data:image/svg+xml;base64,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' > </img>\nCreated in <span style='font-weight:600;margin-left:4px;'>Deepnote</span></a>",
   "metadata": {
    "tags": [],
    "created_in_deepnote_cell": true,
    "deepnote_cell_type": "markdown"
   }
  }
 ],
 "nbformat": 4,
 "nbformat_minor": 2,
 "metadata": {
  "orig_nbformat": 2,
  "deepnote": {},
  "deepnote_notebook_id": "bc7bc2d4-bb49-4f00-bebc-bf7ac081eed9",
  "deepnote_execution_queue": []
 }
}