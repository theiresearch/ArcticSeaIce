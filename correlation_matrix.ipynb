{
 "cells": [
  {
   "cell_type": "code",
   "metadata": {
    "tags": [],
    "cell_id": "abb11577-bc88-4cf6-8794-15a065311d41",
    "deepnote_to_be_reexecuted": false,
    "source_hash": "68301009",
    "execution_start": 1650471768765,
    "execution_millis": 1012,
    "deepnote_cell_type": "code",
    "deepnote_cell_height": 135
   },
   "source": "import pandas as pd\nimport numpy as np\nimport seaborn as sns\nimport matplotlib.pyplot as plt",
   "execution_count": null,
   "outputs": []
  },
  {
   "cell_type": "code",
   "metadata": {
    "cell_id": "bdfd7d476fb74bc5a7aafd5fb44bb066",
    "tags": [],
    "deepnote_to_be_reexecuted": false,
    "source_hash": "4cea075b",
    "execution_start": 1650471769784,
    "execution_millis": 48,
    "deepnote_cell_type": "code",
    "deepnote_cell_height": 618,
    "deepnote_output_heights": [
     606.5
    ]
   },
   "source": "arctic = pd.read_csv(\"/work/arctic_data.csv\",usecols=[4,5,6,7,8,9,10,11,12,13,14,15])\narctic.corr()",
   "execution_count": null,
   "outputs": [
    {
     "output_type": "execute_result",
     "execution_count": 2,
     "data": {
      "application/vnd.deepnote.dataframe.v3+json": {
       "column_count": 12,
       "row_count": 12,
       "columns": [
        {
         "name": "Extent",
         "dtype": "float64",
         "stats": {
          "unique_count": 12,
          "nan_count": 0,
          "min": "-0.6865340642825525",
          "max": "1.0",
          "histogram": [
           {
            "bin_start": -0.6865340642825525,
            "bin_end": -0.5178806578542972,
            "count": 4
           },
           {
            "bin_start": -0.5178806578542972,
            "bin_end": -0.34922725142604194,
            "count": 0
           },
           {
            "bin_start": -0.34922725142604194,
            "bin_end": -0.18057384499778661,
            "count": 4
           },
           {
            "bin_start": -0.18057384499778661,
            "bin_end": -0.0119204385695314,
            "count": 1
           },
           {
            "bin_start": -0.0119204385695314,
            "bin_end": 0.15673296785872382,
            "count": 1
           },
           {
            "bin_start": 0.15673296785872382,
            "bin_end": 0.32538637428697925,
            "count": 0
           },
           {
            "bin_start": 0.32538637428697925,
            "bin_end": 0.49403978071523447,
            "count": 0
           },
           {
            "bin_start": 0.49403978071523447,
            "bin_end": 0.6626931871434897,
            "count": 0
           },
           {
            "bin_start": 0.6626931871434897,
            "bin_end": 0.8313465935717449,
            "count": 0
           },
           {
            "bin_start": 0.8313465935717449,
            "bin_end": 1,
            "count": 2
           }
          ]
         }
        },
        {
         "name": "Rainfall",
         "dtype": "float64",
         "stats": {
          "unique_count": 12,
          "nan_count": 0,
          "min": "-0.6759549741380112",
          "max": "1.0",
          "histogram": [
           {
            "bin_start": -0.6759549741380112,
            "bin_end": -0.5083594767242101,
            "count": 2
           },
           {
            "bin_start": -0.5083594767242101,
            "bin_end": -0.34076397931040897,
            "count": 0
           },
           {
            "bin_start": -0.34076397931040897,
            "bin_end": -0.17316848189660783,
            "count": 1
           },
           {
            "bin_start": -0.17316848189660783,
            "bin_end": -0.005572984482806742,
            "count": 1
           },
           {
            "bin_start": -0.005572984482806742,
            "bin_end": 0.16202251293099434,
            "count": 3
           },
           {
            "bin_start": 0.16202251293099434,
            "bin_end": 0.32961801034479554,
            "count": 0
           },
           {
            "bin_start": 0.32961801034479554,
            "bin_end": 0.4972135077585965,
            "count": 0
           },
           {
            "bin_start": 0.4972135077585965,
            "bin_end": 0.6648090051723977,
            "count": 1
           },
           {
            "bin_start": 0.6648090051723977,
            "bin_end": 0.8324045025861989,
            "count": 0
           },
           {
            "bin_start": 0.8324045025861989,
            "bin_end": 1,
            "count": 4
           }
          ]
         }
        },
        {
         "name": "Daylight",
         "dtype": "float64",
         "stats": {
          "unique_count": 12,
          "nan_count": 0,
          "min": "-0.22011143148026316",
          "max": "1.0",
          "histogram": [
           {
            "bin_start": -0.22011143148026316,
            "bin_end": -0.09810028833223683,
            "count": 2
           },
           {
            "bin_start": -0.09810028833223683,
            "bin_end": 0.0239108548157895,
            "count": 3
           },
           {
            "bin_start": 0.0239108548157895,
            "bin_end": 0.14592199796381586,
            "count": 2
           },
           {
            "bin_start": 0.14592199796381586,
            "bin_end": 0.2679331411118422,
            "count": 0
           },
           {
            "bin_start": 0.2679331411118422,
            "bin_end": 0.3899442842598685,
            "count": 0
           },
           {
            "bin_start": 0.3899442842598685,
            "bin_end": 0.5119554274078949,
            "count": 0
           },
           {
            "bin_start": 0.5119554274078949,
            "bin_end": 0.6339665705559212,
            "count": 1
           },
           {
            "bin_start": 0.6339665705559212,
            "bin_end": 0.7559777137039475,
            "count": 0
           },
           {
            "bin_start": 0.7559777137039475,
            "bin_end": 0.8779888568519739,
            "count": 3
           },
           {
            "bin_start": 0.8779888568519739,
            "bin_end": 1,
            "count": 1
           }
          ]
         }
        },
        {
         "name": "Population",
         "dtype": "float64",
         "stats": {
          "unique_count": 12,
          "nan_count": 0,
          "min": "-0.21970034428817944",
          "max": "1.0",
          "histogram": [
           {
            "bin_start": -0.21970034428817944,
            "bin_end": -0.09773030985936149,
            "count": 1
           },
           {
            "bin_start": -0.09773030985936149,
            "bin_end": 0.024239724569456472,
            "count": 3
           },
           {
            "bin_start": 0.024239724569456472,
            "bin_end": 0.14620975899827446,
            "count": 3
           },
           {
            "bin_start": 0.14620975899827446,
            "bin_end": 0.2681797934270924,
            "count": 0
           },
           {
            "bin_start": 0.2681797934270924,
            "bin_end": 0.39014982785591035,
            "count": 0
           },
           {
            "bin_start": 0.39014982785591035,
            "bin_end": 0.5121198622847284,
            "count": 0
           },
           {
            "bin_start": 0.5121198622847284,
            "bin_end": 0.6340898967135463,
            "count": 0
           },
           {
            "bin_start": 0.6340898967135463,
            "bin_end": 0.7560599311423642,
            "count": 1
           },
           {
            "bin_start": 0.7560599311423642,
            "bin_end": 0.8780299655711822,
            "count": 1
           },
           {
            "bin_start": 0.8780299655711822,
            "bin_end": 1,
            "count": 3
           }
          ]
         }
        },
        {
         "name": "CO2",
         "dtype": "float64",
         "stats": {
          "unique_count": 12,
          "nan_count": 0,
          "min": "-0.15033494048746995",
          "max": "1.0",
          "histogram": [
           {
            "bin_start": -0.15033494048746995,
            "bin_end": -0.03530144643872296,
            "count": 1
           },
           {
            "bin_start": -0.03530144643872296,
            "bin_end": 0.07973204761002403,
            "count": 4
           },
           {
            "bin_start": 0.07973204761002403,
            "bin_end": 0.19476554165877105,
            "count": 2
           },
           {
            "bin_start": 0.19476554165877105,
            "bin_end": 0.309799035707518,
            "count": 0
           },
           {
            "bin_start": 0.309799035707518,
            "bin_end": 0.42483252975626495,
            "count": 0
           },
           {
            "bin_start": 0.42483252975626495,
            "bin_end": 0.539866023805012,
            "count": 0
           },
           {
            "bin_start": 0.539866023805012,
            "bin_end": 0.654899517853759,
            "count": 0
           },
           {
            "bin_start": 0.654899517853759,
            "bin_end": 0.769933011902506,
            "count": 1
           },
           {
            "bin_start": 0.769933011902506,
            "bin_end": 0.8849665059512529,
            "count": 1
           },
           {
            "bin_start": 0.8849665059512529,
            "bin_end": 1,
            "count": 3
           }
          ]
         }
        },
        {
         "name": "Ozone",
         "dtype": "float64",
         "stats": {
          "unique_count": 12,
          "nan_count": 0,
          "min": "-0.6013550000837682",
          "max": "1.0",
          "histogram": [
           {
            "bin_start": -0.6013550000837682,
            "bin_end": -0.44121950007539135,
            "count": 4
           },
           {
            "bin_start": -0.44121950007539135,
            "bin_end": -0.28108400006701456,
            "count": 0
           },
           {
            "bin_start": -0.28108400006701456,
            "bin_end": -0.12094850005863778,
            "count": 1
           },
           {
            "bin_start": -0.12094850005863778,
            "bin_end": 0.039186999949739065,
            "count": 4
           },
           {
            "bin_start": 0.039186999949739065,
            "bin_end": 0.1993224999581159,
            "count": 1
           },
           {
            "bin_start": 0.1993224999581159,
            "bin_end": 0.35945799996649264,
            "count": 0
           },
           {
            "bin_start": 0.35945799996649264,
            "bin_end": 0.5195934999748695,
            "count": 0
           },
           {
            "bin_start": 0.5195934999748695,
            "bin_end": 0.6797289999832463,
            "count": 0
           },
           {
            "bin_start": 0.6797289999832463,
            "bin_end": 0.8398644999916232,
            "count": 0
           },
           {
            "bin_start": 0.8398644999916232,
            "bin_end": 1,
            "count": 2
           }
          ]
         }
        },
        {
         "name": "OceanTemperature_NorthernHemisphere",
         "dtype": "float64",
         "stats": {
          "unique_count": 12,
          "nan_count": 0,
          "min": "-0.3229810472499555",
          "max": "1.0",
          "histogram": [
           {
            "bin_start": -0.3229810472499555,
            "bin_end": -0.19068294252496,
            "count": 1
           },
           {
            "bin_start": -0.19068294252496,
            "bin_end": -0.05838483779996445,
            "count": 1
           },
           {
            "bin_start": -0.05838483779996445,
            "bin_end": 0.07391326692503108,
            "count": 0
           },
           {
            "bin_start": 0.07391326692503108,
            "bin_end": 0.20621137165002662,
            "count": 2
           },
           {
            "bin_start": 0.20621137165002662,
            "bin_end": 0.3385094763750222,
            "count": 3
           },
           {
            "bin_start": 0.3385094763750222,
            "bin_end": 0.4708075811000177,
            "count": 0
           },
           {
            "bin_start": 0.4708075811000177,
            "bin_end": 0.6031056858250132,
            "count": 0
           },
           {
            "bin_start": 0.6031056858250132,
            "bin_end": 0.7354037905500088,
            "count": 1
           },
           {
            "bin_start": 0.7354037905500088,
            "bin_end": 0.8677018952750044,
            "count": 1
           },
           {
            "bin_start": 0.8677018952750044,
            "bin_end": 1,
            "count": 3
           }
          ]
         }
        },
        {
         "name": "LandTemperature_NorthernHemisphere",
         "dtype": "float64",
         "stats": {
          "unique_count": 12,
          "nan_count": 0,
          "min": "-0.2085298420642659",
          "max": "1.0",
          "histogram": [
           {
            "bin_start": -0.2085298420642659,
            "bin_end": -0.08767685785783931,
            "count": 5
           },
           {
            "bin_start": -0.08767685785783931,
            "bin_end": 0.03317612634858727,
            "count": 0
           },
           {
            "bin_start": 0.03317612634858727,
            "bin_end": 0.15402911055501384,
            "count": 1
           },
           {
            "bin_start": 0.15402911055501384,
            "bin_end": 0.27488209476144043,
            "count": 1
           },
           {
            "bin_start": 0.27488209476144043,
            "bin_end": 0.395735078967867,
            "count": 0
           },
           {
            "bin_start": 0.395735078967867,
            "bin_end": 0.5165880631742936,
            "count": 0
           },
           {
            "bin_start": 0.5165880631742936,
            "bin_end": 0.6374410473807202,
            "count": 0
           },
           {
            "bin_start": 0.6374410473807202,
            "bin_end": 0.7582940315871467,
            "count": 4
           },
           {
            "bin_start": 0.7582940315871467,
            "bin_end": 0.8791470157935735,
            "count": 0
           },
           {
            "bin_start": 0.8791470157935735,
            "bin_end": 1,
            "count": 1
           }
          ]
         }
        },
        {
         "name": "MaxTemperature_NorthSlopeAlaska",
         "dtype": "float64",
         "stats": {
          "unique_count": 12,
          "nan_count": 0,
          "min": "-0.6367659879082996",
          "max": "1.0",
          "histogram": [
           {
            "bin_start": -0.6367659879082996,
            "bin_end": -0.47308938911746967,
            "count": 1
           },
           {
            "bin_start": -0.47308938911746967,
            "bin_end": -0.3094127903266397,
            "count": 1
           },
           {
            "bin_start": -0.3094127903266397,
            "bin_end": -0.14573619153580974,
            "count": 1
           },
           {
            "bin_start": -0.14573619153580974,
            "bin_end": 0.01794040725502022,
            "count": 0
           },
           {
            "bin_start": 0.01794040725502022,
            "bin_end": 0.18161700604585018,
            "count": 3
           },
           {
            "bin_start": 0.18161700604585018,
            "bin_end": 0.34529360483668015,
            "count": 1
           },
           {
            "bin_start": 0.34529360483668015,
            "bin_end": 0.5089702036275101,
            "count": 0
           },
           {
            "bin_start": 0.5089702036275101,
            "bin_end": 0.6726468024183401,
            "count": 0
           },
           {
            "bin_start": 0.6726468024183401,
            "bin_end": 0.83632340120917,
            "count": 0
           },
           {
            "bin_start": 0.83632340120917,
            "bin_end": 1,
            "count": 5
           }
          ]
         }
        },
        {
         "name": "AvgTemperature_NorthSlopeAlaska",
         "dtype": "float64",
         "stats": {
          "unique_count": 12,
          "nan_count": 0,
          "min": "-0.6625369614335259",
          "max": "1.0",
          "histogram": [
           {
            "bin_start": -0.6625369614335259,
            "bin_end": -0.4962832652901733,
            "count": 1
           },
           {
            "bin_start": -0.4962832652901733,
            "bin_end": -0.33002956914682074,
            "count": 1
           },
           {
            "bin_start": -0.33002956914682074,
            "bin_end": -0.1637758730034682,
            "count": 0
           },
           {
            "bin_start": -0.1637758730034682,
            "bin_end": 0.0024778231398844275,
            "count": 1
           },
           {
            "bin_start": 0.0024778231398844275,
            "bin_end": 0.16873151928323704,
            "count": 3
           },
           {
            "bin_start": 0.16873151928323704,
            "bin_end": 0.33498521542658954,
            "count": 1
           },
           {
            "bin_start": 0.33498521542658954,
            "bin_end": 0.5012389115699423,
            "count": 0
           },
           {
            "bin_start": 0.5012389115699423,
            "bin_end": 0.6674926077132948,
            "count": 0
           },
           {
            "bin_start": 0.6674926077132948,
            "bin_end": 0.8337463038566473,
            "count": 1
           },
           {
            "bin_start": 0.8337463038566473,
            "bin_end": 1,
            "count": 4
           }
          ]
         }
        },
        {
         "name": "MinTemperature_NorthSlopeAlaska",
         "dtype": "float64",
         "stats": {
          "unique_count": 12,
          "nan_count": 0,
          "min": "-0.6865340642825525",
          "max": "1.0",
          "histogram": [
           {
            "bin_start": -0.6865340642825525,
            "bin_end": -0.5178806578542972,
            "count": 1
           },
           {
            "bin_start": -0.5178806578542972,
            "bin_end": -0.34922725142604194,
            "count": 1
           },
           {
            "bin_start": -0.34922725142604194,
            "bin_end": -0.18057384499778661,
            "count": 0
           },
           {
            "bin_start": -0.18057384499778661,
            "bin_end": -0.0119204385695314,
            "count": 1
           },
           {
            "bin_start": -0.0119204385695314,
            "bin_end": 0.15673296785872382,
            "count": 3
           },
           {
            "bin_start": 0.15673296785872382,
            "bin_end": 0.32538637428697925,
            "count": 1
           },
           {
            "bin_start": 0.32538637428697925,
            "bin_end": 0.49403978071523447,
            "count": 0
           },
           {
            "bin_start": 0.49403978071523447,
            "bin_end": 0.6626931871434897,
            "count": 0
           },
           {
            "bin_start": 0.6626931871434897,
            "bin_end": 0.8313465935717449,
            "count": 1
           },
           {
            "bin_start": 0.8313465935717449,
            "bin_end": 1,
            "count": 4
           }
          ]
         }
        },
        {
         "name": "GDP_WORLD",
         "dtype": "float64",
         "stats": {
          "unique_count": 12,
          "nan_count": 0,
          "min": "-0.2176323330411729",
          "max": "1.0",
          "histogram": [
           {
            "bin_start": -0.2176323330411729,
            "bin_end": -0.09586909973705562,
            "count": 1
           },
           {
            "bin_start": -0.09586909973705562,
            "bin_end": 0.02589413356706166,
            "count": 3
           },
           {
            "bin_start": 0.02589413356706166,
            "bin_end": 0.14765736687117892,
            "count": 3
           },
           {
            "bin_start": 0.14765736687117892,
            "bin_end": 0.26942060017529623,
            "count": 0
           },
           {
            "bin_start": 0.26942060017529623,
            "bin_end": 0.39118383347941355,
            "count": 0
           },
           {
            "bin_start": 0.39118383347941355,
            "bin_end": 0.5129470667835307,
            "count": 0
           },
           {
            "bin_start": 0.5129470667835307,
            "bin_end": 0.6347103000876481,
            "count": 0
           },
           {
            "bin_start": 0.6347103000876481,
            "bin_end": 0.7564735333917654,
            "count": 1
           },
           {
            "bin_start": 0.7564735333917654,
            "bin_end": 0.8782367666958826,
            "count": 1
           },
           {
            "bin_start": 0.8782367666958826,
            "bin_end": 1,
            "count": 3
           }
          ]
         }
        },
        {
         "name": "_deepnote_index_column",
         "dtype": "object"
        }
       ],
       "rows": [
        {
         "Extent": 1,
         "Rainfall": -0.6759549741380112,
         "Daylight": -0.22011143148026316,
         "Population": -0.21970034428817944,
         "CO2": -0.15033494048746995,
         "Ozone": 0.8611784317564144,
         "OceanTemperature_NorthernHemisphere": -0.3229810472499555,
         "LandTemperature_NorthernHemisphere": 0.10509687305307568,
         "MaxTemperature_NorthSlopeAlaska": -0.6367659879082996,
         "AvgTemperature_NorthSlopeAlaska": -0.6625369614335259,
         "MinTemperature_NorthSlopeAlaska": -0.6865340642825525,
         "GDP_WORLD": -0.2176323330411729,
         "_deepnote_index_column": "Extent"
        },
        {
         "Extent": -0.6759549741380112,
         "Rainfall": 1,
         "Daylight": 0.5908773037729246,
         "Population": 0.01135558322552314,
         "CO2": -0.007636405197655808,
         "Ozone": -0.6013550000837682,
         "OceanTemperature_NorthernHemisphere": 0.13559794456968718,
         "LandTemperature_NorthernHemisphere": -0.2085298420642659,
         "MaxTemperature_NorthSlopeAlaska": 0.8451246418079901,
         "AvgTemperature_NorthSlopeAlaska": 0.8469620583445151,
         "MinTemperature_NorthSlopeAlaska": 0.8464210358849108,
         "GDP_WORLD": 0.010007928123856197,
         "_deepnote_index_column": "Rainfall"
        },
        {
         "Extent": -0.22011143148026316,
         "Rainfall": 0.5908773037729246,
         "Daylight": 1,
         "Population": 0.005487933302763774,
         "CO2": 0.05291801539791332,
         "Ozone": -0.024092617755740148,
         "OceanTemperature_NorthernHemisphere": 0.09085335125922893,
         "LandTemperature_NorthernHemisphere": -0.10285605343558187,
         "MaxTemperature_NorthSlopeAlaska": 0.8421648334743296,
         "AvgTemperature_NorthSlopeAlaska": 0.8256367422593591,
         "MinTemperature_NorthSlopeAlaska": 0.8068617683075212,
         "GDP_WORLD": 0.005835723089386911,
         "_deepnote_index_column": "Daylight"
        },
        {
         "Extent": -0.21970034428817944,
         "Rainfall": 0.01135558322552314,
         "Daylight": 0.005487933302763774,
         "Population": 1,
         "CO2": 0.9894738221483016,
         "Ozone": -0.052450127052469604,
         "OceanTemperature_NorthernHemisphere": 0.8750798522788399,
         "LandTemperature_NorthernHemisphere": 0.6753708614837165,
         "MaxTemperature_NorthSlopeAlaska": 0.07574816059204131,
         "AvgTemperature_NorthSlopeAlaska": 0.08308150966360019,
         "MinTemperature_NorthSlopeAlaska": 0.09019257621330361,
         "GDP_WORLD": 0.9725236370897828,
         "_deepnote_index_column": "Population"
        },
        {
         "Extent": -0.15033494048746995,
         "Rainfall": -0.007636405197655808,
         "Daylight": 0.05291801539791332,
         "Population": 0.9894738221483016,
         "CO2": 1,
         "Ozone": 0.03269082740524456,
         "OceanTemperature_NorthernHemisphere": 0.8793454948823953,
         "LandTemperature_NorthernHemisphere": 0.6895212192143801,
         "MaxTemperature_NorthSlopeAlaska": 0.07724694445057811,
         "AvgTemperature_NorthSlopeAlaska": 0.08173775101368451,
         "MinTemperature_NorthSlopeAlaska": 0.08603051531988883,
         "GDP_WORLD": 0.9805676887705642,
         "_deepnote_index_column": "CO2"
        },
        {
         "Extent": 0.8611784317564144,
         "Rainfall": -0.6013550000837682,
         "Daylight": -0.024092617755740148,
         "Population": -0.052450127052469604,
         "CO2": 0.03269082740524456,
         "Ozone": 1,
         "OceanTemperature_NorthernHemisphere": -0.12864411485876145,
         "LandTemperature_NorthernHemisphere": 0.19462114181663415,
         "MaxTemperature_NorthSlopeAlaska": -0.4610989603794425,
         "AvgTemperature_NorthSlopeAlaska": -0.486107105589401,
         "MinTemperature_NorthSlopeAlaska": -0.5097567596647313,
         "GDP_WORLD": -0.03324159103979641,
         "_deepnote_index_column": "Ozone"
        },
        {
         "Extent": -0.3229810472499555,
         "Rainfall": 0.13559794456968718,
         "Daylight": 0.09085335125922893,
         "Population": 0.8750798522788399,
         "CO2": 0.8793454948823953,
         "Ozone": -0.12864411485876145,
         "OceanTemperature_NorthernHemisphere": 1,
         "LandTemperature_NorthernHemisphere": 0.6518894438093233,
         "MaxTemperature_NorthSlopeAlaska": 0.21133736108752094,
         "AvgTemperature_NorthSlopeAlaska": 0.22091451765108938,
         "MinTemperature_NorthSlopeAlaska": 0.22985740987447378,
         "GDP_WORLD": 0.8613979934968402,
         "_deepnote_index_column": "OceanTemperature_NorthernHemisphere"
        },
        {
         "Extent": 0.10509687305307568,
         "Rainfall": -0.2085298420642659,
         "Daylight": -0.10285605343558187,
         "Population": 0.6753708614837165,
         "CO2": 0.6895212192143801,
         "Ozone": 0.19462114181663415,
         "OceanTemperature_NorthernHemisphere": 0.6518894438093233,
         "LandTemperature_NorthernHemisphere": 1,
         "MaxTemperature_NorthSlopeAlaska": -0.1537010445400608,
         "AvgTemperature_NorthSlopeAlaska": -0.15230417575250635,
         "MinTemperature_NorthSlopeAlaska": -0.15049211852736394,
         "GDP_WORLD": 0.6503312824221393,
         "_deepnote_index_column": "LandTemperature_NorthernHemisphere"
        },
        {
         "Extent": -0.6367659879082996,
         "Rainfall": 0.8451246418079901,
         "Daylight": 0.8421648334743296,
         "Population": 0.07574816059204131,
         "CO2": 0.07724694445057811,
         "Ozone": -0.4610989603794425,
         "OceanTemperature_NorthernHemisphere": 0.21133736108752094,
         "LandTemperature_NorthernHemisphere": -0.1537010445400608,
         "MaxTemperature_NorthSlopeAlaska": 1,
         "AvgTemperature_NorthSlopeAlaska": 0.9986555159102021,
         "MinTemperature_NorthSlopeAlaska": 0.9946153464479092,
         "GDP_WORLD": 0.06910567729040974,
         "_deepnote_index_column": "MaxTemperature_NorthSlopeAlaska"
        },
        {
         "Extent": -0.6625369614335259,
         "Rainfall": 0.8469620583445151,
         "Daylight": 0.8256367422593591,
         "Population": 0.08308150966360019,
         "CO2": 0.08173775101368451,
         "Ozone": -0.486107105589401,
         "OceanTemperature_NorthernHemisphere": 0.22091451765108938,
         "LandTemperature_NorthernHemisphere": -0.15230417575250635,
         "MaxTemperature_NorthSlopeAlaska": 0.9986555159102021,
         "AvgTemperature_NorthSlopeAlaska": 1,
         "MinTemperature_NorthSlopeAlaska": 0.9986480040176124,
         "GDP_WORLD": 0.07651104441689104,
         "_deepnote_index_column": "AvgTemperature_NorthSlopeAlaska"
        }
       ]
      },
      "text/plain": "                                       Extent  Rainfall  Daylight  Population  \\\nExtent                               1.000000 -0.675955 -0.220111   -0.219700   \nRainfall                            -0.675955  1.000000  0.590877    0.011356   \nDaylight                            -0.220111  0.590877  1.000000    0.005488   \nPopulation                          -0.219700  0.011356  0.005488    1.000000   \nCO2                                 -0.150335 -0.007636  0.052918    0.989474   \nOzone                                0.861178 -0.601355 -0.024093   -0.052450   \nOceanTemperature_NorthernHemisphere -0.322981  0.135598  0.090853    0.875080   \nLandTemperature_NorthernHemisphere   0.105097 -0.208530 -0.102856    0.675371   \nMaxTemperature_NorthSlopeAlaska     -0.636766  0.845125  0.842165    0.075748   \nAvgTemperature_NorthSlopeAlaska     -0.662537  0.846962  0.825637    0.083082   \nMinTemperature_NorthSlopeAlaska     -0.686534  0.846421  0.806862    0.090193   \nGDP_WORLD                           -0.217632  0.010008  0.005836    0.972524   \n\n                                          CO2     Ozone  \\\nExtent                              -0.150335  0.861178   \nRainfall                            -0.007636 -0.601355   \nDaylight                             0.052918 -0.024093   \nPopulation                           0.989474 -0.052450   \nCO2                                  1.000000  0.032691   \nOzone                                0.032691  1.000000   \nOceanTemperature_NorthernHemisphere  0.879345 -0.128644   \nLandTemperature_NorthernHemisphere   0.689521  0.194621   \nMaxTemperature_NorthSlopeAlaska      0.077247 -0.461099   \nAvgTemperature_NorthSlopeAlaska      0.081738 -0.486107   \nMinTemperature_NorthSlopeAlaska      0.086031 -0.509757   \nGDP_WORLD                            0.980568 -0.033242   \n\n                                     OceanTemperature_NorthernHemisphere  \\\nExtent                                                         -0.322981   \nRainfall                                                        0.135598   \nDaylight                                                        0.090853   \nPopulation                                                      0.875080   \nCO2                                                             0.879345   \nOzone                                                          -0.128644   \nOceanTemperature_NorthernHemisphere                             1.000000   \nLandTemperature_NorthernHemisphere                              0.651889   \nMaxTemperature_NorthSlopeAlaska                                 0.211337   \nAvgTemperature_NorthSlopeAlaska                                 0.220915   \nMinTemperature_NorthSlopeAlaska                                 0.229857   \nGDP_WORLD                                                       0.861398   \n\n                                     LandTemperature_NorthernHemisphere  \\\nExtent                                                         0.105097   \nRainfall                                                      -0.208530   \nDaylight                                                      -0.102856   \nPopulation                                                     0.675371   \nCO2                                                            0.689521   \nOzone                                                          0.194621   \nOceanTemperature_NorthernHemisphere                            0.651889   \nLandTemperature_NorthernHemisphere                             1.000000   \nMaxTemperature_NorthSlopeAlaska                               -0.153701   \nAvgTemperature_NorthSlopeAlaska                               -0.152304   \nMinTemperature_NorthSlopeAlaska                               -0.150492   \nGDP_WORLD                                                      0.650331   \n\n                                     MaxTemperature_NorthSlopeAlaska  \\\nExtent                                                     -0.636766   \nRainfall                                                    0.845125   \nDaylight                                                    0.842165   \nPopulation                                                  0.075748   \nCO2                                                         0.077247   \nOzone                                                      -0.461099   \nOceanTemperature_NorthernHemisphere                         0.211337   \nLandTemperature_NorthernHemisphere                         -0.153701   \nMaxTemperature_NorthSlopeAlaska                             1.000000   \nAvgTemperature_NorthSlopeAlaska                             0.998656   \nMinTemperature_NorthSlopeAlaska                             0.994615   \nGDP_WORLD                                                   0.069106   \n\n                                     AvgTemperature_NorthSlopeAlaska  \\\nExtent                                                     -0.662537   \nRainfall                                                    0.846962   \nDaylight                                                    0.825637   \nPopulation                                                  0.083082   \nCO2                                                         0.081738   \nOzone                                                      -0.486107   \nOceanTemperature_NorthernHemisphere                         0.220915   \nLandTemperature_NorthernHemisphere                         -0.152304   \nMaxTemperature_NorthSlopeAlaska                             0.998656   \nAvgTemperature_NorthSlopeAlaska                             1.000000   \nMinTemperature_NorthSlopeAlaska                             0.998648   \nGDP_WORLD                                                   0.076511   \n\n                                     MinTemperature_NorthSlopeAlaska  \\\nExtent                                                     -0.686534   \nRainfall                                                    0.846421   \nDaylight                                                    0.806862   \nPopulation                                                  0.090193   \nCO2                                                         0.086031   \nOzone                                                      -0.509757   \nOceanTemperature_NorthernHemisphere                         0.229857   \nLandTemperature_NorthernHemisphere                         -0.150492   \nMaxTemperature_NorthSlopeAlaska                             0.994615   \nAvgTemperature_NorthSlopeAlaska                             0.998648   \nMinTemperature_NorthSlopeAlaska                             1.000000   \nGDP_WORLD                                                   0.083746   \n\n                                     GDP_WORLD  \nExtent                               -0.217632  \nRainfall                              0.010008  \nDaylight                              0.005836  \nPopulation                            0.972524  \nCO2                                   0.980568  \nOzone                                -0.033242  \nOceanTemperature_NorthernHemisphere   0.861398  \nLandTemperature_NorthernHemisphere    0.650331  \nMaxTemperature_NorthSlopeAlaska       0.069106  \nAvgTemperature_NorthSlopeAlaska       0.076511  \nMinTemperature_NorthSlopeAlaska       0.083746  \nGDP_WORLD                             1.000000  ",
      "text/html": "<div>\n<style scoped>\n    .dataframe tbody tr th:only-of-type {\n        vertical-align: middle;\n    }\n\n    .dataframe tbody tr th {\n        vertical-align: top;\n    }\n\n    .dataframe thead th {\n        text-align: right;\n    }\n</style>\n<table border=\"1\" class=\"dataframe\">\n  <thead>\n    <tr style=\"text-align: right;\">\n      <th></th>\n      <th>Extent</th>\n      <th>Rainfall</th>\n      <th>Daylight</th>\n      <th>Population</th>\n      <th>CO2</th>\n      <th>Ozone</th>\n      <th>OceanTemperature_NorthernHemisphere</th>\n      <th>LandTemperature_NorthernHemisphere</th>\n      <th>MaxTemperature_NorthSlopeAlaska</th>\n      <th>AvgTemperature_NorthSlopeAlaska</th>\n      <th>MinTemperature_NorthSlopeAlaska</th>\n      <th>GDP_WORLD</th>\n    </tr>\n  </thead>\n  <tbody>\n    <tr>\n      <th>Extent</th>\n      <td>1.000000</td>\n      <td>-0.675955</td>\n      <td>-0.220111</td>\n      <td>-0.219700</td>\n      <td>-0.150335</td>\n      <td>0.861178</td>\n      <td>-0.322981</td>\n      <td>0.105097</td>\n      <td>-0.636766</td>\n      <td>-0.662537</td>\n      <td>-0.686534</td>\n      <td>-0.217632</td>\n    </tr>\n    <tr>\n      <th>Rainfall</th>\n      <td>-0.675955</td>\n      <td>1.000000</td>\n      <td>0.590877</td>\n      <td>0.011356</td>\n      <td>-0.007636</td>\n      <td>-0.601355</td>\n      <td>0.135598</td>\n      <td>-0.208530</td>\n      <td>0.845125</td>\n      <td>0.846962</td>\n      <td>0.846421</td>\n      <td>0.010008</td>\n    </tr>\n    <tr>\n      <th>Daylight</th>\n      <td>-0.220111</td>\n      <td>0.590877</td>\n      <td>1.000000</td>\n      <td>0.005488</td>\n      <td>0.052918</td>\n      <td>-0.024093</td>\n      <td>0.090853</td>\n      <td>-0.102856</td>\n      <td>0.842165</td>\n      <td>0.825637</td>\n      <td>0.806862</td>\n      <td>0.005836</td>\n    </tr>\n    <tr>\n      <th>Population</th>\n      <td>-0.219700</td>\n      <td>0.011356</td>\n      <td>0.005488</td>\n      <td>1.000000</td>\n      <td>0.989474</td>\n      <td>-0.052450</td>\n      <td>0.875080</td>\n      <td>0.675371</td>\n      <td>0.075748</td>\n      <td>0.083082</td>\n      <td>0.090193</td>\n      <td>0.972524</td>\n    </tr>\n    <tr>\n      <th>CO2</th>\n      <td>-0.150335</td>\n      <td>-0.007636</td>\n      <td>0.052918</td>\n      <td>0.989474</td>\n      <td>1.000000</td>\n      <td>0.032691</td>\n      <td>0.879345</td>\n      <td>0.689521</td>\n      <td>0.077247</td>\n      <td>0.081738</td>\n      <td>0.086031</td>\n      <td>0.980568</td>\n    </tr>\n    <tr>\n      <th>Ozone</th>\n      <td>0.861178</td>\n      <td>-0.601355</td>\n      <td>-0.024093</td>\n      <td>-0.052450</td>\n      <td>0.032691</td>\n      <td>1.000000</td>\n      <td>-0.128644</td>\n      <td>0.194621</td>\n      <td>-0.461099</td>\n      <td>-0.486107</td>\n      <td>-0.509757</td>\n      <td>-0.033242</td>\n    </tr>\n    <tr>\n      <th>OceanTemperature_NorthernHemisphere</th>\n      <td>-0.322981</td>\n      <td>0.135598</td>\n      <td>0.090853</td>\n      <td>0.875080</td>\n      <td>0.879345</td>\n      <td>-0.128644</td>\n      <td>1.000000</td>\n      <td>0.651889</td>\n      <td>0.211337</td>\n      <td>0.220915</td>\n      <td>0.229857</td>\n      <td>0.861398</td>\n    </tr>\n    <tr>\n      <th>LandTemperature_NorthernHemisphere</th>\n      <td>0.105097</td>\n      <td>-0.208530</td>\n      <td>-0.102856</td>\n      <td>0.675371</td>\n      <td>0.689521</td>\n      <td>0.194621</td>\n      <td>0.651889</td>\n      <td>1.000000</td>\n      <td>-0.153701</td>\n      <td>-0.152304</td>\n      <td>-0.150492</td>\n      <td>0.650331</td>\n    </tr>\n    <tr>\n      <th>MaxTemperature_NorthSlopeAlaska</th>\n      <td>-0.636766</td>\n      <td>0.845125</td>\n      <td>0.842165</td>\n      <td>0.075748</td>\n      <td>0.077247</td>\n      <td>-0.461099</td>\n      <td>0.211337</td>\n      <td>-0.153701</td>\n      <td>1.000000</td>\n      <td>0.998656</td>\n      <td>0.994615</td>\n      <td>0.069106</td>\n    </tr>\n    <tr>\n      <th>AvgTemperature_NorthSlopeAlaska</th>\n      <td>-0.662537</td>\n      <td>0.846962</td>\n      <td>0.825637</td>\n      <td>0.083082</td>\n      <td>0.081738</td>\n      <td>-0.486107</td>\n      <td>0.220915</td>\n      <td>-0.152304</td>\n      <td>0.998656</td>\n      <td>1.000000</td>\n      <td>0.998648</td>\n      <td>0.076511</td>\n    </tr>\n    <tr>\n      <th>MinTemperature_NorthSlopeAlaska</th>\n      <td>-0.686534</td>\n      <td>0.846421</td>\n      <td>0.806862</td>\n      <td>0.090193</td>\n      <td>0.086031</td>\n      <td>-0.509757</td>\n      <td>0.229857</td>\n      <td>-0.150492</td>\n      <td>0.994615</td>\n      <td>0.998648</td>\n      <td>1.000000</td>\n      <td>0.083746</td>\n    </tr>\n    <tr>\n      <th>GDP_WORLD</th>\n      <td>-0.217632</td>\n      <td>0.010008</td>\n      <td>0.005836</td>\n      <td>0.972524</td>\n      <td>0.980568</td>\n      <td>-0.033242</td>\n      <td>0.861398</td>\n      <td>0.650331</td>\n      <td>0.069106</td>\n      <td>0.076511</td>\n      <td>0.083746</td>\n      <td>1.000000</td>\n    </tr>\n  </tbody>\n</table>\n</div>"
     },
     "metadata": {}
    }
   ]
  },
  {
   "cell_type": "code",
   "metadata": {
    "cell_id": "c1ecb94cc3b9459bac54724eddd47729",
    "tags": [],
    "deepnote_to_be_reexecuted": false,
    "source_hash": "897922fe",
    "execution_start": 1650471769833,
    "execution_millis": 1503,
    "owner_user_id": "7d6f594a-5bfd-498b-8b9b-b37a15193fbe",
    "deepnote_cell_type": "code",
    "deepnote_cell_height": 704.5625,
    "deepnote_output_heights": [
     21.1875,
     483.375
    ]
   },
   "source": "plt.figure(figsize=(16, 6))\nheatmap = sns.heatmap(arctic.corr(), vmin=-1, vmax=1, annot=True, cmap='coolwarm')\nheatmap.set_title('Correlation Heatmap', fontdict={'fontsize':18}, pad=12)\n\n#plt.savefig('heatmap.png', dpi=300, bbox_inches='tight')",
   "execution_count": null,
   "outputs": [
    {
     "output_type": "execute_result",
     "execution_count": 3,
     "data": {
      "text/plain": "Text(0.5, 1.0, 'Correlation Heatmap')"
     },
     "metadata": {}
    },
    {
     "data": {
      "text/plain": "<Figure size 1152x432 with 2 Axes>",
      "image/png": "[encoded data removed]"
     },
     "metadata": {
      "needs_background": "light",
      "image/png": {
       "width": 1038,
       "height": 577
      }
     },
     "output_type": "display_data"
    }
   ]
  },
  {
   "cell_type": "markdown",
   "source": "<a style='text-decoration:none;line-height:16px;display:flex;color:#5B5B62;padding:10px;justify-content:end;' href='https://deepnote.com?utm_source=created-in-deepnote-cell&projectId=1d31a8b7-0006-4d8f-97dd-39fc50dff4a7' target=\"_blank\">\n<img alt='Created in deepnote.com' style='display:inline;max-height:16px;margin:0px;margin-right:7.5px;' src='data:image/svg+xml;base64,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' > </img>\nCreated in <span style='font-weight:600;margin-left:4px;'>Deepnote</span></a>",
   "metadata": {
    "tags": [],
    "created_in_deepnote_cell": true,
    "deepnote_cell_type": "markdown"
   }
  }
 ],
 "nbformat": 4,
 "nbformat_minor": 2,
 "metadata": {
  "orig_nbformat": 2,
  "deepnote": {},
  "deepnote_notebook_id": "3a2d2a90-0e30-430d-a701-00ddad0a5242",
  "deepnote_execution_queue": []
 }
}