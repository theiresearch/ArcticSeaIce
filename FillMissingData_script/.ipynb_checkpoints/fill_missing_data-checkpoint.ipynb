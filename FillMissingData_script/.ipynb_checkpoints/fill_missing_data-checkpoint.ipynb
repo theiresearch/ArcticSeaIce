{
 "cells": [
  {
   "cell_type": "markdown",
   "metadata": {},
   "source": [
    "## Import libraries"
   ]
  },
  {
   "cell_type": "code",
   "execution_count": 1,
   "metadata": {},
   "outputs": [],
   "source": [
    "import numpy as np\n",
    "import pandas as pd\n",
    "import matplotlib.pyplot as plt"
   ]
  },
  {
   "cell_type": "markdown",
   "metadata": {},
   "source": [
    "## Read csv into pandas' dataframe"
   ]
  },
  {
   "cell_type": "code",
   "execution_count": 2,
   "metadata": {},
   "outputs": [
    {
     "name": "stdout",
     "output_type": "stream",
     "text": [
      "    YEAR   VALUE\n",
      "1   1980  279.46\n",
      "2   1981  278.16\n",
      "3   1982  276.46\n",
      "4   1983  280.94\n",
      "5   1984  294.42\n",
      "6   1985  302.23\n",
      "7   1986  308.88\n",
      "8   1987  319.66\n",
      "9   1988  331.88\n",
      "10  1989  338.31\n",
      "11  1990  342.23\n",
      "12  1991  344.63\n",
      "13  1992  347.22\n",
      "14  1993  349.63\n",
      "15  1994  354.11\n",
      "16  1995  361.52\n",
      "17  1996  372.13\n",
      "18  1997  375.67\n",
      "19  1998  378.02\n",
      "20  1999  384.85\n",
      "21  2000   394.5\n",
      "22  2001  398.45\n",
      "23  2002  407.18\n",
      "24  2003  421.74\n",
      "25  2004  442.23\n",
      "26  2005  457.08\n",
      "27  2006  470.14\n",
      "28  2007  484.67\n",
      "29  2008  490.23\n",
      "30  2009  482.82\n",
      "31  2010  506.02\n",
      "32  2011  518.31\n",
      "33  2012  524.98\n",
      "34  2013  534.91\n",
      "35  2014  539.25\n",
      "36  2015  543.17\n",
      "37  2016   550.6\n",
      "38  2017  560.42\n",
      "39  2018  576.23\n",
      "40  2019   583.9\n"
     ]
    }
   ],
   "source": [
    "CSV_DATA = pd.read_csv('ori.csv', names=[\"YEAR\", \"VALUE\"])\n",
    "CSV_DATA_drop = CSV_DATA.drop([0])\n",
    "print(CSV_DATA_drop)"
   ]
  },
  {
   "cell_type": "markdown",
   "metadata": {},
   "source": [
    "## Store column items in lists"
   ]
  },
  {
   "cell_type": "code",
   "execution_count": 3,
   "metadata": {},
   "outputs": [],
   "source": [
    "CSV_YEAR = [int(item) for item in CSV_DATA_drop.YEAR.to_list()]\n",
    "#print(CSV_YEAR)\n",
    "CSV_VALUE = [float(item) for item in CSV_DATA_drop.VALUE.to_list()]\n",
    "#print(CSV_VALUE)"
   ]
  },
  {
   "cell_type": "markdown",
   "metadata": {},
   "source": [
    "## Nominalization (let value[0] = 0)"
   ]
  },
  {
   "cell_type": "code",
   "execution_count": 4,
   "metadata": {},
   "outputs": [],
   "source": [
    "#print(type(CSV_YEAR[0]))"
   ]
  },
  {
   "cell_type": "code",
   "execution_count": 5,
   "metadata": {},
   "outputs": [
    {
     "name": "stdout",
     "output_type": "stream",
     "text": [
      "CSV_YEAR =  [1980, 1981, 1982, 1983, 1984, 1985, 1986, 1987, 1988, 1989, 1990, 1991, 1992, 1993, 1994, 1995, 1996, 1997, 1998, 1999, 2000, 2001, 2002, 2003, 2004, 2005, 2006, 2007, 2008, 2009, 2010, 2011, 2012, 2013, 2014, 2015, 2016, 2017, 2018, 2019]\n",
      "\n",
      "\n",
      "NOMINAL_VALUE =  [0.0, -1.3, -3.0, 1.48, 14.96, 22.77, 29.42, 40.2, 52.42, 58.85, 62.77, 65.17, 67.76, 70.17, 74.65, 82.06, 92.67, 96.21, 98.56, 105.39, 115.04, 118.99, 127.72, 142.28, 162.77, 177.62, 190.68, 205.21, 210.77, 203.36, 226.56, 238.85, 245.52, 255.45, 259.79, 263.71, 271.14, 280.96, 296.77, 304.44]\n"
     ]
    }
   ],
   "source": [
    "print(\"CSV_YEAR = \", CSV_YEAR)\n",
    "print(\"\\n\")\n",
    "NOMINAL_VALUE = [round(item-CSV_VALUE[0], 2) for item in CSV_VALUE]\n",
    "print(\"NOMINAL_VALUE = \", NOMINAL_VALUE)"
   ]
  },
  {
   "cell_type": "markdown",
   "metadata": {},
   "source": [
    "## Create new lists for final data sets"
   ]
  },
  {
   "cell_type": "code",
   "execution_count": 6,
   "metadata": {},
   "outputs": [],
   "source": [
    "Year = []\n",
    "Month = []\n",
    "Year_Month = []\n",
    "Value = []"
   ]
  },
  {
   "cell_type": "markdown",
   "metadata": {},
   "source": [
    "## Fill in missing data"
   ]
  },
  {
   "cell_type": "code",
   "execution_count": 7,
   "metadata": {},
   "outputs": [
    {
     "name": "stdout",
     "output_type": "stream",
     "text": [
      "Year 1980 ~ 1981 :\n",
      "0.0 => -1.3 (nominalized) ;\n",
      "Total difference: -1.3 ;\n",
      "Twelve months' average difference: -0.108 . \n",
      "\n",
      "Year 1981 ~ 1982 :\n",
      "-1.3 => -3.0 (nominalized) ;\n",
      "Total difference: -1.7 ;\n",
      "Twelve months' average difference: -0.142 . \n",
      "\n",
      "Year 1982 ~ 1983 :\n",
      "-3.0 => 1.48 (nominalized) ;\n",
      "Total difference: 4.48 ;\n",
      "Twelve months' average difference: 0.373 . \n",
      "\n",
      "Year 1983 ~ 1984 :\n",
      "1.48 => 14.96 (nominalized) ;\n",
      "Total difference: 13.48 ;\n",
      "Twelve months' average difference: 1.123 . \n",
      "\n",
      "Year 1984 ~ 1985 :\n",
      "14.96 => 22.77 (nominalized) ;\n",
      "Total difference: 7.809999999999999 ;\n",
      "Twelve months' average difference: 0.651 . \n",
      "\n",
      "Year 1985 ~ 1986 :\n",
      "22.77 => 29.42 (nominalized) ;\n",
      "Total difference: 6.650000000000002 ;\n",
      "Twelve months' average difference: 0.554 . \n",
      "\n",
      "Year 1986 ~ 1987 :\n",
      "29.42 => 40.2 (nominalized) ;\n",
      "Total difference: 10.780000000000001 ;\n",
      "Twelve months' average difference: 0.898 . \n",
      "\n",
      "Year 1987 ~ 1988 :\n",
      "40.2 => 52.42 (nominalized) ;\n",
      "Total difference: 12.219999999999999 ;\n",
      "Twelve months' average difference: 1.018 . \n",
      "\n",
      "Year 1988 ~ 1989 :\n",
      "52.42 => 58.85 (nominalized) ;\n",
      "Total difference: 6.43 ;\n",
      "Twelve months' average difference: 0.536 . \n",
      "\n",
      "Year 1989 ~ 1990 :\n",
      "58.85 => 62.77 (nominalized) ;\n",
      "Total difference: 3.9200000000000017 ;\n",
      "Twelve months' average difference: 0.327 . \n",
      "\n",
      "Year 1990 ~ 1991 :\n",
      "62.77 => 65.17 (nominalized) ;\n",
      "Total difference: 2.3999999999999986 ;\n",
      "Twelve months' average difference: 0.2 . \n",
      "\n",
      "Year 1991 ~ 1992 :\n",
      "65.17 => 67.76 (nominalized) ;\n",
      "Total difference: 2.5900000000000034 ;\n",
      "Twelve months' average difference: 0.216 . \n",
      "\n",
      "Year 1992 ~ 1993 :\n",
      "67.76 => 70.17 (nominalized) ;\n",
      "Total difference: 2.4099999999999966 ;\n",
      "Twelve months' average difference: 0.201 . \n",
      "\n",
      "Year 1993 ~ 1994 :\n",
      "70.17 => 74.65 (nominalized) ;\n",
      "Total difference: 4.480000000000004 ;\n",
      "Twelve months' average difference: 0.373 . \n",
      "\n",
      "Year 1994 ~ 1995 :\n",
      "74.65 => 82.06 (nominalized) ;\n",
      "Total difference: 7.409999999999997 ;\n",
      "Twelve months' average difference: 0.617 . \n",
      "\n",
      "Year 1995 ~ 1996 :\n",
      "82.06 => 92.67 (nominalized) ;\n",
      "Total difference: 10.61 ;\n",
      "Twelve months' average difference: 0.884 . \n",
      "\n",
      "Year 1996 ~ 1997 :\n",
      "92.67 => 96.21 (nominalized) ;\n",
      "Total difference: 3.539999999999992 ;\n",
      "Twelve months' average difference: 0.295 . \n",
      "\n",
      "Year 1997 ~ 1998 :\n",
      "96.21 => 98.56 (nominalized) ;\n",
      "Total difference: 2.3500000000000085 ;\n",
      "Twelve months' average difference: 0.196 . \n",
      "\n",
      "Year 1998 ~ 1999 :\n",
      "98.56 => 105.39 (nominalized) ;\n",
      "Total difference: 6.829999999999998 ;\n",
      "Twelve months' average difference: 0.569 . \n",
      "\n",
      "Year 1999 ~ 2000 :\n",
      "105.39 => 115.04 (nominalized) ;\n",
      "Total difference: 9.650000000000006 ;\n",
      "Twelve months' average difference: 0.804 . \n",
      "\n",
      "Year 2000 ~ 2001 :\n",
      "115.04 => 118.99 (nominalized) ;\n",
      "Total difference: 3.9499999999999886 ;\n",
      "Twelve months' average difference: 0.329 . \n",
      "\n",
      "Year 2001 ~ 2002 :\n",
      "118.99 => 127.72 (nominalized) ;\n",
      "Total difference: 8.730000000000004 ;\n",
      "Twelve months' average difference: 0.728 . \n",
      "\n",
      "Year 2002 ~ 2003 :\n",
      "127.72 => 142.28 (nominalized) ;\n",
      "Total difference: 14.560000000000002 ;\n",
      "Twelve months' average difference: 1.213 . \n",
      "\n",
      "Year 2003 ~ 2004 :\n",
      "142.28 => 162.77 (nominalized) ;\n",
      "Total difference: 20.49000000000001 ;\n",
      "Twelve months' average difference: 1.708 . \n",
      "\n",
      "Year 2004 ~ 2005 :\n",
      "162.77 => 177.62 (nominalized) ;\n",
      "Total difference: 14.849999999999994 ;\n",
      "Twelve months' average difference: 1.237 . \n",
      "\n",
      "Year 2005 ~ 2006 :\n",
      "177.62 => 190.68 (nominalized) ;\n",
      "Total difference: 13.060000000000002 ;\n",
      "Twelve months' average difference: 1.088 . \n",
      "\n",
      "Year 2006 ~ 2007 :\n",
      "190.68 => 205.21 (nominalized) ;\n",
      "Total difference: 14.530000000000001 ;\n",
      "Twelve months' average difference: 1.211 . \n",
      "\n",
      "Year 2007 ~ 2008 :\n",
      "205.21 => 210.77 (nominalized) ;\n",
      "Total difference: 5.560000000000002 ;\n",
      "Twelve months' average difference: 0.463 . \n",
      "\n",
      "Year 2008 ~ 2009 :\n",
      "210.77 => 203.36 (nominalized) ;\n",
      "Total difference: -7.409999999999997 ;\n",
      "Twelve months' average difference: -0.617 . \n",
      "\n",
      "Year 2009 ~ 2010 :\n",
      "203.36 => 226.56 (nominalized) ;\n",
      "Total difference: 23.19999999999999 ;\n",
      "Twelve months' average difference: 1.933 . \n",
      "\n",
      "Year 2010 ~ 2011 :\n",
      "226.56 => 238.85 (nominalized) ;\n",
      "Total difference: 12.289999999999992 ;\n",
      "Twelve months' average difference: 1.024 . \n",
      "\n",
      "Year 2011 ~ 2012 :\n",
      "238.85 => 245.52 (nominalized) ;\n",
      "Total difference: 6.670000000000016 ;\n",
      "Twelve months' average difference: 0.556 . \n",
      "\n",
      "Year 2012 ~ 2013 :\n",
      "245.52 => 255.45 (nominalized) ;\n",
      "Total difference: 9.929999999999978 ;\n",
      "Twelve months' average difference: 0.827 . \n",
      "\n",
      "Year 2013 ~ 2014 :\n",
      "255.45 => 259.79 (nominalized) ;\n",
      "Total difference: 4.340000000000032 ;\n",
      "Twelve months' average difference: 0.362 . \n",
      "\n",
      "Year 2014 ~ 2015 :\n",
      "259.79 => 263.71 (nominalized) ;\n",
      "Total difference: 3.919999999999959 ;\n",
      "Twelve months' average difference: 0.327 . \n",
      "\n",
      "Year 2015 ~ 2016 :\n",
      "263.71 => 271.14 (nominalized) ;\n",
      "Total difference: 7.430000000000007 ;\n",
      "Twelve months' average difference: 0.619 . \n",
      "\n",
      "Year 2016 ~ 2017 :\n",
      "271.14 => 280.96 (nominalized) ;\n",
      "Total difference: 9.819999999999993 ;\n",
      "Twelve months' average difference: 0.818 . \n",
      "\n",
      "Year 2017 ~ 2018 :\n",
      "280.96 => 296.77 (nominalized) ;\n",
      "Total difference: 15.810000000000002 ;\n",
      "Twelve months' average difference: 1.318 . \n",
      "\n",
      "Year 2018 ~ 2019 :\n",
      "296.77 => 304.44 (nominalized) ;\n",
      "Total difference: 7.670000000000016 ;\n",
      "Twelve months' average difference: 0.639 . \n",
      "\n",
      "['1980-1-01', '1980-2-01', '1980-3-01', '1980-4-01', '1980-5-01', '1980-6-01', '1980-7-01', '1980-8-01', '1980-9-01', '1980-10-01', '1980-11-01', '1980-12-01', '1981-1-01', '1981-2-01', '1981-3-01', '1981-4-01', '1981-5-01', '1981-6-01', '1981-7-01', '1981-8-01', '1981-9-01', '1981-10-01', '1981-11-01', '1981-12-01', '1982-1-01', '1982-2-01', '1982-3-01', '1982-4-01', '1982-5-01', '1982-6-01', '1982-7-01', '1982-8-01', '1982-9-01', '1982-10-01', '1982-11-01', '1982-12-01', '1983-1-01', '1983-2-01', '1983-3-01', '1983-4-01', '1983-5-01', '1983-6-01', '1983-7-01', '1983-8-01', '1983-9-01', '1983-10-01', '1983-11-01', '1983-12-01', '1984-1-01', '1984-2-01', '1984-3-01', '1984-4-01', '1984-5-01', '1984-6-01', '1984-7-01', '1984-8-01', '1984-9-01', '1984-10-01', '1984-11-01', '1984-12-01', '1985-1-01', '1985-2-01', '1985-3-01', '1985-4-01', '1985-5-01', '1985-6-01', '1985-7-01', '1985-8-01', '1985-9-01', '1985-10-01', '1985-11-01', '1985-12-01', '1986-1-01', '1986-2-01', '1986-3-01', '1986-4-01', '1986-5-01', '1986-6-01', '1986-7-01', '1986-8-01', '1986-9-01', '1986-10-01', '1986-11-01', '1986-12-01', '1987-1-01', '1987-2-01', '1987-3-01', '1987-4-01', '1987-5-01', '1987-6-01', '1987-7-01', '1987-8-01', '1987-9-01', '1987-10-01', '1987-11-01', '1987-12-01', '1988-1-01', '1988-2-01', '1988-3-01', '1988-4-01', '1988-5-01', '1988-6-01', '1988-7-01', '1988-8-01', '1988-9-01', '1988-10-01', '1988-11-01', '1988-12-01', '1989-1-01', '1989-2-01', '1989-3-01', '1989-4-01', '1989-5-01', '1989-6-01', '1989-7-01', '1989-8-01', '1989-9-01', '1989-10-01', '1989-11-01', '1989-12-01', '1990-1-01', '1990-2-01', '1990-3-01', '1990-4-01', '1990-5-01', '1990-6-01', '1990-7-01', '1990-8-01', '1990-9-01', '1990-10-01', '1990-11-01', '1990-12-01', '1991-1-01', '1991-2-01', '1991-3-01', '1991-4-01', '1991-5-01', '1991-6-01', '1991-7-01', '1991-8-01', '1991-9-01', '1991-10-01', '1991-11-01', '1991-12-01', '1992-1-01', '1992-2-01', '1992-3-01', '1992-4-01', '1992-5-01', '1992-6-01', '1992-7-01', '1992-8-01', '1992-9-01', '1992-10-01', '1992-11-01', '1992-12-01', '1993-1-01', '1993-2-01', '1993-3-01', '1993-4-01', '1993-5-01', '1993-6-01', '1993-7-01', '1993-8-01', '1993-9-01', '1993-10-01', '1993-11-01', '1993-12-01', '1994-1-01', '1994-2-01', '1994-3-01', '1994-4-01', '1994-5-01', '1994-6-01', '1994-7-01', '1994-8-01', '1994-9-01', '1994-10-01', '1994-11-01', '1994-12-01', '1995-1-01', '1995-2-01', '1995-3-01', '1995-4-01', '1995-5-01', '1995-6-01', '1995-7-01', '1995-8-01', '1995-9-01', '1995-10-01', '1995-11-01', '1995-12-01', '1996-1-01', '1996-2-01', '1996-3-01', '1996-4-01', '1996-5-01', '1996-6-01', '1996-7-01', '1996-8-01', '1996-9-01', '1996-10-01', '1996-11-01', '1996-12-01', '1997-1-01', '1997-2-01', '1997-3-01', '1997-4-01', '1997-5-01', '1997-6-01', '1997-7-01', '1997-8-01', '1997-9-01', '1997-10-01', '1997-11-01', '1997-12-01', '1998-1-01', '1998-2-01', '1998-3-01', '1998-4-01', '1998-5-01', '1998-6-01', '1998-7-01', '1998-8-01', '1998-9-01', '1998-10-01', '1998-11-01', '1998-12-01', '1999-1-01', '1999-2-01', '1999-3-01', '1999-4-01', '1999-5-01', '1999-6-01', '1999-7-01', '1999-8-01', '1999-9-01', '1999-10-01', '1999-11-01', '1999-12-01', '2000-1-01', '2000-2-01', '2000-3-01', '2000-4-01', '2000-5-01', '2000-6-01', '2000-7-01', '2000-8-01', '2000-9-01', '2000-10-01', '2000-11-01', '2000-12-01', '2001-1-01', '2001-2-01', '2001-3-01', '2001-4-01', '2001-5-01', '2001-6-01', '2001-7-01', '2001-8-01', '2001-9-01', '2001-10-01', '2001-11-01', '2001-12-01', '2002-1-01', '2002-2-01', '2002-3-01', '2002-4-01', '2002-5-01', '2002-6-01', '2002-7-01', '2002-8-01', '2002-9-01', '2002-10-01', '2002-11-01', '2002-12-01', '2003-1-01', '2003-2-01', '2003-3-01', '2003-4-01', '2003-5-01', '2003-6-01', '2003-7-01', '2003-8-01', '2003-9-01', '2003-10-01', '2003-11-01', '2003-12-01', '2004-1-01', '2004-2-01', '2004-3-01', '2004-4-01', '2004-5-01', '2004-6-01', '2004-7-01', '2004-8-01', '2004-9-01', '2004-10-01', '2004-11-01', '2004-12-01', '2005-1-01', '2005-2-01', '2005-3-01', '2005-4-01', '2005-5-01', '2005-6-01', '2005-7-01', '2005-8-01', '2005-9-01', '2005-10-01', '2005-11-01', '2005-12-01', '2006-1-01', '2006-2-01', '2006-3-01', '2006-4-01', '2006-5-01', '2006-6-01', '2006-7-01', '2006-8-01', '2006-9-01', '2006-10-01', '2006-11-01', '2006-12-01', '2007-1-01', '2007-2-01', '2007-3-01', '2007-4-01', '2007-5-01', '2007-6-01', '2007-7-01', '2007-8-01', '2007-9-01', '2007-10-01', '2007-11-01', '2007-12-01', '2008-1-01', '2008-2-01', '2008-3-01', '2008-4-01', '2008-5-01', '2008-6-01', '2008-7-01', '2008-8-01', '2008-9-01', '2008-10-01', '2008-11-01', '2008-12-01', '2009-1-01', '2009-2-01', '2009-3-01', '2009-4-01', '2009-5-01', '2009-6-01', '2009-7-01', '2009-8-01', '2009-9-01', '2009-10-01', '2009-11-01', '2009-12-01', '2010-1-01', '2010-2-01', '2010-3-01', '2010-4-01', '2010-5-01', '2010-6-01', '2010-7-01', '2010-8-01', '2010-9-01', '2010-10-01', '2010-11-01', '2010-12-01', '2011-1-01', '2011-2-01', '2011-3-01', '2011-4-01', '2011-5-01', '2011-6-01', '2011-7-01', '2011-8-01', '2011-9-01', '2011-10-01', '2011-11-01', '2011-12-01', '2012-1-01', '2012-2-01', '2012-3-01', '2012-4-01', '2012-5-01', '2012-6-01', '2012-7-01', '2012-8-01', '2012-9-01', '2012-10-01', '2012-11-01', '2012-12-01', '2013-1-01', '2013-2-01', '2013-3-01', '2013-4-01', '2013-5-01', '2013-6-01', '2013-7-01', '2013-8-01', '2013-9-01', '2013-10-01', '2013-11-01', '2013-12-01', '2014-1-01', '2014-2-01', '2014-3-01', '2014-4-01', '2014-5-01', '2014-6-01', '2014-7-01', '2014-8-01', '2014-9-01', '2014-10-01', '2014-11-01', '2014-12-01', '2015-1-01', '2015-2-01', '2015-3-01', '2015-4-01', '2015-5-01', '2015-6-01', '2015-7-01', '2015-8-01', '2015-9-01', '2015-10-01', '2015-11-01', '2015-12-01', '2016-1-01', '2016-2-01', '2016-3-01', '2016-4-01', '2016-5-01', '2016-6-01', '2016-7-01', '2016-8-01', '2016-9-01', '2016-10-01', '2016-11-01', '2016-12-01', '2017-1-01', '2017-2-01', '2017-3-01', '2017-4-01', '2017-5-01', '2017-6-01', '2017-7-01', '2017-8-01', '2017-9-01', '2017-10-01', '2017-11-01', '2017-12-01', '2018-1-01', '2018-2-01', '2018-3-01', '2018-4-01', '2018-5-01', '2018-6-01', '2018-7-01', '2018-8-01', '2018-9-01', '2018-10-01', '2018-11-01', '2018-12-01']\n",
      "[0.0, -0.108, -0.216, -0.324, -0.432, -0.54, -0.648, -0.756, -0.864, -0.972, -1.08, -1.188, -1.3, -1.442, -1.584, -1.726, -1.868, -2.01, -2.152, -2.294, -2.436, -2.578, -2.72, -2.862, -3.0, -2.627, -2.254, -1.881, -1.508, -1.135, -0.762, -0.389, -0.016, 0.357, 0.73, 1.103, 1.48, 2.603, 3.726, 4.849, 5.972, 7.095, 8.218, 9.341, 10.464, 11.587, 12.71, 13.833, 14.96, 15.611, 16.262, 16.913, 17.564, 18.215, 18.866, 19.517, 20.168, 20.819, 21.47, 22.121, 22.77, 23.324, 23.878, 24.432, 24.986, 25.54, 26.094, 26.648, 27.202, 27.756, 28.31, 28.864, 29.42, 30.318, 31.216, 32.114, 33.012, 33.91, 34.808, 35.706, 36.604, 37.502, 38.4, 39.298, 40.2, 41.218, 42.236, 43.254, 44.272, 45.29, 46.308, 47.326, 48.344, 49.362, 50.38, 51.398, 52.42, 52.956, 53.492, 54.028, 54.564, 55.1, 55.636, 56.172, 56.708, 57.244, 57.78, 58.316, 58.85, 59.177, 59.504, 59.831, 60.158, 60.485, 60.812, 61.139, 61.466, 61.793, 62.12, 62.447, 62.77, 62.97, 63.17, 63.37, 63.57, 63.77, 63.97, 64.17, 64.37, 64.57, 64.77, 64.97, 65.17, 65.386, 65.602, 65.818, 66.034, 66.25, 66.466, 66.682, 66.898, 67.114, 67.33, 67.546, 67.76, 67.961, 68.162, 68.363, 68.564, 68.765, 68.966, 69.167, 69.368, 69.569, 69.77, 69.971, 70.17, 70.543, 70.916, 71.289, 71.662, 72.035, 72.408, 72.781, 73.154, 73.527, 73.9, 74.273, 74.65, 75.267, 75.884, 76.501, 77.118, 77.735, 78.352, 78.969, 79.586, 80.203, 80.82, 81.437, 82.06, 82.944, 83.828, 84.712, 85.596, 86.48, 87.364, 88.248, 89.132, 90.016, 90.9, 91.784, 92.67, 92.965, 93.26, 93.555, 93.85, 94.145, 94.44, 94.735, 95.03, 95.325, 95.62, 95.915, 96.21, 96.406, 96.602, 96.798, 96.994, 97.19, 97.386, 97.582, 97.778, 97.974, 98.17, 98.366, 98.56, 99.129, 99.698, 100.267, 100.836, 101.405, 101.974, 102.543, 103.112, 103.681, 104.25, 104.819, 105.39, 106.194, 106.998, 107.802, 108.606, 109.41, 110.214, 111.018, 111.822, 112.626, 113.43, 114.234, 115.04, 115.369, 115.698, 116.027, 116.356, 116.685, 117.014, 117.343, 117.672, 118.001, 118.33, 118.659, 118.99, 119.718, 120.446, 121.174, 121.902, 122.63, 123.358, 124.086, 124.814, 125.542, 126.27, 126.998, 127.72, 128.933, 130.146, 131.359, 132.572, 133.785, 134.998, 136.211, 137.424, 138.637, 139.85, 141.063, 142.28, 143.988, 145.696, 147.404, 149.112, 150.82, 152.528, 154.236, 155.944, 157.652, 159.36, 161.068, 162.77, 164.007, 165.244, 166.481, 167.718, 168.955, 170.192, 171.429, 172.666, 173.903, 175.14, 176.377, 177.62, 178.708, 179.796, 180.884, 181.972, 183.06, 184.148, 185.236, 186.324, 187.412, 188.5, 189.588, 190.68, 191.891, 193.102, 194.313, 195.524, 196.735, 197.946, 199.157, 200.368, 201.579, 202.79, 204.001, 205.21, 205.673, 206.136, 206.599, 207.062, 207.525, 207.988, 208.451, 208.914, 209.377, 209.84, 210.303, 210.77, 210.153, 209.536, 208.919, 208.302, 207.685, 207.068, 206.451, 205.834, 205.217, 204.6, 203.983, 203.36, 205.293, 207.226, 209.159, 211.092, 213.025, 214.958, 216.891, 218.824, 220.757, 222.69, 224.623, 226.56, 227.584, 228.608, 229.632, 230.656, 231.68, 232.704, 233.728, 234.752, 235.776, 236.8, 237.824, 238.85, 239.406, 239.962, 240.518, 241.074, 241.63, 242.186, 242.742, 243.298, 243.854, 244.41, 244.966, 245.52, 246.347, 247.174, 248.001, 248.828, 249.655, 250.482, 251.309, 252.136, 252.963, 253.79, 254.617, 255.45, 255.812, 256.174, 256.536, 256.898, 257.26, 257.622, 257.984, 258.346, 258.708, 259.07, 259.432, 259.79, 260.117, 260.444, 260.771, 261.098, 261.425, 261.752, 262.079, 262.406, 262.733, 263.06, 263.387, 263.71, 264.329, 264.948, 265.567, 266.186, 266.805, 267.424, 268.043, 268.662, 269.281, 269.9, 270.519, 271.14, 271.958, 272.776, 273.594, 274.412, 275.23, 276.048, 276.866, 277.684, 278.502, 279.32, 280.138, 280.96, 282.278, 283.596, 284.914, 286.232, 287.55, 288.868, 290.186, 291.504, 292.822, 294.14, 295.458, 296.77, 297.409, 298.048, 298.687, 299.326, 299.965, 300.604, 301.243, 301.882, 302.521, 303.16, 303.799]\n"
     ]
    }
   ],
   "source": [
    "i = 0\n",
    "j = [i for i in np.arange(1, 469, 1)] # 468 = (2019-1980)*12; why add 1?: np.arange(1, 3, 1) => 1,2\n",
    "for year in CSV_YEAR:\n",
    "    if year >= CSV_YEAR[0] and year <= CSV_YEAR[-2]: # year: 1980-2018(here)\n",
    "        i += 1\n",
    "        value_init1 = NOMINAL_VALUE[i-1]\n",
    "        value_init2 = NOMINAL_VALUE[i]\n",
    "        value_difference = (value_init2 - value_init1)\n",
    "        unit_difference = round(value_difference/12,3)\n",
    "        print(\"Year\", str(year), \"~\", str(year+1), \":\")\n",
    "        print(str(value_init1), \"=>\", str(value_init2), \"(nominalized) ;\")\n",
    "        print(\"Total difference:\", str(value_difference), \";\")\n",
    "        print(\"Twelve months' average difference:\", str(unit_difference), \". \\n\")\n",
    "        for month in np.arange(1, 13, 1): # month: 1~12\n",
    "            Year.append(year) # year: 1980-2018(here)\n",
    "            Month.append(int(month))\n",
    "            Year_Month.append(str(year)+\"-\"+str(month)+\"-01\")\n",
    "            if month == 1:\n",
    "                Value.append(value_init1)\n",
    "            elif month >= 2 and month <= 12:\n",
    "                append_value = round(value_init1 + unit_difference*(month-1), 3)\n",
    "                Value.append(append_value)\n",
    "\n",
    "#print(Year)\n",
    "#print(Month)\n",
    "print(Year_Month)\n",
    "print(Value)\n",
    "\n",
    "#print(len(Year))\n",
    "#print(len(Month))\n",
    "#print(len(Value))"
   ]
  },
  {
   "cell_type": "code",
   "execution_count": 8,
   "metadata": {},
   "outputs": [
    {
     "data": {
      "text/plain": [
       "[<matplotlib.lines.Line2D at 0x7f8af770bd10>]"
      ]
     },
     "execution_count": 8,
     "metadata": {},
     "output_type": "execute_result"
    },
    {
     "data": {
      "image/png": "[encoded data removed]",
      "text/plain": [
       "<Figure size 1440x720 with 1 Axes>"
      ]
     },
     "metadata": {
      "needs_background": "light"
     },
     "output_type": "display_data"
    }
   ],
   "source": [
    "plt.figure(figsize=(20,10))\n",
    "plt.plot(j, Value)"
   ]
  },
  {
   "cell_type": "markdown",
   "metadata": {},
   "source": [
    "## Export to a new csv"
   ]
  },
  {
   "cell_type": "code",
   "execution_count": 9,
   "metadata": {},
   "outputs": [],
   "source": [
    "df = pd.DataFrame.from_dict({'Year':Year, 'Month':Month, 'Year-Month':Year_Month, 'Value': Value})\n",
    "df.to_csv('tidy_Value.csv', header=True, index=False)"
   ]
  },
  {
   "cell_type": "code",
   "execution_count": null,
   "metadata": {},
   "outputs": [],
   "source": []
  },
  {
   "cell_type": "code",
   "execution_count": null,
   "metadata": {},
   "outputs": [],
   "source": []
  }
 ],
 "metadata": {
  "kernelspec": {
   "display_name": "Python 3",
   "language": "python",
   "name": "python3"
  },
  "language_info": {
   "codemirror_mode": {
    "name": "ipython",
    "version": 3
   },
   "file_extension": ".py",
   "mimetype": "text/x-python",
   "name": "python",
   "nbconvert_exporter": "python",
   "pygments_lexer": "ipython3",
   "version": "3.7.9"
  }
 },
 "nbformat": 4,
 "nbformat_minor": 4
}
